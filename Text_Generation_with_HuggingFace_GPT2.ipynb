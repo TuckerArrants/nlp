{
  "nbformat": 4,
  "nbformat_minor": 0,
  "metadata": {
    "kernelspec": {
      "language": "python",
      "display_name": "Python 3",
      "name": "python3"
    },
    "language_info": {
      "pygments_lexer": "ipython3",
      "nbconvert_exporter": "python",
      "version": "3.6.4",
      "file_extension": ".py",
      "codemirror_mode": {
        "name": "ipython",
        "version": 3
      },
      "name": "python",
      "mimetype": "text/x-python"
    },
    "colab": {
      "name": "Text Generation with HuggingFace - GPT2.ipynb",
      "provenance": [],
      "include_colab_link": true
    },
    "accelerator": "GPU",
    "widgets": {
      "application/vnd.jupyter.widget-state+json": {
        "dc48a67d769946229679c5e23a15e46a": {
          "model_module": "@jupyter-widgets/controls",
          "model_name": "HBoxModel",
          "state": {
            "_view_name": "HBoxView",
            "_dom_classes": [],
            "_model_name": "HBoxModel",
            "_view_module": "@jupyter-widgets/controls",
            "_model_module_version": "1.5.0",
            "_view_count": null,
            "_view_module_version": "1.5.0",
            "box_style": "",
            "layout": "IPY_MODEL_2c627b29cc344c2b9fe24dbf51260130",
            "_model_module": "@jupyter-widgets/controls",
            "children": [
              "IPY_MODEL_d2fec62b1b0e4847be8ee688f78f0abc",
              "IPY_MODEL_71639c4cc0134bcc90f300c7dbfc8c1b"
            ]
          }
        },
        "2c627b29cc344c2b9fe24dbf51260130": {
          "model_module": "@jupyter-widgets/base",
          "model_name": "LayoutModel",
          "state": {
            "_view_name": "LayoutView",
            "grid_template_rows": null,
            "right": null,
            "justify_content": null,
            "_view_module": "@jupyter-widgets/base",
            "overflow": null,
            "_model_module_version": "1.2.0",
            "_view_count": null,
            "flex_flow": null,
            "width": null,
            "min_width": null,
            "border": null,
            "align_items": null,
            "bottom": null,
            "_model_module": "@jupyter-widgets/base",
            "top": null,
            "grid_column": null,
            "overflow_y": null,
            "overflow_x": null,
            "grid_auto_flow": null,
            "grid_area": null,
            "grid_template_columns": null,
            "flex": null,
            "_model_name": "LayoutModel",
            "justify_items": null,
            "grid_row": null,
            "max_height": null,
            "align_content": null,
            "visibility": null,
            "align_self": null,
            "height": null,
            "min_height": null,
            "padding": null,
            "grid_auto_rows": null,
            "grid_gap": null,
            "max_width": null,
            "order": null,
            "_view_module_version": "1.2.0",
            "grid_template_areas": null,
            "object_position": null,
            "object_fit": null,
            "grid_auto_columns": null,
            "margin": null,
            "display": null,
            "left": null
          }
        },
        "d2fec62b1b0e4847be8ee688f78f0abc": {
          "model_module": "@jupyter-widgets/controls",
          "model_name": "FloatProgressModel",
          "state": {
            "_view_name": "ProgressView",
            "style": "IPY_MODEL_45cda78a0be7424da2a3cc2fe5e509bc",
            "_dom_classes": [],
            "description": "Downloading: 100%",
            "_model_name": "FloatProgressModel",
            "bar_style": "success",
            "max": 3096618024,
            "_view_module": "@jupyter-widgets/controls",
            "_model_module_version": "1.5.0",
            "value": 3096618024,
            "_view_count": null,
            "_view_module_version": "1.5.0",
            "orientation": "horizontal",
            "min": 0,
            "description_tooltip": null,
            "_model_module": "@jupyter-widgets/controls",
            "layout": "IPY_MODEL_f6b9111964dc4c9dbf2c963e247205e2"
          }
        },
        "71639c4cc0134bcc90f300c7dbfc8c1b": {
          "model_module": "@jupyter-widgets/controls",
          "model_name": "HTMLModel",
          "state": {
            "_view_name": "HTMLView",
            "style": "IPY_MODEL_c70b6510c86343de8f26ec40948040f1",
            "_dom_classes": [],
            "description": "",
            "_model_name": "HTMLModel",
            "placeholder": "​",
            "_view_module": "@jupyter-widgets/controls",
            "_model_module_version": "1.5.0",
            "value": " 3.10G/3.10G [03:51&lt;00:00, 13.4MB/s]",
            "_view_count": null,
            "_view_module_version": "1.5.0",
            "description_tooltip": null,
            "_model_module": "@jupyter-widgets/controls",
            "layout": "IPY_MODEL_61c5fd8fe25f48de89ab942188081fd8"
          }
        },
        "45cda78a0be7424da2a3cc2fe5e509bc": {
          "model_module": "@jupyter-widgets/controls",
          "model_name": "ProgressStyleModel",
          "state": {
            "_view_name": "StyleView",
            "_model_name": "ProgressStyleModel",
            "description_width": "initial",
            "_view_module": "@jupyter-widgets/base",
            "_model_module_version": "1.5.0",
            "_view_count": null,
            "_view_module_version": "1.2.0",
            "bar_color": null,
            "_model_module": "@jupyter-widgets/controls"
          }
        },
        "f6b9111964dc4c9dbf2c963e247205e2": {
          "model_module": "@jupyter-widgets/base",
          "model_name": "LayoutModel",
          "state": {
            "_view_name": "LayoutView",
            "grid_template_rows": null,
            "right": null,
            "justify_content": null,
            "_view_module": "@jupyter-widgets/base",
            "overflow": null,
            "_model_module_version": "1.2.0",
            "_view_count": null,
            "flex_flow": null,
            "width": null,
            "min_width": null,
            "border": null,
            "align_items": null,
            "bottom": null,
            "_model_module": "@jupyter-widgets/base",
            "top": null,
            "grid_column": null,
            "overflow_y": null,
            "overflow_x": null,
            "grid_auto_flow": null,
            "grid_area": null,
            "grid_template_columns": null,
            "flex": null,
            "_model_name": "LayoutModel",
            "justify_items": null,
            "grid_row": null,
            "max_height": null,
            "align_content": null,
            "visibility": null,
            "align_self": null,
            "height": null,
            "min_height": null,
            "padding": null,
            "grid_auto_rows": null,
            "grid_gap": null,
            "max_width": null,
            "order": null,
            "_view_module_version": "1.2.0",
            "grid_template_areas": null,
            "object_position": null,
            "object_fit": null,
            "grid_auto_columns": null,
            "margin": null,
            "display": null,
            "left": null
          }
        },
        "c70b6510c86343de8f26ec40948040f1": {
          "model_module": "@jupyter-widgets/controls",
          "model_name": "DescriptionStyleModel",
          "state": {
            "_view_name": "StyleView",
            "_model_name": "DescriptionStyleModel",
            "description_width": "",
            "_view_module": "@jupyter-widgets/base",
            "_model_module_version": "1.5.0",
            "_view_count": null,
            "_view_module_version": "1.2.0",
            "_model_module": "@jupyter-widgets/controls"
          }
        },
        "61c5fd8fe25f48de89ab942188081fd8": {
          "model_module": "@jupyter-widgets/base",
          "model_name": "LayoutModel",
          "state": {
            "_view_name": "LayoutView",
            "grid_template_rows": null,
            "right": null,
            "justify_content": null,
            "_view_module": "@jupyter-widgets/base",
            "overflow": null,
            "_model_module_version": "1.2.0",
            "_view_count": null,
            "flex_flow": null,
            "width": null,
            "min_width": null,
            "border": null,
            "align_items": null,
            "bottom": null,
            "_model_module": "@jupyter-widgets/base",
            "top": null,
            "grid_column": null,
            "overflow_y": null,
            "overflow_x": null,
            "grid_auto_flow": null,
            "grid_area": null,
            "grid_template_columns": null,
            "flex": null,
            "_model_name": "LayoutModel",
            "justify_items": null,
            "grid_row": null,
            "max_height": null,
            "align_content": null,
            "visibility": null,
            "align_self": null,
            "height": null,
            "min_height": null,
            "padding": null,
            "grid_auto_rows": null,
            "grid_gap": null,
            "max_width": null,
            "order": null,
            "_view_module_version": "1.2.0",
            "grid_template_areas": null,
            "object_position": null,
            "object_fit": null,
            "grid_auto_columns": null,
            "margin": null,
            "display": null,
            "left": null
          }
        }
      }
    }
  },
  "cells": [
    {
      "cell_type": "markdown",
      "metadata": {
        "id": "view-in-github",
        "colab_type": "text"
      },
      "source": [
        "<a href=\"https://colab.research.google.com/github/TuckerArrants/nlp/blob/master/Text_Generation_with_HuggingFace_GPT2.ipynb\" target=\"_parent\"><img src=\"https://colab.research.google.com/assets/colab-badge.svg\" alt=\"Open In Colab\"/></a>"
      ]
    },
    {
      "cell_type": "code",
      "metadata": {
        "trusted": true,
        "id": "VEOwJV_RjVdN",
        "colab_type": "code",
        "colab": {
          "base_uri": "https://localhost:8080/",
          "height": 340
        },
        "outputId": "40623866-cbae-4daa-cb14-37268deae07a"
      },
      "source": [
        "!pip install transformers"
      ],
      "execution_count": 1,
      "outputs": [
        {
          "output_type": "stream",
          "text": [
            "Requirement already satisfied: transformers in /usr/local/lib/python3.6/dist-packages (3.0.2)\n",
            "Requirement already satisfied: sentencepiece!=0.1.92 in /usr/local/lib/python3.6/dist-packages (from transformers) (0.1.91)\n",
            "Requirement already satisfied: filelock in /usr/local/lib/python3.6/dist-packages (from transformers) (3.0.12)\n",
            "Requirement already satisfied: sacremoses in /usr/local/lib/python3.6/dist-packages (from transformers) (0.0.43)\n",
            "Requirement already satisfied: dataclasses; python_version < \"3.7\" in /usr/local/lib/python3.6/dist-packages (from transformers) (0.7)\n",
            "Requirement already satisfied: tqdm>=4.27 in /usr/local/lib/python3.6/dist-packages (from transformers) (4.41.1)\n",
            "Requirement already satisfied: requests in /usr/local/lib/python3.6/dist-packages (from transformers) (2.23.0)\n",
            "Requirement already satisfied: packaging in /usr/local/lib/python3.6/dist-packages (from transformers) (20.4)\n",
            "Requirement already satisfied: numpy in /usr/local/lib/python3.6/dist-packages (from transformers) (1.18.5)\n",
            "Requirement already satisfied: regex!=2019.12.17 in /usr/local/lib/python3.6/dist-packages (from transformers) (2019.12.20)\n",
            "Requirement already satisfied: tokenizers==0.8.1.rc1 in /usr/local/lib/python3.6/dist-packages (from transformers) (0.8.1rc1)\n",
            "Requirement already satisfied: click in /usr/local/lib/python3.6/dist-packages (from sacremoses->transformers) (7.1.2)\n",
            "Requirement already satisfied: six in /usr/local/lib/python3.6/dist-packages (from sacremoses->transformers) (1.15.0)\n",
            "Requirement already satisfied: joblib in /usr/local/lib/python3.6/dist-packages (from sacremoses->transformers) (0.16.0)\n",
            "Requirement already satisfied: certifi>=2017.4.17 in /usr/local/lib/python3.6/dist-packages (from requests->transformers) (2020.6.20)\n",
            "Requirement already satisfied: urllib3!=1.25.0,!=1.25.1,<1.26,>=1.21.1 in /usr/local/lib/python3.6/dist-packages (from requests->transformers) (1.24.3)\n",
            "Requirement already satisfied: chardet<4,>=3.0.2 in /usr/local/lib/python3.6/dist-packages (from requests->transformers) (3.0.4)\n",
            "Requirement already satisfied: idna<3,>=2.5 in /usr/local/lib/python3.6/dist-packages (from requests->transformers) (2.10)\n",
            "Requirement already satisfied: pyparsing>=2.0.2 in /usr/local/lib/python3.6/dist-packages (from packaging->transformers) (2.4.7)\n"
          ],
          "name": "stdout"
        }
      ]
    },
    {
      "cell_type": "markdown",
      "metadata": {
        "id": "r195oFjQjVdQ",
        "colab_type": "text"
      },
      "source": [
        "# Experimenting with HuggingFace - Text Generation\n",
        "\n",
        "*Author: Tucker Arrants*\n",
        "\n",
        "**I have recently decided to explore the ins and outs of the 😊 Transformers library and this is the next chapter in that journey. In this notebook, I will explore text generation using a GPT-2, which was trained the predict next words on 40GB of Internet text data. The fully trained model is actually not available as the creators were concerned about '[malicious applications of the technology](https://openai.com/blog/better-language-models/)', but there is a much smaller version that is available for enthusiants to play with, which we will use here**\n",
        "\n",
        "**In this notebook, we will explore different decoding methods like Beam search, Top-K sampling, and Top-P sampling, demonstrating their performance along the way. This project is a work in progress and I will continually update it as I learn more about text generation. Feel free to comment with any questions/suggestions:**"
      ]
    },
    {
      "cell_type": "code",
      "metadata": {
        "trusted": true,
        "id": "1Y89gIAfjVdQ",
        "colab_type": "code",
        "colab": {}
      },
      "source": [
        "#for reproducability\n",
        "SEED = 50\n",
        "\n",
        "#maximum number of words in output text\n",
        "MAX_LEN = 34"
      ],
      "execution_count": 2,
      "outputs": []
    },
    {
      "cell_type": "markdown",
      "metadata": {
        "id": "_S1DPcDDjVdT",
        "colab_type": "text"
      },
      "source": [
        "# I. Intro\n",
        "\n",
        "**A language model is a machine learning model that can look at part of a sentence and predict the next word/sequence of words. Much like the autofill features on your iPhone/Android, GPT-2 is capable of next word prediction on a much larger and more sophisticated scale. For reference, the smallest available GPT-2 has 117 million parameters, whereas the largest one (invisible to the public) has over 1.5 billion parameters. The largest one available for public use is half the size of their main GPT-2 model**\n",
        "\n",
        "**😊 Transformers makes it very easy to import this model with both PyTorch and TensorFlow - in this notebook we will be using TensorFlow but it is just as easy in PyTorch. Both the model and its Tokenizer can be imported from the `transformers` library that anyone can get by typing `!pip install transformers`. Let's see just how simple it is to generate text with a neural network. We begin with our input sequence:**"
      ]
    },
    {
      "cell_type": "code",
      "metadata": {
        "trusted": true,
        "id": "UH5tK-6IjVdT",
        "colab_type": "code",
        "colab": {}
      },
      "source": [
        "input_sequence = \"Liverpool is the best soccer team in the Premier League\""
      ],
      "execution_count": 3,
      "outputs": []
    },
    {
      "cell_type": "markdown",
      "metadata": {
        "id": "aXf3koLzjVdV",
        "colab_type": "text"
      },
      "source": [
        "**We will choose the largest available GPT-2 model but it is easy to install the other sizes if you want to mess around with them:**"
      ]
    },
    {
      "cell_type": "code",
      "metadata": {
        "trusted": true,
        "id": "YIT2Buy5jVdW",
        "colab_type": "code",
        "colab": {
          "base_uri": "https://localhost:8080/",
          "height": 304,
          "referenced_widgets": [
            "dc48a67d769946229679c5e23a15e46a",
            "2c627b29cc344c2b9fe24dbf51260130",
            "d2fec62b1b0e4847be8ee688f78f0abc",
            "71639c4cc0134bcc90f300c7dbfc8c1b",
            "45cda78a0be7424da2a3cc2fe5e509bc",
            "f6b9111964dc4c9dbf2c963e247205e2",
            "c70b6510c86343de8f26ec40948040f1",
            "61c5fd8fe25f48de89ab942188081fd8"
          ]
        },
        "outputId": "08ca7b3e-4575-45f8-ae7f-567167072e5b"
      },
      "source": [
        "#get transformers\n",
        "from transformers import TFGPT2LMHeadModel, GPT2Tokenizer\n",
        "\n",
        "#get large GPT2 tokenizer and GPT2 model\n",
        "tokenizer = GPT2Tokenizer.from_pretrained(\"gpt2-large\")\n",
        "GPT2 = TFGPT2LMHeadModel.from_pretrained(\"gpt2-large\", pad_token_id=tokenizer.eos_token_id)\n",
        "\n",
        "#tokenizer = GPT2Tokenizer.from_pretrained(\"gpt2-medium\")\n",
        "#GPT2 = TFGPT2LMHeadModel.from_pretrained(\"gpt2-medium\", pad_token_id=tokenizer.eos_token_id)\n",
        "\n",
        "#tokenizer = GPT2Tokenizer.from_pretrained(\"gpt2\")\n",
        "#GPT2 = TFGPT2LMHeadModel.from_pretrained(\"gpt2\", pad_token_id=tokenizer.eos_token_id)\n",
        "\n",
        "#view model parameters\n",
        "GPT2.summary()"
      ],
      "execution_count": 4,
      "outputs": [
        {
          "output_type": "display_data",
          "data": {
            "application/vnd.jupyter.widget-view+json": {
              "model_id": "dc48a67d769946229679c5e23a15e46a",
              "version_minor": 0,
              "version_major": 2
            },
            "text/plain": [
              "HBox(children=(FloatProgress(value=0.0, description='Downloading', max=3096618024.0, style=ProgressStyle(descr…"
            ]
          },
          "metadata": {
            "tags": []
          }
        },
        {
          "output_type": "stream",
          "text": [
            "\n"
          ],
          "name": "stdout"
        },
        {
          "output_type": "stream",
          "text": [
            "All model checkpoint weights were used when initializing TFGPT2LMHeadModel.\n",
            "\n",
            "All the weights of TFGPT2LMHeadModel were initialized from the model checkpoint at gpt2-large.\n",
            "If your task is similar to the task the model of the ckeckpoint was trained on, you can already use TFGPT2LMHeadModel for predictions without further training.\n"
          ],
          "name": "stderr"
        },
        {
          "output_type": "stream",
          "text": [
            "Model: \"tfgp_t2lm_head_model\"\n",
            "_________________________________________________________________\n",
            "Layer (type)                 Output Shape              Param #   \n",
            "=================================================================\n",
            "transformer (TFGPT2MainLayer multiple                  774030080 \n",
            "=================================================================\n",
            "Total params: 774,030,080\n",
            "Trainable params: 774,030,080\n",
            "Non-trainable params: 0\n",
            "_________________________________________________________________\n"
          ],
          "name": "stdout"
        }
      ]
    },
    {
      "cell_type": "markdown",
      "metadata": {
        "id": "n5FRRlBfjVdY",
        "colab_type": "text"
      },
      "source": [
        "**Wow, we just imported a deep learning model with more than 774 million parameters in just a couple lines of code with HuggingFace. Now let's see what we can do with it:**"
      ]
    },
    {
      "cell_type": "markdown",
      "metadata": {
        "id": "GQapql1pjVdY",
        "colab_type": "text"
      },
      "source": [
        "# II. Different Decoding Methods\n",
        "\n",
        "## First Pass (Greedy Search)\n",
        "\n",
        "**With Greedy search, the word with the highest probability is predicted as the next word i.e. the next word is updated via:**\n",
        "\n",
        "$$w_t = argmax_{w}P(w | w_{1:t-1})$$\n",
        "\n",
        "**at each timestep $t$. Let's see how this naive approach performs:**"
      ]
    },
    {
      "cell_type": "code",
      "metadata": {
        "trusted": true,
        "id": "7tU9S8CRjVdZ",
        "colab_type": "code",
        "colab": {}
      },
      "source": [
        "#get deep learning basics\n",
        "import tensorflow as tf\n",
        "tf.random.set_seed(SEED)"
      ],
      "execution_count": 5,
      "outputs": []
    },
    {
      "cell_type": "code",
      "metadata": {
        "trusted": true,
        "id": "qvISzSg_jVdb",
        "colab_type": "code",
        "colab": {
          "base_uri": "https://localhost:8080/",
          "height": 68
        },
        "outputId": "a3e32426-2d43-43e1-c3e4-3c9b7eade502"
      },
      "source": [
        "# encode context the generation is conditioned on\n",
        "input_ids = tokenizer.encode(input_sequence, return_tensors='tf')\n",
        "\n",
        "# generate text until the output length (which includes the context length) reaches 50\n",
        "greedy_output = GPT2.generate(input_ids, max_length = MAX_LEN)\n",
        "\n",
        "print(\"Output:\\n\" + 100 * '-')\n",
        "print(tokenizer.decode(greedy_output[0], skip_special_tokens = True))"
      ],
      "execution_count": 6,
      "outputs": [
        {
          "output_type": "stream",
          "text": [
            "Output:\n",
            "----------------------------------------------------------------------------------------------------\n",
            "Liverpool is the best soccer team in the Premier League, and they're going to be the best team in the Premier League for a long time,\" he said. \"They\n"
          ],
          "name": "stdout"
        }
      ]
    },
    {
      "cell_type": "markdown",
      "metadata": {
        "id": "Si0zHv4ojVdd",
        "colab_type": "text"
      },
      "source": [
        "**And there we go: generating text is that easy. Our results are not great - as we can see, our model starts repeating itself rather quickly. The main issue with Greedy Search is that words with high probabilities can be masked by words in front of them with low probabilities, so the model is unable to explore more diverse combinations of words. We can prevent this by implementing Beam Search:**"
      ]
    },
    {
      "cell_type": "markdown",
      "metadata": {
        "id": "wLQN01EmjVde",
        "colab_type": "text"
      },
      "source": [
        "## Beam Search with N-Gram Penalities\n",
        "\n",
        "**Beam search is essentially Greedy Search but the model tracks and keeps `num_beams` of hypotheses at each time step, so the model is able to compare alternative paths as it generates text. We can also include a n-gram penalty by setting `no_repeat_ngram_size = 2` which ensures that no 2-grams appear twice. We will also set `num_return_sequences = 5` so we can see what the other 5 beams looked like**\n",
        "\n",
        "**To use Beam Search, we need only modify some parameters in the `generate` function:**"
      ]
    },
    {
      "cell_type": "code",
      "metadata": {
        "trusted": true,
        "id": "EfKIlSFfjVde",
        "colab_type": "code",
        "colab": {
          "base_uri": "https://localhost:8080/",
          "height": 340
        },
        "outputId": "76496e68-f3c4-4db8-8b45-ab5a220e3df3"
      },
      "source": [
        "# set return_num_sequences > 1\n",
        "beam_outputs = GPT2.generate(\n",
        "    input_ids, \n",
        "    max_length = MAX_LEN, \n",
        "    num_beams = 5, \n",
        "    no_repeat_ngram_size = 2, \n",
        "    num_return_sequences = 5, \n",
        "    early_stopping = True\n",
        ")\n",
        "\n",
        "print('')\n",
        "print(\"Output:\\n\" + 100 * '-')\n",
        "\n",
        "# now we have 3 output sequences\n",
        "for i, beam_output in enumerate(beam_outputs):\n",
        "      print(\"{}: {}\".format(i, tokenizer.decode(beam_output, skip_special_tokens=True)))"
      ],
      "execution_count": 7,
      "outputs": [
        {
          "output_type": "stream",
          "text": [
            "\n",
            "Output:\n",
            "----------------------------------------------------------------------------------------------------\n",
            "0: Liverpool is the best soccer team in the Premier League,\" he said.\n",
            "\n",
            "\"It's a great club and I'm very proud to be a part of it.\n",
            "1: Liverpool is the best soccer team in the Premier League,\" he said.\n",
            "\n",
            "\"It's a great club and I'm very proud to be a part of it.\"\n",
            "2: Liverpool is the best soccer team in the Premier League,\" he said.\n",
            "\n",
            "\"It's a great club and I'm very proud to be part of it.\"\n",
            "\n",
            "3: Liverpool is the best soccer team in the Premier League,\" he said.\n",
            "\n",
            "\"It's a great club and I'm very proud to be a part of it and\n",
            "4: Liverpool is the best soccer team in the Premier League,\" he said.\n",
            "\n",
            "\"It's a great club and I'm very proud to be part of it. I\n"
          ],
          "name": "stdout"
        }
      ]
    },
    {
      "cell_type": "markdown",
      "metadata": {
        "id": "IjDJxpD0jVdg",
        "colab_type": "text"
      },
      "source": [
        "**Now that's much better! The 5 different beam hypotheses are pretty much all the same, but if we increaed `num_beams`, then we would see some more variation in the separate beams. But of course, Beam Search is not perfect either. It works well when the legnth of the generated text is more or less constant, like problems in translation or summarization, but not so much for open-ended problems like dialog or story generation (because it is much harder to find a balance between `num_beams` and `no_repeat_ngram_size`)**\n",
        "\n",
        "**Furthermore, [research](https://arxiv.org/abs/1904.09751) shows that human languages do not follow this 'high probability word next' distribution. This makes sense - if my words were exactly what you expected them to be, I would be quite a boring person and most people don't want to be boring! The below graph plots the difference of Beam Search and actual human speech: ![alt text](https://blog.fastforwardlabs.com/images/2019/05/Screen_Shot_2019_05_08_at_3_06_36_PM-1557342561886.png)**\n",
        "\n",
        "Taken from original paper [here](https://arxiv.org/abs/1904.09751)"
      ]
    },
    {
      "cell_type": "markdown",
      "metadata": {
        "id": "-OOQ_eOejVdg",
        "colab_type": "text"
      },
      "source": [
        "## Basic Sampling\n",
        "\n",
        "**Now we will explore indeterministic decodings - sampling. Instead of following a strict path to find the end text with the highest probability, we instead randomly pick the next word by its conditional probability distribution:**\n",
        "\n",
        "$$w_t \\sim P(w|w_{1:t-1})$$\n",
        "\n",
        "**However, when we include this randomness, the generated text tends to be incoherent (see more [here](https://arxiv.org/pdf/1904.09751.pdf)) so we can include the `temperature` parameter which increases the chances of high probability words and decreases the chances of low probability words in the sampling:**\n",
        "\n",
        "**We just need to set `do_sample = True` to implement sampling and for demonstration purposes (you'll shortly see why) we set `top_k = 0`:**"
      ]
    },
    {
      "cell_type": "code",
      "metadata": {
        "trusted": true,
        "id": "Iuiq6BSbjVdg",
        "colab_type": "code",
        "colab": {
          "base_uri": "https://localhost:8080/",
          "height": 102
        },
        "outputId": "7a77a5b5-6cf2-49a6-b2e5-a2767b36ebd7"
      },
      "source": [
        "# use temperature to decrease the sensitivity to low probability candidates\n",
        "sample_output = GPT2.generate(\n",
        "                             input_ids, \n",
        "                             do_sample = True, \n",
        "                             max_length = MAX_LEN, \n",
        "                             top_k = 0, \n",
        "                             temperature = 0.8\n",
        ")\n",
        "\n",
        "print(\"Output:\\n\" + 100 * '-')\n",
        "print(tokenizer.decode(sample_output[0], skip_special_tokens = True))"
      ],
      "execution_count": 8,
      "outputs": [
        {
          "output_type": "stream",
          "text": [
            "Output:\n",
            "----------------------------------------------------------------------------------------------------\n",
            "Liverpool is the best soccer team in the Premier League\n",
            "\n",
            "\"After spending so much time talking to fans, I can see a real sense of pride for the club and\n"
          ],
          "name": "stdout"
        }
      ]
    },
    {
      "cell_type": "markdown",
      "metadata": {
        "id": "9tseihZnjVdi",
        "colab_type": "text"
      },
      "source": [
        "## Top-K Sampling\n",
        "\n",
        "**In Top-K sampling, the top k most likely next words are selected and the entire probability mass is shifted to these k words. So instead of increasing the chances of high probability words occuring and decreasing the chances of low probabillity words, we just remove low probability words all together**\n",
        "\n",
        "**We just need to set `top_k` to however many of the top words we want to consider for our conditional probability distribution:**"
      ]
    },
    {
      "cell_type": "code",
      "metadata": {
        "trusted": true,
        "id": "K-68AIi3jVdj",
        "colab_type": "code",
        "colab": {
          "base_uri": "https://localhost:8080/",
          "height": 88
        },
        "outputId": "35a022b6-ed9a-4f24-df2d-c170dc167b58"
      },
      "source": [
        "#sample from only top_k most likely words\n",
        "sample_output = GPT2.generate(\n",
        "                             input_ids, \n",
        "                             do_sample = True, \n",
        "                             max_length = MAX_LEN, \n",
        "                             top_k = 50\n",
        ")\n",
        "\n",
        "print(\"Output:\\n\" + 100 * '-')\n",
        "print(tokenizer.decode(sample_output[0], skip_special_tokens = True), '...')"
      ],
      "execution_count": 9,
      "outputs": [
        {
          "output_type": "stream",
          "text": [
            "Output:\n",
            "----------------------------------------------------------------------------------------------------\n",
            "Liverpool is the best soccer team in the Premier League right now, it is going to be hard to beat them in the future, and I think the fans are looking towards ...\n"
          ],
          "name": "stdout"
        }
      ]
    },
    {
      "cell_type": "markdown",
      "metadata": {
        "id": "Mz7mog9xjVdk",
        "colab_type": "text"
      },
      "source": [
        "**Top-K Sampling seems to generate more coherent text than our random sampling before. But we can do even better:**"
      ]
    },
    {
      "cell_type": "markdown",
      "metadata": {
        "id": "LbVDjsa3jVdl",
        "colab_type": "text"
      },
      "source": [
        "## Top-P Sampling\n",
        "\n",
        "**Top-P sampling (also known as nucleus sampling) is similar to Top-K, but instead of choosing the top k most likely wordsm we choose the smallest set of words whose total probability is larger than p, and then the entire probability mass is shifted to the words in this set**\n",
        "\n",
        "**The main difference here is that with Top-K sampling, the size of the set of words is static (obviously) whereas in Top-P sampling, the size of the set can change. To use this sampling method, we just set `top_k = 0` and choose a value `top_p`:**"
      ]
    },
    {
      "cell_type": "code",
      "metadata": {
        "trusted": true,
        "id": "lutPCp-TjVdl",
        "colab_type": "code",
        "colab": {
          "base_uri": "https://localhost:8080/",
          "height": 102
        },
        "outputId": "4f78cb2f-d72f-4268-ee6c-11f9832f2428"
      },
      "source": [
        "#sample only from 80% most likely words\n",
        "sample_output = GPT2.generate(\n",
        "                             input_ids, \n",
        "                             do_sample = True, \n",
        "                             max_length = MAX_LEN, \n",
        "                             top_p = 0.8, \n",
        "                             top_k = 0\n",
        ")\n",
        "\n",
        "print(\"Output:\\n\" + 100 * '-')\n",
        "print(tokenizer.decode(sample_output[0], skip_special_tokens = True), '...')"
      ],
      "execution_count": 10,
      "outputs": [
        {
          "output_type": "stream",
          "text": [
            "Output:\n",
            "----------------------------------------------------------------------------------------------------\n",
            "Liverpool is the best soccer team in the Premier League, and they can play in Europe at any time.\"\n",
            "\n",
            "Dennis, who is leading the effort to save the ...\n"
          ],
          "name": "stdout"
        }
      ]
    },
    {
      "cell_type": "markdown",
      "metadata": {
        "id": "Cb3lsGjtjVdn",
        "colab_type": "text"
      },
      "source": [
        "## Top-K and Top-P Sampling\n",
        "\n",
        "**As you could have probably guessed, we can use both Top-K and Top-P sampling here. This reduces the chances of us getting weird words (low probability words) while allowing for a dynamic selection size. We need only top a value for both `top_k` and `top_p`. We can even include the inital temperature parameter if we want to, Let's now see how our model performs now after adding everything together. We will check the top 5 return to see how diverse our answers are:**"
      ]
    },
    {
      "cell_type": "code",
      "metadata": {
        "trusted": true,
        "id": "97pHqJvUjVdo",
        "colab_type": "code",
        "colab": {
          "base_uri": "https://localhost:8080/",
          "height": 479
        },
        "outputId": "8133a634-8fdd-4fa6-b381-93264c214a72"
      },
      "source": [
        "#combine both sampling techniques\n",
        "sample_outputs = GPT2.generate(\n",
        "                              input_ids,\n",
        "                              do_sample = True, \n",
        "                              max_length = 2*MAX_LEN,                              #to test how long we can generate and it be coherent\n",
        "                              #temperature = .7,\n",
        "                              top_k = 50, \n",
        "                              top_p = 0.85, \n",
        "                              num_return_sequences = 5\n",
        ")\n",
        "\n",
        "print(\"Output:\\n\" + 100 * '-')\n",
        "for i, sample_output in enumerate(sample_outputs):\n",
        "    print(\"{}: {}...\".format(i, tokenizer.decode(sample_output, skip_special_tokens = True)))\n",
        "    print('')"
      ],
      "execution_count": 11,
      "outputs": [
        {
          "output_type": "stream",
          "text": [
            "Output:\n",
            "----------------------------------------------------------------------------------------------------\n",
            "0: Liverpool is the best soccer team in the Premier League, period. If there was a poll, they'd win. They're the most popular team and the most popular team in the country, period.\"\n",
            "\n",
            "That's not to say the Red Bulls have a ton of fans. In fact, they're in the bottom third of the league...\n",
            "\n",
            "1: Liverpool is the best soccer team in the Premier League right now, but we need to go into it knowing that the club is also a great business and we have to get the right players,\" said Klopp, who won the Premier League title with Liverpool in 2013 and then guided the Reds to the Champions League final in 2016.\n",
            "\n",
            "\"So...\n",
            "\n",
            "2: Liverpool is the best soccer team in the Premier League.\"\n",
            "\n",
            "The striker scored a spectacular volley for City against Watford in the League Cup at the weekend.\n",
            "\n",
            "He will now be hoping to inspire Liverpool's first win of the Premier League season on Saturday.\n",
            "\n",
            "City have won their last five matches, which has seen them climb...\n",
            "\n",
            "3: Liverpool is the best soccer team in the Premier League, but we have a problem. We need to play at a higher level.\"\n",
            "\n",
            "While Klopp is right to point out that it's impossible for all the players at Liverpool to perform at a level that has seen them finish fourth last season, it's easy to understand why players from the...\n",
            "\n",
            "4: Liverpool is the best soccer team in the Premier League,\" said a statement. \"We are very proud of our team and our fans and look forward to working with the club as they continue to compete in the Premier League.\"\n",
            "\n",
            "The club said it had completed the transfer of former Barcelona winger Ivan Rakitic and midfielder Javier Mascherano from...\n",
            "\n"
          ],
          "name": "stdout"
        }
      ]
    },
    {
      "cell_type": "markdown",
      "metadata": {
        "id": "2l-MJQq0jVdp",
        "colab_type": "text"
      },
      "source": [
        "# III. Benchmark Prompts\n",
        "\n",
        "**Here, we will see how well the GPT-2 model does when given some more interesting inputs. The following prompts are taken from [OpenAI's GPT2](https://openai.com/blog/better-language-models/) website where they feed them to their full sized GPT2 model (and the results are astounding, I highly recommend you check out their [page](https://openai.com/)**"
      ]
    },
    {
      "cell_type": "code",
      "metadata": {
        "trusted": true,
        "id": "hYQUvfXCjVds",
        "colab_type": "code",
        "colab": {}
      },
      "source": [
        "MAX_LEN = 100"
      ],
      "execution_count": 12,
      "outputs": []
    },
    {
      "cell_type": "markdown",
      "metadata": {
        "id": "GyjHEKXnjVdu",
        "colab_type": "text"
      },
      "source": [
        "## \"In a shocking finding, scientist discovered a herd of unicorns living in a remote, previously unexplored valley, in the Andes Mountains. Even more surprising to the researchers was the fact that the unicorns spoke perfect English.\""
      ]
    },
    {
      "cell_type": "code",
      "metadata": {
        "trusted": true,
        "id": "B-u47d_XjVdu",
        "colab_type": "code",
        "colab": {}
      },
      "source": [
        "prompt1 = 'In a shocking finding, scientist discovered a herd of unicorns living in a remote, previously unexplored valley, in the Andes Mountains. Even more surprising to the researchers was the fact that the unicorns spoke perfect English.'\n",
        "\n",
        "input_ids = tokenizer.encode(prompt1, return_tensors='tf')"
      ],
      "execution_count": 13,
      "outputs": []
    },
    {
      "cell_type": "code",
      "metadata": {
        "trusted": true,
        "id": "eYgET5wIjVdw",
        "colab_type": "code",
        "colab": {
          "base_uri": "https://localhost:8080/",
          "height": 139
        },
        "outputId": "ec728f40-f9a1-4df8-b079-90d32a3b0999"
      },
      "source": [
        "sample_outputs = GPT2.generate(\n",
        "                              input_ids,\n",
        "                              do_sample = True, \n",
        "                              max_length = MAX_LEN,                              #to test how long we can generate and it be coherent\n",
        "                              #temperature = .8,\n",
        "                              top_k = 50, \n",
        "                              top_p = 0.85 \n",
        "                              #num_return_sequences = 5\n",
        ")\n",
        "\n",
        "print(\"Output:\\n\" + 100 * '-')\n",
        "for i, sample_output in enumerate(sample_outputs):\n",
        "    print(\"{}: {}...\".format(i, tokenizer.decode(sample_output, skip_special_tokens = True)))\n",
        "    print('')"
      ],
      "execution_count": 14,
      "outputs": [
        {
          "output_type": "stream",
          "text": [
            "Output:\n",
            "----------------------------------------------------------------------------------------------------\n",
            "0: In a shocking finding, scientist discovered a herd of unicorns living in a remote, previously unexplored valley, in the Andes Mountains. Even more surprising to the researchers was the fact that the unicorns spoke perfect English. The new findings could open up a whole new world of unicorns and could help scientists understand what makes them unique and special.\n",
            "\n",
            "\"It's so exciting to see a species in the wild who speaks so perfectly,\" said Dr. David Smith, a graduate student in wildlife...\n",
            "\n"
          ],
          "name": "stdout"
        }
      ]
    },
    {
      "cell_type": "markdown",
      "metadata": {
        "id": "031zayoJjVdy",
        "colab_type": "text"
      },
      "source": [
        "## \"Miley Cyrus was caught shoplifting from Abercrombie and Fitch on Hollywood Boulevard today.\"\n",
        "\n",
        "**Can we use GPT-2 to generate fake news stories?**"
      ]
    },
    {
      "cell_type": "code",
      "metadata": {
        "trusted": true,
        "id": "7bW9pCh7jVdy",
        "colab_type": "code",
        "colab": {}
      },
      "source": [
        "prompt2 = 'Miley Cyrus was caught shoplifting from Abercrombie and Fitch on Hollywood Boulevard today.'\n",
        "\n",
        "input_ids = tokenizer.encode(prompt2, return_tensors='tf')"
      ],
      "execution_count": 15,
      "outputs": []
    },
    {
      "cell_type": "code",
      "metadata": {
        "trusted": true,
        "id": "2I2vDA6ajVd0",
        "colab_type": "code",
        "colab": {
          "base_uri": "https://localhost:8080/",
          "height": 173
        },
        "outputId": "11c4bafe-ff63-4c7a-d89f-8270488b1ca1"
      },
      "source": [
        "sample_outputs = GPT2.generate(\n",
        "                              input_ids,\n",
        "                              do_sample = True, \n",
        "                              max_length = MAX_LEN,                              #to test how long we can generate and it be coherent\n",
        "                              #temperature = .8,\n",
        "                              top_k = 50, \n",
        "                              top_p = 0.85\n",
        "                              #num_return_sequences = 5\n",
        ")\n",
        "\n",
        "print(\"Output:\\n\" + 100 * '-')\n",
        "for i, sample_output in enumerate(sample_outputs):\n",
        "    print(\"{}: {}...\".format(i, tokenizer.decode(sample_output, skip_special_tokens = True)))\n",
        "    print('')"
      ],
      "execution_count": 16,
      "outputs": [
        {
          "output_type": "stream",
          "text": [
            "Output:\n",
            "----------------------------------------------------------------------------------------------------\n",
            "0: Miley Cyrus was caught shoplifting from Abercrombie and Fitch on Hollywood Boulevard today. The video of the incident was posted online. (Photo by Matt Sayles/Invision/AP)\n",
            "\n",
            "The mother of 'Glee' singer Miley Cyrus said she was \"devastated\" by the theft of a $250 ring she was wearing on her finger.\n",
            "\n",
            "\"My son's a little girl. He's got an 8-year-old sister and she knows...\n",
            "\n"
          ],
          "name": "stdout"
        }
      ]
    },
    {
      "cell_type": "markdown",
      "metadata": {
        "id": "x9Jp3L5BjVd2",
        "colab_type": "text"
      },
      "source": [
        "## \"Legolas and Gimli advanced on the orcs, raising their weapons with a harrowing war cry.\"\n",
        "\n",
        "**Can we use GPT-2 to imagine alternate histories of Lord of the Rings?**"
      ]
    },
    {
      "cell_type": "code",
      "metadata": {
        "trusted": true,
        "id": "o0CNCuIWjVd2",
        "colab_type": "code",
        "colab": {}
      },
      "source": [
        "prompt3 = 'Legolas and Gimli advanced on the orcs, raising their weapons with a harrowing war cry.'\n",
        "\n",
        "input_ids = tokenizer.encode(prompt3, return_tensors='tf')"
      ],
      "execution_count": 17,
      "outputs": []
    },
    {
      "cell_type": "code",
      "metadata": {
        "trusted": true,
        "id": "lYRDUrNMjVd3",
        "colab_type": "code",
        "colab": {
          "base_uri": "https://localhost:8080/",
          "height": 139
        },
        "outputId": "19691413-4076-4881-923c-c7e49a8fb424"
      },
      "source": [
        "sample_outputs = GPT2.generate(\n",
        "                              input_ids,\n",
        "                              do_sample = True, \n",
        "                              max_length = MAX_LEN,                              #to test how long we can generate and it be coherent\n",
        "                              #temperature = .8,\n",
        "                              top_k = 50, \n",
        "                              top_p = 0.85 \n",
        "                              #num_return_sequences = 5\n",
        ")\n",
        "\n",
        "print(\"Output:\\n\" + 100 * '-')\n",
        "for i, sample_output in enumerate(sample_outputs):\n",
        "    print(\"{}: {}...\".format(i, tokenizer.decode(sample_output, skip_special_tokens = True)))\n",
        "    print('')"
      ],
      "execution_count": 18,
      "outputs": [
        {
          "output_type": "stream",
          "text": [
            "Output:\n",
            "----------------------------------------------------------------------------------------------------\n",
            "0: Legolas and Gimli advanced on the orcs, raising their weapons with a harrowing war cry. Before the two could strike at their foe, however, a blast of fire from a great tree overhead threw the warriors back. As the trees collapsed, the orcs fell to the ground. They were all dead.\n",
            "\n",
            "Roland was distraught. The orcs were a threat to the safety of the kingdom, and he needed to get rid of them as quickly as possible. After a long moment of thought,...\n",
            "\n"
          ],
          "name": "stdout"
        }
      ]
    },
    {
      "cell_type": "markdown",
      "metadata": {
        "id": "XSppBYUvjVd5",
        "colab_type": "text"
      },
      "source": [
        "## \"For today’s homework assignment, please describe the reasons for the US Civil War.\"\n",
        "\n",
        "**Can we use GPT-2 to do our homework?**"
      ]
    },
    {
      "cell_type": "code",
      "metadata": {
        "trusted": true,
        "id": "9gUEWPkZjVd5",
        "colab_type": "code",
        "colab": {}
      },
      "source": [
        "prompt4 = \"For today’s homework assignment, please describe the reasons for the US Civil War.\"\n",
        "\n",
        "input_ids = tokenizer.encode(prompt4, return_tensors='tf')"
      ],
      "execution_count": 19,
      "outputs": []
    },
    {
      "cell_type": "code",
      "metadata": {
        "trusted": true,
        "id": "G6nrgD9jjVd6",
        "colab_type": "code",
        "colab": {
          "base_uri": "https://localhost:8080/",
          "height": 139
        },
        "outputId": "e71ae551-ebff-4165-ff7f-cebc0572361e"
      },
      "source": [
        "sample_outputs = GPT2.generate(\n",
        "                              input_ids,\n",
        "                              do_sample = True, \n",
        "                              max_length = MAX_LEN,                              #to test how long we can generate and it be coherent\n",
        "                              #temperature = .8,\n",
        "                              top_k = 50, \n",
        "                              top_p = 0.85 \n",
        "                              #num_return_sequences = 5\n",
        ")\n",
        "\n",
        "print(\"Output:\\n\" + 100 * '-')\n",
        "for i, sample_output in enumerate(sample_outputs):\n",
        "    print(\"{}: {}...\".format(i, tokenizer.decode(sample_output, skip_special_tokens = True)))\n",
        "    print('')"
      ],
      "execution_count": 20,
      "outputs": [
        {
          "output_type": "stream",
          "text": [
            "Output:\n",
            "----------------------------------------------------------------------------------------------------\n",
            "0: For today’s homework assignment, please describe the reasons for the US Civil War. (It doesn't matter if you're a Civil War historian, historian, historian-fiction writer, or someone with a love for American history, we're looking for reasons for the war. Not your own reasons. Just the reasons.)\n",
            "\n",
            "The US Civil War was a war that changed America. In addition to taking place in the US, it happened in the British Isles. There was a battle near the...\n",
            "\n"
          ],
          "name": "stdout"
        }
      ]
    },
    {
      "cell_type": "markdown",
      "metadata": {
        "id": "R7EylNBnjVd8",
        "colab_type": "text"
      },
      "source": [
        "**Now we can see why OpenAI is hesitate to release their full scale model (recall, over 1.5 billion parameters) to the general public...it has the potential to do a lot of harm when used with malevolent intentions. Luckily, they have still provided us smaller versions that allow us to demonstrate just how powerful Transformer models are when applied to natural language and how they provide an analytical space from which to study linguistics.**\n",
        "\n",
        "**Feel free to fork this notebook and experiment with your own inputs and model parameters to see what type of computer generated stories you can create!**"
      ]
    },
    {
      "cell_type": "markdown",
      "metadata": {
        "id": "rGrAStS-jVd8",
        "colab_type": "text"
      },
      "source": [
        "# References\n",
        "\n",
        "**Below are the only references you need to implement your own GPT-2 model for text generation**\n",
        "\n",
        "\n",
        "> https://arxiv.org/abs/1904.09751  \n",
        "> https://openai.com/blog/better-language-models/  \n",
        "> https://huggingface.co/transformers/model_doc/gpt2.html  \n",
        "> https://huggingface.co/blog/how-to-generate  "
      ]
    }
  ]
}