{
  "nbformat": 4,
  "nbformat_minor": 0,
  "metadata": {
    "kernelspec": {
      "language": "python",
      "display_name": "Python 3",
      "name": "python3"
    },
    "language_info": {
      "pygments_lexer": "ipython3",
      "nbconvert_exporter": "python",
      "version": "3.6.4",
      "file_extension": ".py",
      "codemirror_mode": {
        "name": "ipython",
        "version": 3
      },
      "name": "python",
      "mimetype": "text/x-python"
    },
    "colab": {
      "name": "XLM-R, Back-Translation TTA, MNLI.ipynb",
      "provenance": [],
      "machine_shape": "hm",
      "include_colab_link": true
    },
    "accelerator": "TPU"
  },
  "cells": [
    {
      "cell_type": "markdown",
      "metadata": {
        "id": "view-in-github",
        "colab_type": "text"
      },
      "source": [
        "<a href=\"https://colab.research.google.com/github/TuckerArrants/nlp/blob/master/textual-entailment.ipynb\" target=\"_parent\"><img src=\"https://colab.research.google.com/assets/colab-badge.svg\" alt=\"Open In Colab\"/></a>"
      ]
    },
    {
      "cell_type": "markdown",
      "metadata": {
        "id": "ZTrZNeFEK-OP",
        "colab_type": "text"
      },
      "source": [
        "# It's Elementary, My Dear Watson\n",
        "\n",
        "**Natural Language Inference (NLI) is a specific type of NLP task where we must determine whether or not a hypothesis is true based on a premise. Specifically, given a pair of sentences, can we classify them into three different classes: 0 - entailment, 1 - contradiction, 2 - neutral?**\n",
        "\n",
        "**The current leading model in this field is RoBERTa, described by its creators as a 'robustly optimized BERT pretraining approach'. It changes some of the key hyperparameters of BERT and removes the next-sentece pretraining objective all together. The original paper can be found [here](https://arxiv.org/abs/1907.11692) and the source code [here](https://github.com/pytorch/fairseq/tree/master/examples/roberta)**\n",
        "\n",
        "**Now, we have 15 different languages in our dataset, so we cannot use the standard pre-trained RoBERTa model as it has only been trained on English sequences. Luckily, there is [XLM-RoBERTa](https://huggingface.co/transformers/model_doc/xlmroberta.html) (original paper can be found [here](https://arxiv.org/abs/1911.02116)) which has been trained on 2.5TB of filtered CommonCrawl data in 100 different languages. The implementation procedude is the same as RoBERTa's, so it is easy enough to deploy. Let's see how:**"
      ]
    },
    {
      "cell_type": "code",
      "metadata": {
        "_uuid": "8f2839f25d086af736a60e9eeb907d3b93b6e0e5",
        "_cell_guid": "b1076dfc-b9ad-4769-8c92-a6c4dae69d19",
        "trusted": true,
        "id": "IjZ816ZJK-OQ",
        "colab_type": "code",
        "colab": {
          "base_uri": "https://localhost:8080/",
          "height": 90
        },
        "outputId": "120be752-b3a6-4c40-fd18-bc55f239ce6a"
      },
      "source": [
        "#python basics\n",
        "from matplotlib import pyplot as plt\n",
        "from tqdm import tqdm\n",
        "import math, os, re, time, random\n",
        "import numpy as np, pandas as pd, seaborn as sns\n",
        "\n",
        "#deep learning basics\n",
        "import tensorflow as tf\n",
        "import tensorflow.keras.backend as K\n",
        "\n",
        "#nlp augmentation\n",
        "!pip install --quiet googletrans\n",
        "from googletrans import Translator\n",
        "\n",
        "#model evaluation\n",
        "from sklearn.model_selection import train_test_split, StratifiedKFold\n",
        "\n",
        "#for fast parallel processing\n",
        "from dask import bag, diagnostics\n",
        "\n",
        "#easy way to shuffle rows\n",
        "from sklearn.utils import shuffle\n",
        "\n",
        "#ignore warnings\n",
        "import warnings\n",
        "warnings.filterwarnings('ignore')\n",
        "os.environ['TF_CPP_MIN_LOG_LEVEL'] = '3'\n",
        "\n",
        "#get current TensorFlow version fo\n",
        "print(\"Currently using Tensorflow version \" + tf.__version__)"
      ],
      "execution_count": 1,
      "outputs": [
        {
          "output_type": "stream",
          "text": [
            "/usr/local/lib/python3.6/dist-packages/statsmodels/tools/_testing.py:19: FutureWarning: pandas.util.testing is deprecated. Use the functions in the public API at pandas.testing instead.\n",
            "  import pandas.util.testing as tm\n"
          ],
          "name": "stderr"
        },
        {
          "output_type": "stream",
          "text": [
            "Currently using Tensorflow version 2.3.0\n"
          ],
          "name": "stdout"
        }
      ]
    },
    {
      "cell_type": "code",
      "metadata": {
        "trusted": true,
        "id": "grzgGBJ2K-OT",
        "colab_type": "code",
        "colab": {}
      },
      "source": [
        "#choose devicve\n",
        "DEVICES = ['GPU', 'TPU']\n",
        "DEVICE = DEVICES[1]\n",
        "\n",
        "#choose number of epochs to train for\n",
        "EPOCHS = 10\n",
        "\n",
        "#choose seed\n",
        "SEED = 34\n",
        "\n",
        "#choose to see training progress or not\n",
        "VERBOSE = 2\n",
        "\n",
        "#choose maximum length of sequence inputs\n",
        "MAX_LEN = 75\n",
        "\n",
        "#choose learning rate for Adam optimizer\n",
        "LR_RATE = 1e-5\n",
        "\n",
        "#choose to generate augmented text data or not\n",
        "#False if loading from external dataset, as I am\n",
        "GEN_AUG = False \n",
        "\n",
        "#choose to add augmented text data in training\n",
        "ADD_AUG = False\n",
        "\n",
        "#choose to use external MNLI data in training\n",
        "ADD_MNLI = True\n",
        "\n",
        "#choose to use translated MNLU data in training\n",
        "ADD_XMNLI = True\n",
        "\n",
        "#choose to test on augmented datasets\n",
        "USE_TTA = False"
      ],
      "execution_count": 2,
      "outputs": []
    },
    {
      "cell_type": "code",
      "metadata": {
        "trusted": true,
        "id": "5ZH001YeI9tN",
        "colab_type": "code",
        "colab": {}
      },
      "source": [
        "def seed_everything(seed):\n",
        "    os.environ['PYTHONHASHSEED']=str(seed)\n",
        "    tf.random.set_seed(seed)\n",
        "    np.random.seed(seed)\n",
        "    random.seed(seed)\n",
        "    \n",
        "seed_everything(SEED)"
      ],
      "execution_count": 3,
      "outputs": []
    },
    {
      "cell_type": "markdown",
      "metadata": {
        "id": "bUdfpF_2K-OV",
        "colab_type": "text"
      },
      "source": [
        "# EDA\n",
        "\n",
        "**A very brief data exploration; I will expand this section in future iterations of the notebook**"
      ]
    },
    {
      "cell_type": "code",
      "metadata": {
        "trusted": true,
        "id": "oE_xjcJNK-OW",
        "colab_type": "code",
        "colab": {
          "base_uri": "https://localhost:8080/",
          "height": 215
        },
        "outputId": "4d39a08e-64b3-4814-c87c-5e4e2a5e44ed"
      },
      "source": [
        "#get CSV files\n",
        "train = pd.read_csv(\"train.csv\")\n",
        "test = pd.read_csv(\"test.csv\")\n",
        "\n",
        "print(f'Train shape: {train.shape}')\n",
        "train.head()"
      ],
      "execution_count": 4,
      "outputs": [
        {
          "output_type": "stream",
          "text": [
            "Train shape: (12120, 6)\n"
          ],
          "name": "stdout"
        },
        {
          "output_type": "execute_result",
          "data": {
            "text/html": [
              "<div>\n",
              "<style scoped>\n",
              "    .dataframe tbody tr th:only-of-type {\n",
              "        vertical-align: middle;\n",
              "    }\n",
              "\n",
              "    .dataframe tbody tr th {\n",
              "        vertical-align: top;\n",
              "    }\n",
              "\n",
              "    .dataframe thead th {\n",
              "        text-align: right;\n",
              "    }\n",
              "</style>\n",
              "<table border=\"1\" class=\"dataframe\">\n",
              "  <thead>\n",
              "    <tr style=\"text-align: right;\">\n",
              "      <th></th>\n",
              "      <th>id</th>\n",
              "      <th>premise</th>\n",
              "      <th>hypothesis</th>\n",
              "      <th>lang_abv</th>\n",
              "      <th>language</th>\n",
              "      <th>label</th>\n",
              "    </tr>\n",
              "  </thead>\n",
              "  <tbody>\n",
              "    <tr>\n",
              "      <th>0</th>\n",
              "      <td>5130fd2cb5</td>\n",
              "      <td>and these comments were considered in formulat...</td>\n",
              "      <td>The rules developed in the interim were put to...</td>\n",
              "      <td>en</td>\n",
              "      <td>English</td>\n",
              "      <td>0</td>\n",
              "    </tr>\n",
              "    <tr>\n",
              "      <th>1</th>\n",
              "      <td>5b72532a0b</td>\n",
              "      <td>These are issues that we wrestle with in pract...</td>\n",
              "      <td>Practice groups are not permitted to work on t...</td>\n",
              "      <td>en</td>\n",
              "      <td>English</td>\n",
              "      <td>2</td>\n",
              "    </tr>\n",
              "    <tr>\n",
              "      <th>2</th>\n",
              "      <td>3931fbe82a</td>\n",
              "      <td>Des petites choses comme celles-là font une di...</td>\n",
              "      <td>J'essayais d'accomplir quelque chose.</td>\n",
              "      <td>fr</td>\n",
              "      <td>French</td>\n",
              "      <td>0</td>\n",
              "    </tr>\n",
              "    <tr>\n",
              "      <th>3</th>\n",
              "      <td>5622f0c60b</td>\n",
              "      <td>you know they can't really defend themselves l...</td>\n",
              "      <td>They can't defend themselves because of their ...</td>\n",
              "      <td>en</td>\n",
              "      <td>English</td>\n",
              "      <td>0</td>\n",
              "    </tr>\n",
              "    <tr>\n",
              "      <th>4</th>\n",
              "      <td>86aaa48b45</td>\n",
              "      <td>ในการเล่นบทบาทสมมุติก็เช่นกัน โอกาสที่จะได้แสด...</td>\n",
              "      <td>เด็กสามารถเห็นได้ว่าชาติพันธุ์แตกต่างกันอย่างไร</td>\n",
              "      <td>th</td>\n",
              "      <td>Thai</td>\n",
              "      <td>1</td>\n",
              "    </tr>\n",
              "  </tbody>\n",
              "</table>\n",
              "</div>"
            ],
            "text/plain": [
              "           id  ... label\n",
              "0  5130fd2cb5  ...     0\n",
              "1  5b72532a0b  ...     2\n",
              "2  3931fbe82a  ...     0\n",
              "3  5622f0c60b  ...     0\n",
              "4  86aaa48b45  ...     1\n",
              "\n",
              "[5 rows x 6 columns]"
            ]
          },
          "metadata": {
            "tags": []
          },
          "execution_count": 4
        }
      ]
    },
    {
      "cell_type": "code",
      "metadata": {
        "trusted": true,
        "id": "TXaVG-qQK-OY",
        "colab_type": "code",
        "colab": {
          "base_uri": "https://localhost:8080/",
          "height": 215
        },
        "outputId": "e0d458c4-5fef-4928-ef3c-0d529f7fc1bd"
      },
      "source": [
        "print(f'Test shape: {test.shape}')\n",
        "test.head()"
      ],
      "execution_count": 5,
      "outputs": [
        {
          "output_type": "stream",
          "text": [
            "Test shape: (5195, 5)\n"
          ],
          "name": "stdout"
        },
        {
          "output_type": "execute_result",
          "data": {
            "text/html": [
              "<div>\n",
              "<style scoped>\n",
              "    .dataframe tbody tr th:only-of-type {\n",
              "        vertical-align: middle;\n",
              "    }\n",
              "\n",
              "    .dataframe tbody tr th {\n",
              "        vertical-align: top;\n",
              "    }\n",
              "\n",
              "    .dataframe thead th {\n",
              "        text-align: right;\n",
              "    }\n",
              "</style>\n",
              "<table border=\"1\" class=\"dataframe\">\n",
              "  <thead>\n",
              "    <tr style=\"text-align: right;\">\n",
              "      <th></th>\n",
              "      <th>id</th>\n",
              "      <th>premise</th>\n",
              "      <th>hypothesis</th>\n",
              "      <th>lang_abv</th>\n",
              "      <th>language</th>\n",
              "    </tr>\n",
              "  </thead>\n",
              "  <tbody>\n",
              "    <tr>\n",
              "      <th>0</th>\n",
              "      <td>c6d58c3f69</td>\n",
              "      <td>بکس، کیسی، راہیل، یسعیاہ، کیلی، کیلی، اور کولم...</td>\n",
              "      <td>کیسی کے لئے کوئی یادگار نہیں ہوگا, کولمین ہائی...</td>\n",
              "      <td>ur</td>\n",
              "      <td>Urdu</td>\n",
              "    </tr>\n",
              "    <tr>\n",
              "      <th>1</th>\n",
              "      <td>cefcc82292</td>\n",
              "      <td>هذا هو ما تم نصحنا به.</td>\n",
              "      <td>عندما يتم إخبارهم بما يجب عليهم فعله ، فشلت ال...</td>\n",
              "      <td>ar</td>\n",
              "      <td>Arabic</td>\n",
              "    </tr>\n",
              "    <tr>\n",
              "      <th>2</th>\n",
              "      <td>e98005252c</td>\n",
              "      <td>et cela est en grande partie dû au fait que le...</td>\n",
              "      <td>Les mères se droguent.</td>\n",
              "      <td>fr</td>\n",
              "      <td>French</td>\n",
              "    </tr>\n",
              "    <tr>\n",
              "      <th>3</th>\n",
              "      <td>58518c10ba</td>\n",
              "      <td>与城市及其他公民及社区组织代表就IMA的艺术发展进行对话&amp;amp</td>\n",
              "      <td>IMA与其他组织合作，因为它们都依靠共享资金。</td>\n",
              "      <td>zh</td>\n",
              "      <td>Chinese</td>\n",
              "    </tr>\n",
              "    <tr>\n",
              "      <th>4</th>\n",
              "      <td>c32b0d16df</td>\n",
              "      <td>Она все еще была там.</td>\n",
              "      <td>Мы думали, что она ушла, однако, она осталась.</td>\n",
              "      <td>ru</td>\n",
              "      <td>Russian</td>\n",
              "    </tr>\n",
              "  </tbody>\n",
              "</table>\n",
              "</div>"
            ],
            "text/plain": [
              "           id  ... language\n",
              "0  c6d58c3f69  ...     Urdu\n",
              "1  cefcc82292  ...   Arabic\n",
              "2  e98005252c  ...   French\n",
              "3  58518c10ba  ...  Chinese\n",
              "4  c32b0d16df  ...  Russian\n",
              "\n",
              "[5 rows x 5 columns]"
            ]
          },
          "metadata": {
            "tags": []
          },
          "execution_count": 5
        }
      ]
    },
    {
      "cell_type": "code",
      "metadata": {
        "trusted": true,
        "id": "_vOtJH7tK-Oa",
        "colab_type": "code",
        "colab": {
          "base_uri": "https://localhost:8080/",
          "height": 70
        },
        "outputId": "d65a7677-117b-4fb2-9c05-44be814fbb93"
      },
      "source": [
        "#peek at a premise/hypothesis pair and their label\n",
        "print(f\"Premise: {train['premise'].values[0]}\")\n",
        "print(f\"Hypothesis: {train['hypothesis'].values[0]}\")\n",
        "print(f\"Label: {train['label'].values[0]}\")"
      ],
      "execution_count": 6,
      "outputs": [
        {
          "output_type": "stream",
          "text": [
            "Premise: and these comments were considered in formulating the interim rules.\n",
            "Hypothesis: The rules developed in the interim were put together with these comments in mind.\n",
            "Label: 0\n"
          ],
          "name": "stdout"
        }
      ]
    },
    {
      "cell_type": "code",
      "metadata": {
        "trusted": true,
        "id": "wKhxVI-TK-Oc",
        "colab_type": "code",
        "colab": {
          "base_uri": "https://localhost:8080/",
          "height": 70
        },
        "outputId": "a7df2b4b-75ae-4a15-b267-b211ef3c089a"
      },
      "source": [
        "#peek at a premise/hypothesis pair and their label\n",
        "print(f\"Premise: {train['premise'].values[1]}\")\n",
        "print(f\"Hypothesis: {train['hypothesis'].values[1]}\")\n",
        "print(f\"Label: {train['label'].values[1]}\")"
      ],
      "execution_count": 7,
      "outputs": [
        {
          "output_type": "stream",
          "text": [
            "Premise: These are issues that we wrestle with in practice groups of law firms, she said. \n",
            "Hypothesis: Practice groups are not permitted to work on these issues.\n",
            "Label: 2\n"
          ],
          "name": "stdout"
        }
      ]
    },
    {
      "cell_type": "code",
      "metadata": {
        "trusted": true,
        "id": "arEg6IHvK-Oe",
        "colab_type": "code",
        "colab": {
          "base_uri": "https://localhost:8080/",
          "height": 721
        },
        "outputId": "6b00ba68-febf-4baa-89c2-1f7ac90983fe"
      },
      "source": [
        "#explore the distribution of classes and languages\n",
        "fig, ax = plt.subplots(3, figsize = (15, 10))\n",
        "\n",
        "#for maximum aesthetics\n",
        "palette = sns.cubehelix_palette(8, start=2, rot=0, dark=0, light=.95, reverse=True)\n",
        "\n",
        "graph1 = sns.countplot(train['language'], ax = ax[1], palette = palette)\n",
        "graph2 = sns.countplot(train['label'], ax = ax[0], palette = palette)\n",
        "graph3 = sns.countplot(test['language'], ax = ax[2], palette = palette)\n",
        "\n",
        "#set title\n",
        "graph1.set_title('Distribution of Classes')\n",
        "graph2.set_title('Distribution of Languages')\n",
        "graph3.set_title('Distribution of Languages - Test')\n",
        "\n",
        "plt.tight_layout()\n",
        "plt.show()"
      ],
      "execution_count": 8,
      "outputs": [
        {
          "output_type": "display_data",
          "data": {
            "image/png": "[encoded data removed]",
            "text/plain": [
              "<Figure size 1080x720 with 3 Axes>"
            ]
          },
          "metadata": {
            "tags": [],
            "needs_background": "light"
          }
        }
      ]
    },
    {
      "cell_type": "markdown",
      "metadata": {
        "id": "9Iyi1swnI9tb",
        "colab_type": "text"
      },
      "source": [
        "# Back-Translation\n",
        "\n",
        "**In computer vision problems, there is a virtual infinitude of techniques you can use to augment your images ranging from simple techniques like randomly flipping images to blending images together with CutMix or MixUp. In natural language processing, it is not as easy to come up with similar augmentation strategies because it is hard to determine which transformations will preserve the meaning of the original words:**\n",
        "\n",
        "![](https://amitness.com/images/semantic-invariance-nlp.png)\n",
        "\n",
        "*Image from [@amitness](https://www.kaggle.com/amitness) on his excellent post on NLP augmentation [here](https://amitness.com/2020/05/data-augmentation-for-nlp/)*   \n",
        "\n",
        "\n",
        "**I initially planned on using synonym swapping, where we randomly replace words with their synonyms, but then I saw [this kernel](https://www.kaggle.com/jpmiller/augmenting-data-with-translations) which is based on [this discussion thread](https://www.kaggle.com/c/jigsaw-toxic-comment-classification-challenge/discussion/48038) and realized we can do better: we can use 'back-translation':**\n",
        "\n",
        "![](https://amitness.com/images/backtranslation-en-fr.png)\n",
        "\n",
        "*Image from [@amitness](https://www.kaggle.com/amitness) on his excellent post on NLP augmentation [here](https://amitness.com/2020/05/data-augmentation-for-nlp/)*\n",
        "\n",
        "**For now, we will only translate to languages currently present in our dataset, but translating to languages outside of our dataset might give us better performance. Please note that some of these language codes are slightly different within the `googletrans` Python API. See [here](https://py-googletrans.readthedocs.io/en/latest/) for more**"
      ]
    },
    {
      "cell_type": "code",
      "metadata": {
        "trusted": true,
        "id": "Aq2c-YZvI9tc",
        "colab_type": "code",
        "colab": {
          "base_uri": "https://localhost:8080/",
          "height": 105
        },
        "outputId": "b9d59ebf-ebab-40a3-e827-878cb4e16a98"
      },
      "source": [
        "def translation_aug(sequence, PROB = 1):\n",
        "    languages = ['en', 'fr', 'th', 'tr', 'ur', 'ru', 'bg', 'de', 'ar', 'zh-cn', 'hi',\n",
        "                 'sw', 'vi', 'es', 'el']\n",
        "    \n",
        "    #instantiate translator\n",
        "    translator = Translator()\n",
        "    \n",
        "    #store original language so we can convert back\n",
        "    org_lang = translator.detect(sequence).lang\n",
        "    \n",
        "    #randomly choose language to translate sequence to  \n",
        "    random_lang = np.random.choice([lang for lang in languages if lang is not org_lang])\n",
        "    \n",
        "    if org_lang in languages:\n",
        "        #translate to new language and back to original\n",
        "        translated = translator.translate(sequence, dest = random_lang).text\n",
        "        #translate back to original language\n",
        "        translated_back = translator.translate(translated, dest = org_lang).text\n",
        "    \n",
        "        #apply with certain probability\n",
        "        #this would be used for online augmentation\n",
        "        if np.random.uniform(0, 1) <= PROB:\n",
        "            output_sequence = translated_back\n",
        "        else:\n",
        "            output_sequence = sequence\n",
        "            \n",
        "    #if detected language not in our list of languages, do nothing\n",
        "    else:\n",
        "        output_sequence = sequence\n",
        "    \n",
        "    return output_sequence\n",
        "\n",
        "#check performance\n",
        "for i in range(5):\n",
        "    output = translation_aug('I genuinely have no idea what the output of this sequence of words will be')\n",
        "    print(output)"
      ],
      "execution_count": 9,
      "outputs": [
        {
          "output_type": "stream",
          "text": [
            "I really have no idea what this sequence of words will be like\n",
            "I really don't know what the output of this word sequence is\n",
            "I really have no idea what the output of this sequence of words would be\n",
            "I really don’t know what the results of this sequence of words will be\n",
            "I really have no idea what the result of this sequence of words will be\n"
          ],
          "name": "stdout"
        }
      ]
    },
    {
      "cell_type": "markdown",
      "metadata": {
        "id": "e8gIcnz0I9td",
        "colab_type": "text"
      },
      "source": [
        "**We need to decide if we want to apply this translation augmentation to the premise/hypothesis at the same time, so each sequence is mapped to the same language and back, or if we want to map them to different languages and back. It's easier to do the latter so I will experiment with it in this commit**\n",
        "\n",
        "**This will also take a little while, so we can use `Dask Bag` to make it faster (more on Dask  [here](https://docs.dask.org/en/latest/bag.html)). Currently, it takes around 30 minutes to translate all the premise/hypothesis pairs from their original langauge, to a random language, and back again when `PROB = 1/2`**"
      ]
    },
    {
      "cell_type": "code",
      "metadata": {
        "trusted": true,
        "id": "s8dkuE78I9te",
        "colab_type": "code",
        "colab": {}
      },
      "source": [
        "def translation_aug_parallel(dataset, back = False, undersampled = True):\n",
        "    prem_bag = bag.from_sequence(dataset['premise'].tolist()).map(translation_aug)\n",
        "    hyp_bag =  bag.from_sequence(dataset['hypothesis'].tolist()).map(translation_aug)\n",
        "    \n",
        "    with diagnostics.ProgressBar():\n",
        "        prems = prem_bag.compute()\n",
        "        hyps = hyp_bag.compute()\n",
        "\n",
        "    #pair premises and hypothesis\n",
        "    dataset[['premise', 'hypothesis']] = list(zip(prems, hyps))\n",
        "    \n",
        "    return dataset"
      ],
      "execution_count": 10,
      "outputs": []
    },
    {
      "cell_type": "markdown",
      "metadata": {
        "id": "Qwctm4oSI9tf",
        "colab_type": "text"
      },
      "source": [
        "**I have already created augmented datasets with the above translation method that can be found [here](https://www.kaggle.com/tuckerarrants/contradictorywatsontranslationaug) and [here](https://www.kaggle.com/tuckerarrants/contradictorywatsontwicetranslatedaug). Let's quickly compare the three separate datasets:**"
      ]
    },
    {
      "cell_type": "code",
      "metadata": {
        "trusted": true,
        "id": "Zh9Ehv_8I9tg",
        "colab_type": "code",
        "colab": {
          "base_uri": "https://localhost:8080/",
          "height": 197
        },
        "outputId": "f67cb193-d97c-4e3f-f915-2387be10ce53"
      },
      "source": [
        "train.head()"
      ],
      "execution_count": 11,
      "outputs": [
        {
          "output_type": "execute_result",
          "data": {
            "text/html": [
              "<div>\n",
              "<style scoped>\n",
              "    .dataframe tbody tr th:only-of-type {\n",
              "        vertical-align: middle;\n",
              "    }\n",
              "\n",
              "    .dataframe tbody tr th {\n",
              "        vertical-align: top;\n",
              "    }\n",
              "\n",
              "    .dataframe thead th {\n",
              "        text-align: right;\n",
              "    }\n",
              "</style>\n",
              "<table border=\"1\" class=\"dataframe\">\n",
              "  <thead>\n",
              "    <tr style=\"text-align: right;\">\n",
              "      <th></th>\n",
              "      <th>id</th>\n",
              "      <th>premise</th>\n",
              "      <th>hypothesis</th>\n",
              "      <th>lang_abv</th>\n",
              "      <th>language</th>\n",
              "      <th>label</th>\n",
              "    </tr>\n",
              "  </thead>\n",
              "  <tbody>\n",
              "    <tr>\n",
              "      <th>0</th>\n",
              "      <td>5130fd2cb5</td>\n",
              "      <td>and these comments were considered in formulat...</td>\n",
              "      <td>The rules developed in the interim were put to...</td>\n",
              "      <td>en</td>\n",
              "      <td>English</td>\n",
              "      <td>0</td>\n",
              "    </tr>\n",
              "    <tr>\n",
              "      <th>1</th>\n",
              "      <td>5b72532a0b</td>\n",
              "      <td>These are issues that we wrestle with in pract...</td>\n",
              "      <td>Practice groups are not permitted to work on t...</td>\n",
              "      <td>en</td>\n",
              "      <td>English</td>\n",
              "      <td>2</td>\n",
              "    </tr>\n",
              "    <tr>\n",
              "      <th>2</th>\n",
              "      <td>3931fbe82a</td>\n",
              "      <td>Des petites choses comme celles-là font une di...</td>\n",
              "      <td>J'essayais d'accomplir quelque chose.</td>\n",
              "      <td>fr</td>\n",
              "      <td>French</td>\n",
              "      <td>0</td>\n",
              "    </tr>\n",
              "    <tr>\n",
              "      <th>3</th>\n",
              "      <td>5622f0c60b</td>\n",
              "      <td>you know they can't really defend themselves l...</td>\n",
              "      <td>They can't defend themselves because of their ...</td>\n",
              "      <td>en</td>\n",
              "      <td>English</td>\n",
              "      <td>0</td>\n",
              "    </tr>\n",
              "    <tr>\n",
              "      <th>4</th>\n",
              "      <td>86aaa48b45</td>\n",
              "      <td>ในการเล่นบทบาทสมมุติก็เช่นกัน โอกาสที่จะได้แสด...</td>\n",
              "      <td>เด็กสามารถเห็นได้ว่าชาติพันธุ์แตกต่างกันอย่างไร</td>\n",
              "      <td>th</td>\n",
              "      <td>Thai</td>\n",
              "      <td>1</td>\n",
              "    </tr>\n",
              "  </tbody>\n",
              "</table>\n",
              "</div>"
            ],
            "text/plain": [
              "           id  ... label\n",
              "0  5130fd2cb5  ...     0\n",
              "1  5b72532a0b  ...     2\n",
              "2  3931fbe82a  ...     0\n",
              "3  5622f0c60b  ...     0\n",
              "4  86aaa48b45  ...     1\n",
              "\n",
              "[5 rows x 6 columns]"
            ]
          },
          "metadata": {
            "tags": []
          },
          "execution_count": 11
        }
      ]
    },
    {
      "cell_type": "code",
      "metadata": {
        "trusted": true,
        "id": "4uhEafr_I9ti",
        "colab_type": "code",
        "colab": {
          "base_uri": "https://localhost:8080/",
          "height": 197
        },
        "outputId": "5ac425d0-99b4-49ef-98f5-8bba2e0a5355"
      },
      "source": [
        "#offline loading of augmented datasets\n",
        "train_aug = pd.read_csv('translation_aug_train.csv')\n",
        "train_aug.head()"
      ],
      "execution_count": 12,
      "outputs": [
        {
          "output_type": "execute_result",
          "data": {
            "text/html": [
              "<div>\n",
              "<style scoped>\n",
              "    .dataframe tbody tr th:only-of-type {\n",
              "        vertical-align: middle;\n",
              "    }\n",
              "\n",
              "    .dataframe tbody tr th {\n",
              "        vertical-align: top;\n",
              "    }\n",
              "\n",
              "    .dataframe thead th {\n",
              "        text-align: right;\n",
              "    }\n",
              "</style>\n",
              "<table border=\"1\" class=\"dataframe\">\n",
              "  <thead>\n",
              "    <tr style=\"text-align: right;\">\n",
              "      <th></th>\n",
              "      <th>id</th>\n",
              "      <th>premise</th>\n",
              "      <th>hypothesis</th>\n",
              "      <th>lang_abv</th>\n",
              "      <th>language</th>\n",
              "      <th>label</th>\n",
              "    </tr>\n",
              "  </thead>\n",
              "  <tbody>\n",
              "    <tr>\n",
              "      <th>0</th>\n",
              "      <td>5130fd2cb5</td>\n",
              "      <td>and these ideas were considered in the develop...</td>\n",
              "      <td>The rules developed in the interim were taken ...</td>\n",
              "      <td>en</td>\n",
              "      <td>English</td>\n",
              "      <td>0</td>\n",
              "    </tr>\n",
              "    <tr>\n",
              "      <th>1</th>\n",
              "      <td>5b72532a0b</td>\n",
              "      <td>These are the challenges we face in practice w...</td>\n",
              "      <td>Practice groups are not permitted to work on t...</td>\n",
              "      <td>en</td>\n",
              "      <td>English</td>\n",
              "      <td>2</td>\n",
              "    </tr>\n",
              "    <tr>\n",
              "      <th>2</th>\n",
              "      <td>3931fbe82a</td>\n",
              "      <td>Ces petites choses font une grande différence ...</td>\n",
              "      <td>J'essaye d'accomplir quelque chose.</td>\n",
              "      <td>fr</td>\n",
              "      <td>French</td>\n",
              "      <td>0</td>\n",
              "    </tr>\n",
              "    <tr>\n",
              "      <th>3</th>\n",
              "      <td>5622f0c60b</td>\n",
              "      <td>Do you know that they can't really defend them...</td>\n",
              "      <td>They cannot protect themselves because of age.</td>\n",
              "      <td>en</td>\n",
              "      <td>English</td>\n",
              "      <td>0</td>\n",
              "    </tr>\n",
              "    <tr>\n",
              "      <th>4</th>\n",
              "      <td>86aaa48b45</td>\n",
              "      <td>เล่นตามบทบาทด้วย โอกาสในการแสดงและเล่นบทบาทหลา...</td>\n",
              "      <td>เด็ก ๆ สามารถเห็นได้ว่าชาติพันธุ์ต่างๆมีความแต...</td>\n",
              "      <td>th</td>\n",
              "      <td>Thai</td>\n",
              "      <td>1</td>\n",
              "    </tr>\n",
              "  </tbody>\n",
              "</table>\n",
              "</div>"
            ],
            "text/plain": [
              "           id  ... label\n",
              "0  5130fd2cb5  ...     0\n",
              "1  5b72532a0b  ...     2\n",
              "2  3931fbe82a  ...     0\n",
              "3  5622f0c60b  ...     0\n",
              "4  86aaa48b45  ...     1\n",
              "\n",
              "[5 rows x 6 columns]"
            ]
          },
          "metadata": {
            "tags": []
          },
          "execution_count": 12
        }
      ]
    },
    {
      "cell_type": "code",
      "metadata": {
        "trusted": true,
        "id": "b6pqbZq4I9tk",
        "colab_type": "code",
        "colab": {
          "base_uri": "https://localhost:8080/",
          "height": 197
        },
        "outputId": "f79a739c-3fd3-4a1d-9ef4-2f24a1498d17"
      },
      "source": [
        "#offline loading of augmented datasets\n",
        "train_twice_aug = pd.read_csv('twice_translated_aug_train.csv')\n",
        "train_twice_aug.head()"
      ],
      "execution_count": 13,
      "outputs": [
        {
          "output_type": "execute_result",
          "data": {
            "text/html": [
              "<div>\n",
              "<style scoped>\n",
              "    .dataframe tbody tr th:only-of-type {\n",
              "        vertical-align: middle;\n",
              "    }\n",
              "\n",
              "    .dataframe tbody tr th {\n",
              "        vertical-align: top;\n",
              "    }\n",
              "\n",
              "    .dataframe thead th {\n",
              "        text-align: right;\n",
              "    }\n",
              "</style>\n",
              "<table border=\"1\" class=\"dataframe\">\n",
              "  <thead>\n",
              "    <tr style=\"text-align: right;\">\n",
              "      <th></th>\n",
              "      <th>id</th>\n",
              "      <th>premise</th>\n",
              "      <th>hypothesis</th>\n",
              "      <th>lang_abv</th>\n",
              "      <th>language</th>\n",
              "      <th>label</th>\n",
              "    </tr>\n",
              "  </thead>\n",
              "  <tbody>\n",
              "    <tr>\n",
              "      <th>0</th>\n",
              "      <td>5130fd2cb5</td>\n",
              "      <td>and these ideas were taken into consideration ...</td>\n",
              "      <td>Interim rules developed in conjunction with th...</td>\n",
              "      <td>en</td>\n",
              "      <td>English</td>\n",
              "      <td>0</td>\n",
              "    </tr>\n",
              "    <tr>\n",
              "      <th>1</th>\n",
              "      <td>5b72532a0b</td>\n",
              "      <td>These are the challenges we face in practice w...</td>\n",
              "      <td>Practice groups are not allowed to deal with t...</td>\n",
              "      <td>en</td>\n",
              "      <td>English</td>\n",
              "      <td>2</td>\n",
              "    </tr>\n",
              "    <tr>\n",
              "      <th>2</th>\n",
              "      <td>3931fbe82a</td>\n",
              "      <td>Ces petites choses font une grande différence ...</td>\n",
              "      <td>J'essaye d'accomplir quelque chose.</td>\n",
              "      <td>fr</td>\n",
              "      <td>French</td>\n",
              "      <td>0</td>\n",
              "    </tr>\n",
              "    <tr>\n",
              "      <th>3</th>\n",
              "      <td>5622f0c60b</td>\n",
              "      <td>Do you know that they can't really defend them...</td>\n",
              "      <td>They cannot protect themselves because of age.</td>\n",
              "      <td>en</td>\n",
              "      <td>English</td>\n",
              "      <td>0</td>\n",
              "    </tr>\n",
              "    <tr>\n",
              "      <th>4</th>\n",
              "      <td>86aaa48b45</td>\n",
              "      <td>การเล่นบทบาทสมมติยังสามารถช่วยให้เกิดโอกาสในกา...</td>\n",
              "      <td>เด็ก ๆ สามารถเห็นโครงสร้างทางชาติพันธุ์ที่แตกต...</td>\n",
              "      <td>th</td>\n",
              "      <td>Thai</td>\n",
              "      <td>1</td>\n",
              "    </tr>\n",
              "  </tbody>\n",
              "</table>\n",
              "</div>"
            ],
            "text/plain": [
              "           id  ... label\n",
              "0  5130fd2cb5  ...     0\n",
              "1  5b72532a0b  ...     2\n",
              "2  3931fbe82a  ...     0\n",
              "3  5622f0c60b  ...     0\n",
              "4  86aaa48b45  ...     1\n",
              "\n",
              "[5 rows x 6 columns]"
            ]
          },
          "metadata": {
            "tags": []
          },
          "execution_count": 13
        }
      ]
    },
    {
      "cell_type": "markdown",
      "metadata": {
        "id": "ewZJ-Xm0I9tn",
        "colab_type": "text"
      },
      "source": [
        "**Wonderful! Now you could take this dataset and apply the same procedure to generate an ever more diverse set of augmentations, or you could increase the complexity of the translation by chaining together multiple languages, i.e.**\n",
        "\n",
        "> English -> French -> Russian -> .... -> English\n",
        "\n",
        "**I encourage you to play around with this yourself to see what gives you the best performance**"
      ]
    },
    {
      "cell_type": "markdown",
      "metadata": {
        "id": "0AS17fjOI9tn",
        "colab_type": "text"
      },
      "source": [
        "# External Datasets\n",
        "\n",
        "**Now, since this is not a strict competition, we can use external datasets. HuggingFace transformers makes it incredibly easy to import hundreds of thousands of NLI labeled data in minutes. If we choose to train our model with these samples, it will be much more powerful. In a real project, you would definitely just sprinkle in some of these examples until you reach your desired balance of performance/training time, so in this notebook, we will include it to see just how accurate XLM-R can get when trained on a large amount of NLI data**\n",
        "\n",
        "### MNLI Corpus\n",
        "\n",
        "**Here we will import additional NLI datasets, The first we can import is the [Multi-Genre NLI Corpus](https://cims.nyu.edu/~sbowman/multinli/) (MNLI). It is a crowd sourced collection of 433k sentence pairs annotated with the same labels as our dataset. We can easily import it with the new HuggingFace library `nlp`, more about this [here](https://huggingface.co/datasets/multi_nli)**"
      ]
    },
    {
      "cell_type": "code",
      "metadata": {
        "id": "xXa_YFzTPCaO",
        "colab_type": "code",
        "colab": {
          "base_uri": "https://localhost:8080/",
          "height": 34
        },
        "outputId": "85bd7062-24bd-46c3-9795-8f37d2b39cd0"
      },
      "source": [
        "!pip install numpy==1.19.1"
      ],
      "execution_count": 14,
      "outputs": [
        {
          "output_type": "stream",
          "text": [
            "Requirement already satisfied: numpy==1.19.1 in /usr/local/lib/python3.6/dist-packages (1.19.1)\n"
          ],
          "name": "stdout"
        }
      ]
    },
    {
      "cell_type": "code",
      "metadata": {
        "trusted": true,
        "id": "X40L--Y_I9tn",
        "colab_type": "code",
        "colab": {}
      },
      "source": [
        "!pip install --quiet nlp"
      ],
      "execution_count": 15,
      "outputs": []
    },
    {
      "cell_type": "code",
      "metadata": {
        "trusted": true,
        "id": "UOzlHIIBI9tp",
        "colab_type": "code",
        "colab": {}
      },
      "source": [
        "#load mnli dataset\n",
        "import nlp\n",
        "mnli = nlp.load_dataset(\"multi_nli\")"
      ],
      "execution_count": 16,
      "outputs": []
    },
    {
      "cell_type": "markdown",
      "metadata": {
        "id": "8g5P1YKsI9tr",
        "colab_type": "text"
      },
      "source": [
        "**Let's explore this external dataset to make sure it aligns with our needs:**"
      ]
    },
    {
      "cell_type": "code",
      "metadata": {
        "trusted": true,
        "id": "CmsB8kq9I9tr",
        "colab_type": "code",
        "colab": {
          "base_uri": "https://localhost:8080/",
          "height": 34
        },
        "outputId": "d5d7a002-f12d-40cd-db57-56bc3b4872ce"
      },
      "source": [
        "#check number of samples in train\n",
        "mnli['train'].num_rows"
      ],
      "execution_count": 17,
      "outputs": [
        {
          "output_type": "execute_result",
          "data": {
            "text/plain": [
              "392702"
            ]
          },
          "metadata": {
            "tags": []
          },
          "execution_count": 17
        }
      ]
    },
    {
      "cell_type": "code",
      "metadata": {
        "trusted": true,
        "id": "PNZQWFRyI9tt",
        "colab_type": "code",
        "colab": {
          "base_uri": "https://localhost:8080/",
          "height": 90
        },
        "outputId": "30f47572-b13a-4460-c8e5-433a9b85f175"
      },
      "source": [
        "#view sample\n",
        "mnli['train'][1]"
      ],
      "execution_count": 18,
      "outputs": [
        {
          "output_type": "execute_result",
          "data": {
            "text/plain": [
              "{'hypothesis': 'You lose the things to the following level if the people recall.',\n",
              " 'label': 0,\n",
              " 'premise': 'you know during the season and i guess at at your level uh you lose them to the next level if if they decide to recall the the parent team the Braves decide to call to recall a guy from triple A then a double A guy goes up to replace him and a single A guy goes up to replace him'}"
            ]
          },
          "metadata": {
            "tags": []
          },
          "execution_count": 18
        }
      ]
    },
    {
      "cell_type": "markdown",
      "metadata": {
        "id": "QUdQ-P7eI9tv",
        "colab_type": "text"
      },
      "source": [
        "### Adding External NLI Datasets\n",
        "\n",
        "**Here we will add the external NLI datasets to our training dataset:**"
      ]
    },
    {
      "cell_type": "code",
      "metadata": {
        "trusted": true,
        "id": "_wDlZK3vI9tv",
        "colab_type": "code",
        "colab": {
          "base_uri": "https://localhost:8080/",
          "height": 317
        },
        "outputId": "6728e658-54a2-4404-e2cd-ed1519c04f32"
      },
      "source": [
        "#convert to a dataframe and view\n",
        "mnli_df = pd.DataFrame(mnli['train'])\n",
        "mnli_df = mnli_df[['premise', 'hypothesis', 'label']]\n",
        "mnli_df.head(9)"
      ],
      "execution_count": 19,
      "outputs": [
        {
          "output_type": "execute_result",
          "data": {
            "text/html": [
              "<div>\n",
              "<style scoped>\n",
              "    .dataframe tbody tr th:only-of-type {\n",
              "        vertical-align: middle;\n",
              "    }\n",
              "\n",
              "    .dataframe tbody tr th {\n",
              "        vertical-align: top;\n",
              "    }\n",
              "\n",
              "    .dataframe thead th {\n",
              "        text-align: right;\n",
              "    }\n",
              "</style>\n",
              "<table border=\"1\" class=\"dataframe\">\n",
              "  <thead>\n",
              "    <tr style=\"text-align: right;\">\n",
              "      <th></th>\n",
              "      <th>premise</th>\n",
              "      <th>hypothesis</th>\n",
              "      <th>label</th>\n",
              "    </tr>\n",
              "  </thead>\n",
              "  <tbody>\n",
              "    <tr>\n",
              "      <th>0</th>\n",
              "      <td>Conceptually cream skimming has two basic dime...</td>\n",
              "      <td>Product and geography are what make cream skim...</td>\n",
              "      <td>1</td>\n",
              "    </tr>\n",
              "    <tr>\n",
              "      <th>1</th>\n",
              "      <td>you know during the season and i guess at at y...</td>\n",
              "      <td>You lose the things to the following level if ...</td>\n",
              "      <td>0</td>\n",
              "    </tr>\n",
              "    <tr>\n",
              "      <th>2</th>\n",
              "      <td>One of our number will carry out your instruct...</td>\n",
              "      <td>A member of my team will execute your orders w...</td>\n",
              "      <td>0</td>\n",
              "    </tr>\n",
              "    <tr>\n",
              "      <th>3</th>\n",
              "      <td>How do you know? All this is their information...</td>\n",
              "      <td>This information belongs to them.</td>\n",
              "      <td>0</td>\n",
              "    </tr>\n",
              "    <tr>\n",
              "      <th>4</th>\n",
              "      <td>yeah i tell you what though if you go price so...</td>\n",
              "      <td>The tennis shoes have a range of prices.</td>\n",
              "      <td>1</td>\n",
              "    </tr>\n",
              "    <tr>\n",
              "      <th>5</th>\n",
              "      <td>my walkman broke so i'm upset now i just have ...</td>\n",
              "      <td>I'm upset that my walkman broke and now I have...</td>\n",
              "      <td>0</td>\n",
              "    </tr>\n",
              "    <tr>\n",
              "      <th>6</th>\n",
              "      <td>But a few Christian mosaics survive above the ...</td>\n",
              "      <td>Most of the Christian mosaics were destroyed b...</td>\n",
              "      <td>1</td>\n",
              "    </tr>\n",
              "    <tr>\n",
              "      <th>7</th>\n",
              "      <td>(Read  for Slate 's take on Jackson's findings.)</td>\n",
              "      <td>Slate had an opinion on Jackson's findings.</td>\n",
              "      <td>0</td>\n",
              "    </tr>\n",
              "    <tr>\n",
              "      <th>8</th>\n",
              "      <td>Gays and lesbians.</td>\n",
              "      <td>Heterosexuals.</td>\n",
              "      <td>2</td>\n",
              "    </tr>\n",
              "  </tbody>\n",
              "</table>\n",
              "</div>"
            ],
            "text/plain": [
              "                                             premise  ... label\n",
              "0  Conceptually cream skimming has two basic dime...  ...     1\n",
              "1  you know during the season and i guess at at y...  ...     0\n",
              "2  One of our number will carry out your instruct...  ...     0\n",
              "3  How do you know? All this is their information...  ...     0\n",
              "4  yeah i tell you what though if you go price so...  ...     1\n",
              "5  my walkman broke so i'm upset now i just have ...  ...     0\n",
              "6  But a few Christian mosaics survive above the ...  ...     1\n",
              "7   (Read  for Slate 's take on Jackson's findings.)  ...     0\n",
              "8                                 Gays and lesbians.  ...     2\n",
              "\n",
              "[9 rows x 3 columns]"
            ]
          },
          "metadata": {
            "tags": []
          },
          "execution_count": 19
        }
      ]
    },
    {
      "cell_type": "code",
      "metadata": {
        "trusted": true,
        "id": "ANcyLBBiI9tx",
        "colab_type": "code",
        "colab": {
          "base_uri": "https://localhost:8080/",
          "height": 34
        },
        "outputId": "43211f4c-4073-431f-eb78-0159a48eeb70"
      },
      "source": [
        "#add to train\n",
        "train = train[['premise', 'hypothesis', 'label']]\n",
        "\n",
        "if ADD_MNLI:\n",
        "    #add all of mnli\n",
        "    #train = train.append(mnli_df)\n",
        "    \n",
        "    #add only every other sample from MLNI dataset\n",
        "    #train = train.append(mnli_df[mnli_df.index % 2 == 0])\n",
        "    \n",
        "    #add only every third sample from MLNI dataset\n",
        "    train = train.append(mnli_df[mnli_df.index % 3 == 0])\n",
        "    \n",
        "    #add only every 10th sample from MLNI dataset\n",
        "    #train = train.append(mnli_df[mnli_df.index % 10 == 0])\n",
        "    \n",
        "    #sanity check\n",
        "    print('Training size after adding external MNLI dataset:', train.shape)"
      ],
      "execution_count": 20,
      "outputs": [
        {
          "output_type": "stream",
          "text": [
            "Training size after adding external MNLI dataset: (143021, 3)\n"
          ],
          "name": "stdout"
        }
      ]
    },
    {
      "cell_type": "markdown",
      "metadata": {
        "id": "YP4PsHc8I9ty",
        "colab_type": "text"
      },
      "source": [
        "### Translating MNLI\n",
        "\n",
        "**We can use `nlp` to load another dataset known as [XLNI](https://huggingface.co/datasets/xnli), but this is just a subset of MNLI that has been translated into 14 different low resource languages (undersampled), so we can produce something similar ourselves. First, let's see how to load it from `nlp`:**"
      ]
    },
    {
      "cell_type": "code",
      "metadata": {
        "trusted": true,
        "id": "FCkr_SJ3I9tz",
        "colab_type": "code",
        "colab": {}
      },
      "source": [
        "#offline loading of XLNI\n",
        "xnli = nlp.load_dataset(\"xnli\")"
      ],
      "execution_count": 21,
      "outputs": []
    },
    {
      "cell_type": "code",
      "metadata": {
        "trusted": true,
        "id": "hnFDFvcxI9t0",
        "colab_type": "code",
        "colab": {
          "base_uri": "https://localhost:8080/",
          "height": 34
        },
        "outputId": "0da9bef9-37ae-4325-e323-7bfab00e8fd5"
      },
      "source": [
        "#check number of samples in train\n",
        "xnli['validation'].num_rows"
      ],
      "execution_count": 22,
      "outputs": [
        {
          "output_type": "execute_result",
          "data": {
            "text/plain": [
              "2490"
            ]
          },
          "metadata": {
            "tags": []
          },
          "execution_count": 22
        }
      ]
    },
    {
      "cell_type": "code",
      "metadata": {
        "trusted": true,
        "id": "gxZ1ZCyuI9t2",
        "colab_type": "code",
        "colab": {
          "base_uri": "https://localhost:8080/",
          "height": 834
        },
        "outputId": "d18ccf9c-1e62-4f92-e6ab-105faed09247"
      },
      "source": [
        "#view sample\n",
        "xnli['validation'][1]"
      ],
      "execution_count": 23,
      "outputs": [
        {
          "output_type": "execute_result",
          "data": {
            "text/plain": [
              "{'hypothesis': {'language': ['ar',\n",
              "   'bg',\n",
              "   'de',\n",
              "   'el',\n",
              "   'en',\n",
              "   'es',\n",
              "   'fr',\n",
              "   'hi',\n",
              "   'ru',\n",
              "   'sw',\n",
              "   'th',\n",
              "   'tr',\n",
              "   'ur',\n",
              "   'vi',\n",
              "   'zh'],\n",
              "  'translation': ['لم ينطق ببنت شفة.',\n",
              "   'Той не каза нито дума.',\n",
              "   'Er sagte kein Wort.',\n",
              "   'Δεν είπε ούτε λέξη.',\n",
              "   \"He didn't say a word.\",\n",
              "   'Él no dijo una palabra.',\n",
              "   \"Il n'a pas dit un mot.\",\n",
              "   'उसने एक शब्द नहीं कहा।',\n",
              "   'Он не произнес ни слова.',\n",
              "   'Hakusema chochote.',\n",
              "   'เขาไม่ได้พูดสักคำ',\n",
              "   'Bir kelime söylemedi.',\n",
              "   'وں ا یک لفز نھی بولا',\n",
              "   'Anh không nói một lời nào.',\n",
              "   '他没说一句话。']},\n",
              " 'label': 2,\n",
              " 'premise': {'ar': 'وقال، ماما، لقد عدت للمنزل.',\n",
              "  'bg': 'И той каза: Мамо, у дома съм.',\n",
              "  'de': 'und er hat gesagt, Mama ich bin daheim.',\n",
              "  'el': 'Και είπε, Μαμά, έφτασα στο σπίτι.',\n",
              "  'en': \"And he said, Mama, I'm home.\",\n",
              "  'es': 'Y él dijo: Mamá, estoy en casa.',\n",
              "  'fr': 'Et il a dit, maman, je suis à la maison.',\n",
              "  'hi': 'और उसने कहा, माँ, मैं घर आया हूं।',\n",
              "  'ru': 'И он сказал: Мама, я дома.',\n",
              "  'sw': 'Naye akasema, Mama, niko nyumbani.',\n",
              "  'th': 'และเขาพูดว่า, ม่าม๊า ผมอยู่บ้าน',\n",
              "  'tr': 'Ve Anne, evdeyim dedi.',\n",
              "  'ur': 'اور اس نے کہا امّی، میں گھر آگیا ہوں۔',\n",
              "  'vi': 'Và anh ấy nói, Mẹ, con đã về nhà.',\n",
              "  'zh': '他说，妈妈，我回来了。'}}"
            ]
          },
          "metadata": {
            "tags": []
          },
          "execution_count": 23
        }
      ]
    },
    {
      "cell_type": "markdown",
      "metadata": {
        "id": "lC70LwpMI9t4",
        "colab_type": "text"
      },
      "source": [
        "**We can manually create an XNLI dataset if we translate a small set of premise/hypothesis pairs from MNLI to under sampled languages in our dataset. This gives us the ability to oversample certain languages, countering against language imbalances in our training dataset. The below code randomly translates 1500 MNLI samples to Urdu and another 1500 samples to Swahili**"
      ]
    },
    {
      "cell_type": "code",
      "metadata": {
        "trusted": true,
        "id": "IhRoIttJI9t4",
        "colab_type": "code",
        "colab": {
          "base_uri": "https://localhost:8080/",
          "height": 123
        },
        "outputId": "119d84d3-e356-4314-aadc-3727a30ef1f5"
      },
      "source": [
        "#instantiate translator\n",
        "translator = Translator()\n",
        "    \n",
        "#select small set of MNLI to translate\n",
        "mnli_sample = mnli_df[mnli_df.index % 100 == 0]\n",
        "\n",
        "#shuffle sample\n",
        "mnli_sample = shuffle(mnli_sample)\n",
        "\n",
        "if ADD_XMNLI:\n",
        "    print('Training size before adding external XMNLI dataset:', train.shape)\n",
        "    #translate half to Urdu\n",
        "    print('Translating to Urdu...'); print('')\n",
        "    mnli_sample[:len(mnli_sample)//2]['premise'].apply(lambda prem: translator.translate(prem, dest = 'ur').text)\n",
        "    mnli_sample[:len(mnli_sample)//2]['hypothesis'].apply(lambda prem: translator.translate(prem, dest = 'ur').text)\n",
        "\n",
        "    #translate half to Swahili\n",
        "    print('Translating to Swahili...');print('')\n",
        "    mnli_sample[len(mnli_sample)//2:]['premise'].apply(lambda prem: translator.translate(prem, dest = 'sw').text)\n",
        "    mnli_sample[len(mnli_sample)//2:]['hypothesis'].apply(lambda prem: translator.translate(prem, dest = 'sw').text)\n",
        "    \n",
        "    #add to training dataset\n",
        "    train = train.append(mnli_sample)\n",
        "    \n",
        "    #sanity check\n",
        "    print('Training size after adding external XMNLI dataset:', train.shape)"
      ],
      "execution_count": 24,
      "outputs": [
        {
          "output_type": "stream",
          "text": [
            "Training size before adding external XMNLI dataset: (143021, 3)\n",
            "Translating to Urdu...\n",
            "\n",
            "Translating to Swahili...\n",
            "\n",
            "Training size after adding external XMNLI dataset: (146949, 3)\n"
          ],
          "name": "stdout"
        }
      ]
    },
    {
      "cell_type": "markdown",
      "metadata": {
        "id": "oCYQZr0AK-Og",
        "colab_type": "text"
      },
      "source": [
        "# Configure TPU\n",
        "\n",
        "**Now we have to make some TPU-training specific changes. First, we must connect to and initialize our TPU:**"
      ]
    },
    {
      "cell_type": "code",
      "metadata": {
        "_uuid": "d629ff2d2480ee46fbb7e2d37f6b5fab8052498a",
        "_cell_guid": "79c7e3d0-c299-4dcb-8224-4455121ee9b0",
        "trusted": true,
        "id": "5baypFOGK-Oh",
        "colab_type": "code",
        "colab": {
          "base_uri": "https://localhost:8080/",
          "height": 854
        },
        "outputId": "04136f72-2cbb-43d9-c84b-e726fcd17dd3"
      },
      "source": [
        "if DEVICE == \"TPU\":\n",
        "    print(\"connecting to TPU...\")\n",
        "    try:\n",
        "        tpu = tf.distribute.cluster_resolver.TPUClusterResolver()\n",
        "        print('Running on TPU ', tpu.master())\n",
        "    except ValueError:\n",
        "        print(\"Could not connect to TPU\")\n",
        "        tpu = None\n",
        "\n",
        "    if tpu:\n",
        "        try:\n",
        "            print(\"initializing  TPU ...\")\n",
        "            tf.config.experimental_connect_to_cluster(tpu)\n",
        "            tf.tpu.experimental.initialize_tpu_system(tpu)\n",
        "            strategy = tf.distribute.experimental.TPUStrategy(tpu)\n",
        "            print(\"TPU initialized\")\n",
        "        except _:\n",
        "            print(\"failed to initialize TPU\")\n",
        "    else:\n",
        "        DEVICE = \"GPU\"\n",
        "\n",
        "if DEVICE != \"TPU\":\n",
        "    print(\"Using default strategy for CPU and single GPU\")\n",
        "    strategy = tf.distribute.get_strategy()\n",
        "\n",
        "if DEVICE == \"GPU\":\n",
        "    print(\"Num GPUs Available: \", len(tf.config.experimental.list_physical_devices('GPU')))\n",
        "    \n",
        "\n",
        "AUTO = tf.data.experimental.AUTOTUNE\n",
        "REPLICAS = strategy.num_replicas_in_sync\n",
        "#REPLICAS = 8\n",
        "print(f'REPLICAS: {REPLICAS}')"
      ],
      "execution_count": 25,
      "outputs": [
        {
          "output_type": "stream",
          "text": [
            "connecting to TPU...\n",
            "Running on TPU  grpc://10.100.79.50:8470\n",
            "initializing  TPU ...\n",
            "INFO:tensorflow:Initializing the TPU system: grpc://10.100.79.50:8470\n"
          ],
          "name": "stdout"
        },
        {
          "output_type": "stream",
          "text": [
            "INFO:tensorflow:Initializing the TPU system: grpc://10.100.79.50:8470\n"
          ],
          "name": "stderr"
        },
        {
          "output_type": "stream",
          "text": [
            "INFO:tensorflow:Clearing out eager caches\n"
          ],
          "name": "stdout"
        },
        {
          "output_type": "stream",
          "text": [
            "INFO:tensorflow:Clearing out eager caches\n"
          ],
          "name": "stderr"
        },
        {
          "output_type": "stream",
          "text": [
            "INFO:tensorflow:Finished initializing TPU system.\n"
          ],
          "name": "stdout"
        },
        {
          "output_type": "stream",
          "text": [
            "INFO:tensorflow:Finished initializing TPU system.\n",
            "WARNING:absl:`tf.distribute.experimental.TPUStrategy` is deprecated, please use  the non experimental symbol `tf.distribute.TPUStrategy` instead.\n"
          ],
          "name": "stderr"
        },
        {
          "output_type": "stream",
          "text": [
            "INFO:tensorflow:Found TPU system:\n"
          ],
          "name": "stdout"
        },
        {
          "output_type": "stream",
          "text": [
            "INFO:tensorflow:Found TPU system:\n"
          ],
          "name": "stderr"
        },
        {
          "output_type": "stream",
          "text": [
            "INFO:tensorflow:*** Num TPU Cores: 8\n"
          ],
          "name": "stdout"
        },
        {
          "output_type": "stream",
          "text": [
            "INFO:tensorflow:*** Num TPU Cores: 8\n"
          ],
          "name": "stderr"
        },
        {
          "output_type": "stream",
          "text": [
            "INFO:tensorflow:*** Num TPU Workers: 1\n"
          ],
          "name": "stdout"
        },
        {
          "output_type": "stream",
          "text": [
            "INFO:tensorflow:*** Num TPU Workers: 1\n"
          ],
          "name": "stderr"
        },
        {
          "output_type": "stream",
          "text": [
            "INFO:tensorflow:*** Num TPU Cores Per Worker: 8\n"
          ],
          "name": "stdout"
        },
        {
          "output_type": "stream",
          "text": [
            "INFO:tensorflow:*** Num TPU Cores Per Worker: 8\n"
          ],
          "name": "stderr"
        },
        {
          "output_type": "stream",
          "text": [
            "INFO:tensorflow:*** Available Device: _DeviceAttributes(/job:localhost/replica:0/task:0/device:CPU:0, CPU, 0, 0)\n"
          ],
          "name": "stdout"
        },
        {
          "output_type": "stream",
          "text": [
            "INFO:tensorflow:*** Available Device: _DeviceAttributes(/job:localhost/replica:0/task:0/device:CPU:0, CPU, 0, 0)\n"
          ],
          "name": "stderr"
        },
        {
          "output_type": "stream",
          "text": [
            "INFO:tensorflow:*** Available Device: _DeviceAttributes(/job:localhost/replica:0/task:0/device:XLA_CPU:0, XLA_CPU, 0, 0)\n"
          ],
          "name": "stdout"
        },
        {
          "output_type": "stream",
          "text": [
            "INFO:tensorflow:*** Available Device: _DeviceAttributes(/job:localhost/replica:0/task:0/device:XLA_CPU:0, XLA_CPU, 0, 0)\n"
          ],
          "name": "stderr"
        },
        {
          "output_type": "stream",
          "text": [
            "INFO:tensorflow:*** Available Device: _DeviceAttributes(/job:worker/replica:0/task:0/device:CPU:0, CPU, 0, 0)\n"
          ],
          "name": "stdout"
        },
        {
          "output_type": "stream",
          "text": [
            "INFO:tensorflow:*** Available Device: _DeviceAttributes(/job:worker/replica:0/task:0/device:CPU:0, CPU, 0, 0)\n"
          ],
          "name": "stderr"
        },
        {
          "output_type": "stream",
          "text": [
            "INFO:tensorflow:*** Available Device: _DeviceAttributes(/job:worker/replica:0/task:0/device:TPU:0, TPU, 0, 0)\n"
          ],
          "name": "stdout"
        },
        {
          "output_type": "stream",
          "text": [
            "INFO:tensorflow:*** Available Device: _DeviceAttributes(/job:worker/replica:0/task:0/device:TPU:0, TPU, 0, 0)\n"
          ],
          "name": "stderr"
        },
        {
          "output_type": "stream",
          "text": [
            "INFO:tensorflow:*** Available Device: _DeviceAttributes(/job:worker/replica:0/task:0/device:TPU:1, TPU, 0, 0)\n"
          ],
          "name": "stdout"
        },
        {
          "output_type": "stream",
          "text": [
            "INFO:tensorflow:*** Available Device: _DeviceAttributes(/job:worker/replica:0/task:0/device:TPU:1, TPU, 0, 0)\n"
          ],
          "name": "stderr"
        },
        {
          "output_type": "stream",
          "text": [
            "INFO:tensorflow:*** Available Device: _DeviceAttributes(/job:worker/replica:0/task:0/device:TPU:2, TPU, 0, 0)\n"
          ],
          "name": "stdout"
        },
        {
          "output_type": "stream",
          "text": [
            "INFO:tensorflow:*** Available Device: _DeviceAttributes(/job:worker/replica:0/task:0/device:TPU:2, TPU, 0, 0)\n"
          ],
          "name": "stderr"
        },
        {
          "output_type": "stream",
          "text": [
            "INFO:tensorflow:*** Available Device: _DeviceAttributes(/job:worker/replica:0/task:0/device:TPU:3, TPU, 0, 0)\n"
          ],
          "name": "stdout"
        },
        {
          "output_type": "stream",
          "text": [
            "INFO:tensorflow:*** Available Device: _DeviceAttributes(/job:worker/replica:0/task:0/device:TPU:3, TPU, 0, 0)\n"
          ],
          "name": "stderr"
        },
        {
          "output_type": "stream",
          "text": [
            "INFO:tensorflow:*** Available Device: _DeviceAttributes(/job:worker/replica:0/task:0/device:TPU:4, TPU, 0, 0)\n"
          ],
          "name": "stdout"
        },
        {
          "output_type": "stream",
          "text": [
            "INFO:tensorflow:*** Available Device: _DeviceAttributes(/job:worker/replica:0/task:0/device:TPU:4, TPU, 0, 0)\n"
          ],
          "name": "stderr"
        },
        {
          "output_type": "stream",
          "text": [
            "INFO:tensorflow:*** Available Device: _DeviceAttributes(/job:worker/replica:0/task:0/device:TPU:5, TPU, 0, 0)\n"
          ],
          "name": "stdout"
        },
        {
          "output_type": "stream",
          "text": [
            "INFO:tensorflow:*** Available Device: _DeviceAttributes(/job:worker/replica:0/task:0/device:TPU:5, TPU, 0, 0)\n"
          ],
          "name": "stderr"
        },
        {
          "output_type": "stream",
          "text": [
            "INFO:tensorflow:*** Available Device: _DeviceAttributes(/job:worker/replica:0/task:0/device:TPU:6, TPU, 0, 0)\n"
          ],
          "name": "stdout"
        },
        {
          "output_type": "stream",
          "text": [
            "INFO:tensorflow:*** Available Device: _DeviceAttributes(/job:worker/replica:0/task:0/device:TPU:6, TPU, 0, 0)\n"
          ],
          "name": "stderr"
        },
        {
          "output_type": "stream",
          "text": [
            "INFO:tensorflow:*** Available Device: _DeviceAttributes(/job:worker/replica:0/task:0/device:TPU:7, TPU, 0, 0)\n"
          ],
          "name": "stdout"
        },
        {
          "output_type": "stream",
          "text": [
            "INFO:tensorflow:*** Available Device: _DeviceAttributes(/job:worker/replica:0/task:0/device:TPU:7, TPU, 0, 0)\n"
          ],
          "name": "stderr"
        },
        {
          "output_type": "stream",
          "text": [
            "INFO:tensorflow:*** Available Device: _DeviceAttributes(/job:worker/replica:0/task:0/device:TPU_SYSTEM:0, TPU_SYSTEM, 0, 0)\n"
          ],
          "name": "stdout"
        },
        {
          "output_type": "stream",
          "text": [
            "INFO:tensorflow:*** Available Device: _DeviceAttributes(/job:worker/replica:0/task:0/device:TPU_SYSTEM:0, TPU_SYSTEM, 0, 0)\n"
          ],
          "name": "stderr"
        },
        {
          "output_type": "stream",
          "text": [
            "INFO:tensorflow:*** Available Device: _DeviceAttributes(/job:worker/replica:0/task:0/device:XLA_CPU:0, XLA_CPU, 0, 0)\n"
          ],
          "name": "stdout"
        },
        {
          "output_type": "stream",
          "text": [
            "INFO:tensorflow:*** Available Device: _DeviceAttributes(/job:worker/replica:0/task:0/device:XLA_CPU:0, XLA_CPU, 0, 0)\n"
          ],
          "name": "stderr"
        },
        {
          "output_type": "stream",
          "text": [
            "TPU initialized\n",
            "REPLICAS: 8\n"
          ],
          "name": "stdout"
        }
      ]
    },
    {
      "cell_type": "code",
      "metadata": {
        "trusted": true,
        "id": "yI04p1euK-Oi",
        "colab_type": "code",
        "colab": {}
      },
      "source": [
        "#choose batch size - will depend on cores of our device\n",
        "BATCH_SIZE = 32 * REPLICAS"
      ],
      "execution_count": 26,
      "outputs": []
    },
    {
      "cell_type": "markdown",
      "metadata": {
        "id": "I5nXqI4AK-Oo",
        "colab_type": "text"
      },
      "source": [
        "# Getting Datasets\n",
        "\n",
        "**HuggingFace Transformers makes it unbelievable easy to use transformers. In fact, you don't even need to specify the transformer or tokenizer: its architecture can be guessed from the name or path of the pretrained model you specify in the `from_pretrained` method. To read more about AutoModels/Tokenizers, see [this](https://huggingface.co/transformers/model_doc/auto.html)**"
      ]
    },
    {
      "cell_type": "code",
      "metadata": {
        "trusted": true,
        "id": "gqeX9fczK-Ok",
        "colab_type": "code",
        "colab": {}
      },
      "source": [
        "#get HuggingFace transformers\n",
        "!pip install --quiet transformers\n",
        "\n",
        "#import model and Tokenizer\n",
        "from transformers import TFAutoModel, AutoTokenizer\n",
        "\n",
        "#get paths to TensorFlow XLM-RoBERTa base and large models\n",
        "roberta_base = \"jplu/tf-xlm-roberta-base\"\n",
        "roberta_large = 'jplu/tf-xlm-roberta-large'"
      ],
      "execution_count": 27,
      "outputs": []
    },
    {
      "cell_type": "markdown",
      "metadata": {
        "id": "qGDUq3o-I9uA",
        "colab_type": "text"
      },
      "source": [
        "## Augmented Datasets\n",
        "\n",
        "**We can start by creating a simple train/validation split here and then converting them to `tf.data.Dataset` format which is the format we need to put our datasets into before we send them to the TPUs. For more about buidling data pipelines in TensorFlow, see [here](https://www.tensorflow.org/guide/data):**\n",
        "\n",
        "**Now, we do not want any samples in our validation set used to create the augmented dataset, or we will overfit our validation data. So you can either split your data into train and validation first and then augment only on train, or you can import the offline dataset and manually remove the validation indices from it and add that to the original training data**"
      ]
    },
    {
      "cell_type": "code",
      "metadata": {
        "trusted": true,
        "id": "Ko91R5R8I9uA",
        "colab_type": "code",
        "colab": {
          "base_uri": "https://localhost:8080/",
          "height": 34
        },
        "outputId": "ac37bc6e-788b-4ca1-f385-7f1e65e1dec4"
      },
      "source": [
        "#get train, val splits\n",
        "train, val, train_labels, val_labels = train_test_split(train, train['label'],\n",
        "                                                        test_size = 0.2,\n",
        "                                                        random_state = SEED)\n",
        "\n",
        "#check size before augmenting\n",
        "print(f'Training size before translation augmentation: {len(train)}')\n",
        "\n",
        "if GEN_AUG:\n",
        "    #now we generate augmented data\n",
        "    train_aug = train.copy().pipe(translation_aug_parallel)\n",
        "\n",
        "if ADD_AUG:\n",
        "    #remove validation indexs samples from our augmented dataset\n",
        "    train_aug = train_aug.drop(val.index)\n",
        "    train_twice_aug = train_twice_aug.drop(val.index)\n",
        "\n",
        "    #and shuffle\n",
        "    train_aug = shuffle(train_aug)\n",
        "    train_twice_aug = shuffle(train_twice_aug)\n",
        "\n",
        "    #add only twice augmented dataset to existing training dataset\n",
        "    train = train.append(train_twice_aug)\n",
        "    train_labels = train_labels.append(train_twice_aug['label'])\n",
        "\n",
        "    #add both external datasets to existing training dataset\n",
        "    #train = train.append([train_aug, train_twice_aug])\n",
        "    #train_labels = train_labels.append([train_aug['label'], train_twice_aug['label']])"
      ],
      "execution_count": 28,
      "outputs": [
        {
          "output_type": "stream",
          "text": [
            "Training size before translation augmentation: 117559\n"
          ],
          "name": "stdout"
        }
      ]
    },
    {
      "cell_type": "code",
      "metadata": {
        "trusted": true,
        "id": "aBwflbRnI9uC",
        "colab_type": "code",
        "colab": {
          "base_uri": "https://localhost:8080/",
          "height": 34
        },
        "outputId": "b885e850-15fb-4825-f29a-1350496913f6"
      },
      "source": [
        "#check size after augmenting\n",
        "print(f'Training size after translation augmentation: {len(train)}')"
      ],
      "execution_count": 29,
      "outputs": [
        {
          "output_type": "stream",
          "text": [
            "Training size after translation augmentation: 117559\n"
          ],
          "name": "stdout"
        }
      ]
    },
    {
      "cell_type": "code",
      "metadata": {
        "trusted": true,
        "id": "i470uUitK-Om",
        "colab_type": "code",
        "colab": {
          "base_uri": "https://localhost:8080/",
          "height": 214
        },
        "outputId": "5a6554d3-8d1b-40a3-ab14-566dfb07730c"
      },
      "source": [
        "#create tokenzer object\n",
        "TOKENIZER = AutoTokenizer.from_pretrained(roberta_large)\n",
        "\n",
        "#define inputs to give our tokenizer (and training labels)\n",
        "train_text = train[['premise', 'hypothesis']].values.tolist()\n",
        "val_text = val[['premise', 'hypothesis']].values.tolist()\n",
        "test_text = test[['premise', 'hypothesis']].values.tolist()\n",
        "\n",
        "#tokenize our text here\n",
        "#will functionize these later\n",
        "print('Encoding train...')\n",
        "train_enc = TOKENIZER.batch_encode_plus(\n",
        "    train_text,\n",
        "    pad_to_max_length = True,\n",
        "    max_length = MAX_LEN\n",
        ")\n",
        "print('')\n",
        "\n",
        "print('Encoding validation...')\n",
        "val_enc = TOKENIZER.batch_encode_plus(\n",
        "    val_text,\n",
        "    pad_to_max_length = True,\n",
        "    max_length = MAX_LEN\n",
        ")\n",
        "print('')\n",
        "\n",
        "print('Encoding test...')\n",
        "test_enc = TOKENIZER.batch_encode_plus(\n",
        "    test_text,\n",
        "    pad_to_max_length = True,\n",
        "    max_length = MAX_LEN\n",
        ")\n",
        "print('')\n",
        "print('Done')"
      ],
      "execution_count": 30,
      "outputs": [
        {
          "output_type": "stream",
          "text": [
            "WARNING:transformers.tokenization_utils_base:Truncation was not explicitely activated but `max_length` is provided a specific value, please use `truncation=True` to explicitely truncate examples to max length. Defaulting to 'longest_first' truncation strategy. If you encode pairs of sequences (GLUE-style) with the tokenizer you can select this strategy more precisely by providing a specific strategy to `truncation`.\n"
          ],
          "name": "stderr"
        },
        {
          "output_type": "stream",
          "text": [
            "Encoding train...\n"
          ],
          "name": "stdout"
        },
        {
          "output_type": "stream",
          "text": [
            "WARNING:transformers.tokenization_utils_base:Truncation was not explicitely activated but `max_length` is provided a specific value, please use `truncation=True` to explicitely truncate examples to max length. Defaulting to 'longest_first' truncation strategy. If you encode pairs of sequences (GLUE-style) with the tokenizer you can select this strategy more precisely by providing a specific strategy to `truncation`.\n"
          ],
          "name": "stderr"
        },
        {
          "output_type": "stream",
          "text": [
            "\n",
            "Encoding validation...\n"
          ],
          "name": "stdout"
        },
        {
          "output_type": "stream",
          "text": [
            "WARNING:transformers.tokenization_utils_base:Truncation was not explicitely activated but `max_length` is provided a specific value, please use `truncation=True` to explicitely truncate examples to max length. Defaulting to 'longest_first' truncation strategy. If you encode pairs of sequences (GLUE-style) with the tokenizer you can select this strategy more precisely by providing a specific strategy to `truncation`.\n"
          ],
          "name": "stderr"
        },
        {
          "output_type": "stream",
          "text": [
            "\n",
            "Encoding test...\n",
            "\n",
            "Done\n"
          ],
          "name": "stdout"
        }
      ]
    },
    {
      "cell_type": "code",
      "metadata": {
        "trusted": true,
        "id": "-LCYg07JK-Op",
        "colab_type": "code",
        "colab": {
          "base_uri": "https://localhost:8080/",
          "height": 141
        },
        "outputId": "e1cc21f2-0de1-4a98-93b0-4c57c1b58d05"
      },
      "source": [
        "#convert train dataset to tf.data.Dataset format\n",
        "print('Converting train dataset to TPU format...')\n",
        "train_ds = (\n",
        "    tf.data.Dataset\n",
        "    .from_tensor_slices((train_enc['input_ids'], train_labels))\n",
        "    .repeat()\n",
        "    .shuffle(2048)\n",
        "    .batch(BATCH_SIZE)\n",
        "    .prefetch(AUTO)\n",
        ")\n",
        "print('')\n",
        "\n",
        "#convert validation dataset to tf.data.Dataset format\n",
        "print('Converting validation dataset to TPU format...')\n",
        "val_ds = (\n",
        "    tf.data.Dataset\n",
        "    .from_tensor_slices((val_enc['input_ids'], val_labels))\n",
        "    .batch(BATCH_SIZE)\n",
        "    .prefetch(AUTO)\n",
        ")\n",
        "print('')\n",
        "\n",
        "#convert test dataset to tf.data.Dataset format\n",
        "print('Converting test dataset to TPU format...')\n",
        "test_ds = (\n",
        "    tf.data.Dataset\n",
        "    .from_tensor_slices(test_enc['input_ids'])\n",
        "    .batch(BATCH_SIZE)\n",
        ")\n",
        "print('')\n",
        "print('Done')"
      ],
      "execution_count": 31,
      "outputs": [
        {
          "output_type": "stream",
          "text": [
            "Converting train dataset to TPU format...\n",
            "\n",
            "Converting validation dataset to TPU format...\n",
            "\n",
            "Converting test dataset to TPU format...\n",
            "\n",
            "Done\n"
          ],
          "name": "stdout"
        }
      ]
    },
    {
      "cell_type": "markdown",
      "metadata": {
        "id": "2uAHlCN6K-Os",
        "colab_type": "text"
      },
      "source": [
        "# Learning Rate Schedule\n",
        "\n",
        "**It is generally a good idea to use a learning rate scheduler when transfer learning. Our pretrained model already knows quite a bit, so we want to start the learning rate at 0: if we start with a high learning rate, there is a chance we 'erase' the weights that the model already had, defeating the purpose of transfer learning. We then slowly increase the learning rate as the model adapts to the new data:** \n",
        "\n",
        "**Note that I am still figuring out the best learning rate schedule as the current one does not seem to provide much increase in score/smoother training**"
      ]
    },
    {
      "cell_type": "code",
      "metadata": {
        "trusted": true,
        "id": "mruu9foJK-Os",
        "colab_type": "code",
        "colab": {
          "base_uri": "https://localhost:8080/",
          "height": 332
        },
        "outputId": "2d10f77f-56ff-41d9-9917-723f176910c7"
      },
      "source": [
        "#define learning rate parameters\n",
        "LR_START = 1e-6\n",
        "LR_MAX = 1e-6 * REPLICAS\n",
        "LR_MIN = 1e-6\n",
        "LR_RAMPUP_EPOCHS = 3\n",
        "LR_SUSTAIN_EPOCHS = 0\n",
        "LR_DECAY = .8\n",
        "\n",
        "#stepwise schedule\n",
        "def lrfn_step(epoch):\n",
        "    if epoch < LR_RAMPUP_EPOCHS:\n",
        "        lr = (LR_MAX - LR_START) / LR_RAMPUP_EPOCHS * epoch + LR_START\n",
        "    elif epoch < LR_RAMPUP_EPOCHS + LR_SUSTAIN_EPOCHS:\n",
        "        lr = LR_MAX\n",
        "    else:\n",
        "        lr = LR_MAX * LR_DECAY**((epoch - LR_RAMPUP_EPOCHS - LR_SUSTAIN_EPOCHS)//2)\n",
        "    return lr\n",
        "\n",
        "\n",
        "#smoothish schedule\n",
        "def lrfn_smooth(epoch):\n",
        "    if epoch < LR_RAMPUP_EPOCHS:\n",
        "        lr = (LR_MAX - LR_START) / LR_RAMPUP_EPOCHS * epoch + LR_START\n",
        "    elif epoch < LR_RAMPUP_EPOCHS + LR_SUSTAIN_EPOCHS:\n",
        "        lr = LR_MAX\n",
        "    else:\n",
        "        lr = (LR_MAX - LR_MIN) * LR_DECAY**(epoch - LR_RAMPUP_EPOCHS - LR_SUSTAIN_EPOCHS) + LR_MIN\n",
        "    return lr\n",
        "    \n",
        "lr_callback_step = tf.keras.callbacks.LearningRateScheduler(lrfn_step, verbose = True)\n",
        "lr_callback_smooth = tf.keras.callbacks.LearningRateScheduler(lrfn_smooth, verbose = True)\n",
        "\n",
        "#visualize learning rate schedule\n",
        "rng = [i for i in range(EPOCHS)]\n",
        "y1 = [lrfn_step(x) for x in rng]\n",
        "y2 = [lrfn_smooth(x) for x in rng]\n",
        "fix, ax = plt.subplots(1,2)\n",
        "ax[0].plot(rng, y1)\n",
        "ax[1].plot(rng, y2)\n",
        "plt.tight_layout()\n",
        "print(\"Learning rate schedule for step schedule: {:.3g} to {:.3g} to {:.3g}\".format(y1[0], max(y1), y1[-1]))\n",
        "print(\"Learning rate schedule for smooth schedule: {:.3g} to {:.3g} to {:.3g}\".format(y2[0], max(y2), y2[-1]))"
      ],
      "execution_count": 32,
      "outputs": [
        {
          "output_type": "stream",
          "text": [
            "Learning rate schedule for step schedule: 1e-06 to 8e-06 to 4.1e-06\n",
            "Learning rate schedule for smooth schedule: 1e-06 to 8e-06 to 2.84e-06\n"
          ],
          "name": "stdout"
        },
        {
          "output_type": "display_data",
          "data": {
            "image/png": "[encoded data removed]",
            "text/plain": [
              "<Figure size 432x288 with 2 Axes>"
            ]
          },
          "metadata": {
            "tags": [],
            "needs_background": "light"
          }
        }
      ]
    },
    {
      "cell_type": "markdown",
      "metadata": {
        "id": "aax9hzclK-Ou",
        "colab_type": "text"
      },
      "source": [
        "# Model Training\n",
        "\n",
        "**We can use the `mish` activation here which is a non-monotonic activation function that tends to work better than `relu`. You can read more about it [here](https://arxiv.org/abs/1908.08681#:~:text=Mish%3A%20A%20Self%20Regularized%20Non%2DMonotonic%20Neural%20Activation%20Function,-Diganta%20Misra&text=In%20this%20work%2C%20a%20novel,deep%20networks%20across%20challenging%20datasets). Sadly, it is not a predefined activation function in `tf.keras` so we need to construct it ourselves, which is easy to do**\n",
        "\n",
        "**Here is a quick graphic that shows the differences between the most popular activation functions:**\n",
        "\n",
        "![](https://raw.githubusercontent.com/krutikabapat/krutikabapat.github.io/master/assets/activation.png)\n",
        "\n",
        "*Image taken from [here](https://krutikabapat.github.io/Swish-Vs-Mish-Latest-Activation-Functions/)*"
      ]
    },
    {
      "cell_type": "code",
      "metadata": {
        "trusted": true,
        "id": "JBL0oVMsI9uJ",
        "colab_type": "code",
        "colab": {}
      },
      "source": [
        "from tensorflow.math import softplus, tanh\n",
        "from tensorflow.keras.utils import get_custom_objects\n",
        "from tensorflow.keras.layers import Dense, Input, Activation, Dropout\n",
        "\n",
        "# softplus - log(exp(x)+1)\n",
        "def mish(x):\n",
        "    return x*tanh(softplus(x))\n",
        "\n",
        "#create misch activation to use in tf.keras\n",
        "get_custom_objects()[\"mish\"] = Activation(mish)"
      ],
      "execution_count": 33,
      "outputs": []
    },
    {
      "cell_type": "code",
      "metadata": {
        "trusted": true,
        "id": "pbO97U7qK-Ou",
        "colab_type": "code",
        "colab": {}
      },
      "source": [
        "#helper function to create our model\n",
        "def build_model(transformer_layer, learning_rate = LR_RATE):\n",
        "    #must use this to send to TPU cores\n",
        "    with strategy.scope():\n",
        "        #define input(s)\n",
        "        input_ids = tf.keras.Input(shape = (MAX_LEN,), dtype = tf.int32)\n",
        "        \n",
        "        #insert roberta layer\n",
        "        roberta = TFAutoModel.from_pretrained(transformer_layer)\n",
        "        roberta = roberta(input_ids)[0]\n",
        "        \n",
        "        #only need <s> token here, so we extract it now\n",
        "        out = roberta[:, 0, :]\n",
        "        \n",
        "        #add optional Dense layer with dropout\n",
        "        #out = tf.keras.layers.Dropout(.2)(out)\n",
        "        \n",
        "        #two layers with mish activation\n",
        "        #out = tf.keras.layers.Dense(MAX_LEN // 2, activation='mish')(out)\n",
        "        #out = tf.keras.layers.Dense(MAX_LEN // 4, activation='mish')(out)\n",
        "        \n",
        "        #two layers with relu activation\n",
        "        #out = tf.keras.layers.Dense(32, activation = 'relu')(out)\n",
        "        #out = tf.keras.layers.Dense(16, activation = 'relu')(out)\n",
        "        \n",
        "        #add our softmax layer\n",
        "        out = tf.keras.layers.Dense(3, activation = 'softmax')(out)\n",
        "        \n",
        "        #assemble model and compile\n",
        "        model = tf.keras.Model(inputs = input_ids, outputs = out)\n",
        "        model.compile(\n",
        "                        optimizer = tf.keras.optimizers.Adam(lr = LR_RATE), \n",
        "                        loss = 'sparse_categorical_crossentropy', \n",
        "                        metrics = ['accuracy'])\n",
        "        \n",
        "    return model  "
      ],
      "execution_count": 34,
      "outputs": []
    },
    {
      "cell_type": "markdown",
      "metadata": {
        "id": "LWb6BlCUI9uM",
        "colab_type": "text"
      },
      "source": [
        "**Some people don't believe in saving the best model and loading it after training. For one, it takes up extra space, especially if your model has hundreds of millions of parameters. In fact, you can only save 3 copies of RoBERTa-large to Kaggle memory before you run out of space**\n",
        "\n",
        "**Secondly, your training should be stable, so setting your training to a fixed number of epochs should produce similar results as using a `val_loss` monitor. If you are worried that training your model for one or two more epochs will completely throw your weights off, then you haven't found good weights for your model (for smaller models where you can easily regularize your model to train for longer periods of time). That being said, RoBERTa is a large model that can quickly overfit a dataset in a single epoch, so we will use a `val_loss` checkpoint callback:**"
      ]
    },
    {
      "cell_type": "code",
      "metadata": {
        "trusted": true,
        "id": "y-teFNvHI9uM",
        "colab_type": "code",
        "colab": {
          "base_uri": "https://localhost:8080/",
          "height": 996
        },
        "outputId": "8e8394ab-ca84-43b2-e6ce-f8bb2e8ea89e"
      },
      "source": [
        "#choose to see training\n",
        "#0 for nothing, 1 for progress bar, 2 for each epoch\n",
        "VERBOSE = 2\n",
        "\n",
        "#to clear the TPU memory\n",
        "print('---' *20)\n",
        "print(f\"Getting model...\")\n",
        "if DEVICE == 'TPU':\n",
        "    tf.tpu.experimental.initialize_tpu_system(tpu)\n",
        "    \n",
        "#get steps per epoch values\n",
        "STEPS_PER_EPOCH = len(train) // BATCH_SIZE\n",
        "\n",
        "#make callback to save best model from training\n",
        "save_callback = tf.keras.callbacks.ModelCheckpoint(f\"best_model.h5\", monitor = 'val_loss', verbose = 0,\n",
        "                        save_best_only = True, save_weights_only = True, mode = 'min')\n",
        "\n",
        "#build and make save callback\n",
        "RoBERTa = build_model(roberta_base)\n",
        "print(f\"Training with batch size {BATCH_SIZE}\")\n",
        "\n",
        "#and train\n",
        "history = RoBERTa.fit(train_ds, steps_per_epoch = STEPS_PER_EPOCH,\n",
        "                      #validation_split = .2, \n",
        "                      validation_data = val_ds,\n",
        "                      epochs = EPOCHS, verbose = VERBOSE,\n",
        "                      callbacks = [save_callback],\n",
        "                      #callbacks = [save_callback, lr_callback_smooth]\n",
        "                      )"
      ],
      "execution_count": 35,
      "outputs": [
        {
          "output_type": "stream",
          "text": [
            "------------------------------------------------------------\n",
            "Getting model...\n",
            "WARNING:tensorflow:TPU system grpc://10.100.79.50:8470 has already been initialized. Reinitializing the TPU can cause previously created variables on TPU to be lost.\n"
          ],
          "name": "stdout"
        },
        {
          "output_type": "stream",
          "text": [
            "WARNING:tensorflow:TPU system grpc://10.100.79.50:8470 has already been initialized. Reinitializing the TPU can cause previously created variables on TPU to be lost.\n"
          ],
          "name": "stderr"
        },
        {
          "output_type": "stream",
          "text": [
            "INFO:tensorflow:Initializing the TPU system: grpc://10.100.79.50:8470\n"
          ],
          "name": "stdout"
        },
        {
          "output_type": "stream",
          "text": [
            "INFO:tensorflow:Initializing the TPU system: grpc://10.100.79.50:8470\n"
          ],
          "name": "stderr"
        },
        {
          "output_type": "stream",
          "text": [
            "INFO:tensorflow:Clearing out eager caches\n"
          ],
          "name": "stdout"
        },
        {
          "output_type": "stream",
          "text": [
            "INFO:tensorflow:Clearing out eager caches\n"
          ],
          "name": "stderr"
        },
        {
          "output_type": "stream",
          "text": [
            "INFO:tensorflow:Finished initializing TPU system.\n"
          ],
          "name": "stdout"
        },
        {
          "output_type": "stream",
          "text": [
            "INFO:tensorflow:Finished initializing TPU system.\n",
            "WARNING:transformers.modeling_tf_utils:Some weights of the model checkpoint at jplu/tf-xlm-roberta-base were not used when initializing TFRobertaModel: ['lm_head']\n",
            "- This IS expected if you are initializing TFRobertaModel from the checkpoint of a model trained on another task or with another architecture (e.g. initializing a BertForSequenceClassification model from a BertForPretraining model).\n",
            "- This IS NOT expected if you are initializing TFRobertaModel from the checkpoint of a model that you expect to be exactly identical (initializing a BertForSequenceClassification model from a BertForSequenceClassification model).\n",
            "WARNING:transformers.modeling_tf_utils:All the weights of TFRobertaModel were initialized from the model checkpoint at jplu/tf-xlm-roberta-base.\n",
            "If your task is similar to the task the model of the ckeckpoint was trained on, you can already use TFRobertaModel for predictions without further training.\n"
          ],
          "name": "stderr"
        },
        {
          "output_type": "stream",
          "text": [
            "Training with batch size 256\n",
            "Epoch 1/10\n",
            "WARNING:tensorflow:From /usr/local/lib/python3.6/dist-packages/tensorflow/python/data/ops/multi_device_iterator_ops.py:601: get_next_as_optional (from tensorflow.python.data.ops.iterator_ops) is deprecated and will be removed in a future version.\n",
            "Instructions for updating:\n",
            "Use `tf.data.Iterator.get_next_as_optional()` instead.\n"
          ],
          "name": "stdout"
        },
        {
          "output_type": "stream",
          "text": [
            "WARNING:tensorflow:From /usr/local/lib/python3.6/dist-packages/tensorflow/python/data/ops/multi_device_iterator_ops.py:601: get_next_as_optional (from tensorflow.python.data.ops.iterator_ops) is deprecated and will be removed in a future version.\n",
            "Instructions for updating:\n",
            "Use `tf.data.Iterator.get_next_as_optional()` instead.\n"
          ],
          "name": "stderr"
        },
        {
          "output_type": "stream",
          "text": [
            "WARNING:tensorflow:Gradients do not exist for variables ['tf_roberta_model/roberta/pooler/dense/kernel:0', 'tf_roberta_model/roberta/pooler/dense/bias:0'] when minimizing the loss.\n"
          ],
          "name": "stdout"
        },
        {
          "output_type": "stream",
          "text": [
            "WARNING:tensorflow:Gradients do not exist for variables ['tf_roberta_model/roberta/pooler/dense/kernel:0', 'tf_roberta_model/roberta/pooler/dense/bias:0'] when minimizing the loss.\n"
          ],
          "name": "stderr"
        },
        {
          "output_type": "stream",
          "text": [
            "WARNING:tensorflow:Gradients do not exist for variables ['tf_roberta_model/roberta/pooler/dense/kernel:0', 'tf_roberta_model/roberta/pooler/dense/bias:0'] when minimizing the loss.\n"
          ],
          "name": "stdout"
        },
        {
          "output_type": "stream",
          "text": [
            "WARNING:tensorflow:Gradients do not exist for variables ['tf_roberta_model/roberta/pooler/dense/kernel:0', 'tf_roberta_model/roberta/pooler/dense/bias:0'] when minimizing the loss.\n"
          ],
          "name": "stderr"
        },
        {
          "output_type": "stream",
          "text": [
            "WARNING:tensorflow:Gradients do not exist for variables ['tf_roberta_model/roberta/pooler/dense/kernel:0', 'tf_roberta_model/roberta/pooler/dense/bias:0'] when minimizing the loss.\n"
          ],
          "name": "stdout"
        },
        {
          "output_type": "stream",
          "text": [
            "WARNING:tensorflow:Gradients do not exist for variables ['tf_roberta_model/roberta/pooler/dense/kernel:0', 'tf_roberta_model/roberta/pooler/dense/bias:0'] when minimizing the loss.\n"
          ],
          "name": "stderr"
        },
        {
          "output_type": "stream",
          "text": [
            "WARNING:tensorflow:Gradients do not exist for variables ['tf_roberta_model/roberta/pooler/dense/kernel:0', 'tf_roberta_model/roberta/pooler/dense/bias:0'] when minimizing the loss.\n"
          ],
          "name": "stdout"
        },
        {
          "output_type": "stream",
          "text": [
            "WARNING:tensorflow:Gradients do not exist for variables ['tf_roberta_model/roberta/pooler/dense/kernel:0', 'tf_roberta_model/roberta/pooler/dense/bias:0'] when minimizing the loss.\n"
          ],
          "name": "stderr"
        },
        {
          "output_type": "stream",
          "text": [
            "WARNING:tensorflow:Callbacks method `on_train_batch_end` is slow compared to the batch time (batch time: 0.0082s vs `on_train_batch_end` time: 0.2130s). Check your callbacks.\n"
          ],
          "name": "stdout"
        },
        {
          "output_type": "stream",
          "text": [
            "WARNING:tensorflow:Callbacks method `on_train_batch_end` is slow compared to the batch time (batch time: 0.0082s vs `on_train_batch_end` time: 0.2130s). Check your callbacks.\n"
          ],
          "name": "stderr"
        },
        {
          "output_type": "stream",
          "text": [
            "WARNING:tensorflow:Callbacks method `on_test_batch_end` is slow compared to the batch time (batch time: 0.0037s vs `on_test_batch_end` time: 0.0518s). Check your callbacks.\n"
          ],
          "name": "stdout"
        },
        {
          "output_type": "stream",
          "text": [
            "WARNING:tensorflow:Callbacks method `on_test_batch_end` is slow compared to the batch time (batch time: 0.0037s vs `on_test_batch_end` time: 0.0518s). Check your callbacks.\n"
          ],
          "name": "stderr"
        },
        {
          "output_type": "stream",
          "text": [
            "459/459 - 169s - loss: 1.1003 - accuracy: 0.4362 - val_loss: 0.8456 - val_accuracy: 0.6317\n",
            "Epoch 2/10\n",
            "459/459 - 116s - loss: 0.7346 - accuracy: 0.6856 - val_loss: 0.6124 - val_accuracy: 0.7509\n",
            "Epoch 3/10\n",
            "459/459 - 117s - loss: 0.5993 - accuracy: 0.7543 - val_loss: 0.5726 - val_accuracy: 0.7737\n",
            "Epoch 4/10\n",
            "459/459 - 117s - loss: 0.5331 - accuracy: 0.7860 - val_loss: 0.5448 - val_accuracy: 0.7870\n",
            "Epoch 5/10\n",
            "459/459 - 109s - loss: 0.4842 - accuracy: 0.8082 - val_loss: 0.5479 - val_accuracy: 0.7864\n",
            "Epoch 6/10\n",
            "459/459 - 117s - loss: 0.4431 - accuracy: 0.8257 - val_loss: 0.5423 - val_accuracy: 0.7944\n",
            "Epoch 7/10\n",
            "459/459 - 109s - loss: 0.4034 - accuracy: 0.8434 - val_loss: 0.5602 - val_accuracy: 0.7969\n",
            "Epoch 8/10\n",
            "459/459 - 109s - loss: 0.3677 - accuracy: 0.8576 - val_loss: 0.5672 - val_accuracy: 0.8008\n",
            "Epoch 9/10\n",
            "459/459 - 109s - loss: 0.3332 - accuracy: 0.8733 - val_loss: 0.6004 - val_accuracy: 0.8014\n",
            "Epoch 10/10\n",
            "459/459 - 109s - loss: 0.2995 - accuracy: 0.8875 - val_loss: 0.6264 - val_accuracy: 0.7980\n"
          ],
          "name": "stdout"
        }
      ]
    },
    {
      "cell_type": "markdown",
      "metadata": {
        "id": "fXkVdrpTI9uP",
        "colab_type": "text"
      },
      "source": [
        "**Once the model's weights have been saved to the disk, we can easily load them into an untrained model. This means we only need to train once and then we can store the weights in another notebook with other model weights to easily compare the performance of different models**"
      ]
    },
    {
      "cell_type": "code",
      "metadata": {
        "trusted": true,
        "id": "0XtLcmG1I9uP",
        "colab_type": "code",
        "colab": {
          "base_uri": "https://localhost:8080/",
          "height": 52
        },
        "outputId": "bcb154d7-b54d-4b70-b916-106f2d3188ed"
      },
      "source": [
        "#load best model\n",
        "print('Loading best model...')\n",
        "RoBERTa.load_weights(f\"best_model.h5\")\n",
        "print('Best model loaded')"
      ],
      "execution_count": 36,
      "outputs": [
        {
          "output_type": "stream",
          "text": [
            "Loading best model...\n",
            "Best model loaded\n"
          ],
          "name": "stdout"
        }
      ]
    },
    {
      "cell_type": "markdown",
      "metadata": {
        "id": "0yHKq8prI9uQ",
        "colab_type": "text"
      },
      "source": [
        "# Test Time Augmentation\n",
        "\n",
        "**Here we will experiment with test time augmentation by predicting on our 3 separate test datasets and then averaging the results. This is standard practice in computer vision so I want to test it in NLP to see how it performs:**"
      ]
    },
    {
      "cell_type": "code",
      "metadata": {
        "trusted": true,
        "id": "MkaLRHwmI9uR",
        "colab_type": "code",
        "colab": {
          "base_uri": "https://localhost:8080/",
          "height": 215
        },
        "outputId": "d96092a2-49b7-46ef-9069-f5ac118701aa"
      },
      "source": [
        "#get external augmented test sets\n",
        "test_aug = pd.read_csv('translation_aug_test.csv')\n",
        "test_twice_aug = pd.read_csv('twice_translated_aug_test.csv')\n",
        "\n",
        "#compare different datasets\n",
        "print(test.shape)\n",
        "test.head()"
      ],
      "execution_count": 37,
      "outputs": [
        {
          "output_type": "stream",
          "text": [
            "(5195, 5)\n"
          ],
          "name": "stdout"
        },
        {
          "output_type": "execute_result",
          "data": {
            "text/html": [
              "<div>\n",
              "<style scoped>\n",
              "    .dataframe tbody tr th:only-of-type {\n",
              "        vertical-align: middle;\n",
              "    }\n",
              "\n",
              "    .dataframe tbody tr th {\n",
              "        vertical-align: top;\n",
              "    }\n",
              "\n",
              "    .dataframe thead th {\n",
              "        text-align: right;\n",
              "    }\n",
              "</style>\n",
              "<table border=\"1\" class=\"dataframe\">\n",
              "  <thead>\n",
              "    <tr style=\"text-align: right;\">\n",
              "      <th></th>\n",
              "      <th>id</th>\n",
              "      <th>premise</th>\n",
              "      <th>hypothesis</th>\n",
              "      <th>lang_abv</th>\n",
              "      <th>language</th>\n",
              "    </tr>\n",
              "  </thead>\n",
              "  <tbody>\n",
              "    <tr>\n",
              "      <th>0</th>\n",
              "      <td>c6d58c3f69</td>\n",
              "      <td>بکس، کیسی، راہیل، یسعیاہ، کیلی، کیلی، اور کولم...</td>\n",
              "      <td>کیسی کے لئے کوئی یادگار نہیں ہوگا, کولمین ہائی...</td>\n",
              "      <td>ur</td>\n",
              "      <td>Urdu</td>\n",
              "    </tr>\n",
              "    <tr>\n",
              "      <th>1</th>\n",
              "      <td>cefcc82292</td>\n",
              "      <td>هذا هو ما تم نصحنا به.</td>\n",
              "      <td>عندما يتم إخبارهم بما يجب عليهم فعله ، فشلت ال...</td>\n",
              "      <td>ar</td>\n",
              "      <td>Arabic</td>\n",
              "    </tr>\n",
              "    <tr>\n",
              "      <th>2</th>\n",
              "      <td>e98005252c</td>\n",
              "      <td>et cela est en grande partie dû au fait que le...</td>\n",
              "      <td>Les mères se droguent.</td>\n",
              "      <td>fr</td>\n",
              "      <td>French</td>\n",
              "    </tr>\n",
              "    <tr>\n",
              "      <th>3</th>\n",
              "      <td>58518c10ba</td>\n",
              "      <td>与城市及其他公民及社区组织代表就IMA的艺术发展进行对话&amp;amp</td>\n",
              "      <td>IMA与其他组织合作，因为它们都依靠共享资金。</td>\n",
              "      <td>zh</td>\n",
              "      <td>Chinese</td>\n",
              "    </tr>\n",
              "    <tr>\n",
              "      <th>4</th>\n",
              "      <td>c32b0d16df</td>\n",
              "      <td>Она все еще была там.</td>\n",
              "      <td>Мы думали, что она ушла, однако, она осталась.</td>\n",
              "      <td>ru</td>\n",
              "      <td>Russian</td>\n",
              "    </tr>\n",
              "  </tbody>\n",
              "</table>\n",
              "</div>"
            ],
            "text/plain": [
              "           id  ... language\n",
              "0  c6d58c3f69  ...     Urdu\n",
              "1  cefcc82292  ...   Arabic\n",
              "2  e98005252c  ...   French\n",
              "3  58518c10ba  ...  Chinese\n",
              "4  c32b0d16df  ...  Russian\n",
              "\n",
              "[5 rows x 5 columns]"
            ]
          },
          "metadata": {
            "tags": []
          },
          "execution_count": 37
        }
      ]
    },
    {
      "cell_type": "code",
      "metadata": {
        "trusted": true,
        "id": "-gEsFYRNI9uS",
        "colab_type": "code",
        "colab": {
          "base_uri": "https://localhost:8080/",
          "height": 215
        },
        "outputId": "a4d9810a-29dd-4208-cfd2-a7684d4a53b9"
      },
      "source": [
        "#view augmented\n",
        "print(test_aug.shape)\n",
        "test_aug.head()"
      ],
      "execution_count": 38,
      "outputs": [
        {
          "output_type": "stream",
          "text": [
            "(5195, 5)\n"
          ],
          "name": "stdout"
        },
        {
          "output_type": "execute_result",
          "data": {
            "text/html": [
              "<div>\n",
              "<style scoped>\n",
              "    .dataframe tbody tr th:only-of-type {\n",
              "        vertical-align: middle;\n",
              "    }\n",
              "\n",
              "    .dataframe tbody tr th {\n",
              "        vertical-align: top;\n",
              "    }\n",
              "\n",
              "    .dataframe thead th {\n",
              "        text-align: right;\n",
              "    }\n",
              "</style>\n",
              "<table border=\"1\" class=\"dataframe\">\n",
              "  <thead>\n",
              "    <tr style=\"text-align: right;\">\n",
              "      <th></th>\n",
              "      <th>id</th>\n",
              "      <th>premise</th>\n",
              "      <th>hypothesis</th>\n",
              "      <th>lang_abv</th>\n",
              "      <th>language</th>\n",
              "    </tr>\n",
              "  </thead>\n",
              "  <tbody>\n",
              "    <tr>\n",
              "      <th>0</th>\n",
              "      <td>c6d58c3f69</td>\n",
              "      <td>باکسز کا نام باکس ، کیسی ، راچیل ، یسعیاہ ، کی...</td>\n",
              "      <td>کولمین ہائی اسکول کے ایک طالب علم کیسی کو کوئی...</td>\n",
              "      <td>ur</td>\n",
              "      <td>Urdu</td>\n",
              "    </tr>\n",
              "    <tr>\n",
              "      <th>1</th>\n",
              "      <td>cefcc82292</td>\n",
              "      <td>هذا نصح لنا.</td>\n",
              "      <td>عندما يتم إخبارنا بما يجب القيام به ، لا تسمح ...</td>\n",
              "      <td>ar</td>\n",
              "      <td>Arabic</td>\n",
              "    </tr>\n",
              "    <tr>\n",
              "      <th>2</th>\n",
              "      <td>e98005252c</td>\n",
              "      <td>Et la raison la plus probable est due au fait ...</td>\n",
              "      <td>La mère se drogue.</td>\n",
              "      <td>fr</td>\n",
              "      <td>French</td>\n",
              "    </tr>\n",
              "    <tr>\n",
              "      <th>3</th>\n",
              "      <td>58518c10ba</td>\n",
              "      <td>与城市及其他公民及社区组织代表就IMA的艺术发展进行对话&amp;amp</td>\n",
              "      <td>IMA与其他组织合作，因为它们都依靠共享资金。</td>\n",
              "      <td>zh</td>\n",
              "      <td>Chinese</td>\n",
              "    </tr>\n",
              "    <tr>\n",
              "      <th>4</th>\n",
              "      <td>c32b0d16df</td>\n",
              "      <td>Она все еще была там.</td>\n",
              "      <td>Мы думали, что она ушла, но она осталась.</td>\n",
              "      <td>ru</td>\n",
              "      <td>Russian</td>\n",
              "    </tr>\n",
              "  </tbody>\n",
              "</table>\n",
              "</div>"
            ],
            "text/plain": [
              "           id  ... language\n",
              "0  c6d58c3f69  ...     Urdu\n",
              "1  cefcc82292  ...   Arabic\n",
              "2  e98005252c  ...   French\n",
              "3  58518c10ba  ...  Chinese\n",
              "4  c32b0d16df  ...  Russian\n",
              "\n",
              "[5 rows x 5 columns]"
            ]
          },
          "metadata": {
            "tags": []
          },
          "execution_count": 38
        }
      ]
    },
    {
      "cell_type": "code",
      "metadata": {
        "trusted": true,
        "id": "yU3A4jOjI9uU",
        "colab_type": "code",
        "colab": {
          "base_uri": "https://localhost:8080/",
          "height": 215
        },
        "outputId": "5d819765-3329-487b-abd2-c20ca6d03b5c"
      },
      "source": [
        "#view twice augmented\n",
        "print(test_twice_aug.shape)\n",
        "test_twice_aug.head()"
      ],
      "execution_count": 39,
      "outputs": [
        {
          "output_type": "stream",
          "text": [
            "(5195, 5)\n"
          ],
          "name": "stdout"
        },
        {
          "output_type": "execute_result",
          "data": {
            "text/html": [
              "<div>\n",
              "<style scoped>\n",
              "    .dataframe tbody tr th:only-of-type {\n",
              "        vertical-align: middle;\n",
              "    }\n",
              "\n",
              "    .dataframe tbody tr th {\n",
              "        vertical-align: top;\n",
              "    }\n",
              "\n",
              "    .dataframe thead th {\n",
              "        text-align: right;\n",
              "    }\n",
              "</style>\n",
              "<table border=\"1\" class=\"dataframe\">\n",
              "  <thead>\n",
              "    <tr style=\"text-align: right;\">\n",
              "      <th></th>\n",
              "      <th>id</th>\n",
              "      <th>premise</th>\n",
              "      <th>hypothesis</th>\n",
              "      <th>lang_abv</th>\n",
              "      <th>language</th>\n",
              "    </tr>\n",
              "  </thead>\n",
              "  <tbody>\n",
              "    <tr>\n",
              "      <th>0</th>\n",
              "      <td>c6d58c3f69</td>\n",
              "      <td>باکسز کا نام باکس ، کیسی ، راچیل ، یسعیاہ ، کی...</td>\n",
              "      <td>کولمین ہائی اسکول کے ایک طالب علم کیسی کو کوئی...</td>\n",
              "      <td>ur</td>\n",
              "      <td>Urdu</td>\n",
              "    </tr>\n",
              "    <tr>\n",
              "      <th>1</th>\n",
              "      <td>cefcc82292</td>\n",
              "      <td>تم نصح هذا لنا.</td>\n",
              "      <td>عندما يتم إخبارنا بما يجب القيام به ، لا تسمح ...</td>\n",
              "      <td>ar</td>\n",
              "      <td>Arabic</td>\n",
              "    </tr>\n",
              "    <tr>\n",
              "      <th>2</th>\n",
              "      <td>e98005252c</td>\n",
              "      <td>Et la raison possible est que la mère prend le...</td>\n",
              "      <td>Mère prend de la drogue.</td>\n",
              "      <td>fr</td>\n",
              "      <td>French</td>\n",
              "    </tr>\n",
              "    <tr>\n",
              "      <th>3</th>\n",
              "      <td>58518c10ba</td>\n",
              "      <td>与城市及其他公民及社区组织代表就IMA的艺术发展进行对话&amp;amp</td>\n",
              "      <td>IMA与其他组织合作，因为它们都依靠共享资金。</td>\n",
              "      <td>zh</td>\n",
              "      <td>Chinese</td>\n",
              "    </tr>\n",
              "    <tr>\n",
              "      <th>4</th>\n",
              "      <td>c32b0d16df</td>\n",
              "      <td>Она все еще была там.</td>\n",
              "      <td>Мы думали, вы уезжаете, но он остался.</td>\n",
              "      <td>ru</td>\n",
              "      <td>Russian</td>\n",
              "    </tr>\n",
              "  </tbody>\n",
              "</table>\n",
              "</div>"
            ],
            "text/plain": [
              "           id  ... language\n",
              "0  c6d58c3f69  ...     Urdu\n",
              "1  cefcc82292  ...   Arabic\n",
              "2  e98005252c  ...   French\n",
              "3  58518c10ba  ...  Chinese\n",
              "4  c32b0d16df  ...  Russian\n",
              "\n",
              "[5 rows x 5 columns]"
            ]
          },
          "metadata": {
            "tags": []
          },
          "execution_count": 39
        }
      ]
    },
    {
      "cell_type": "code",
      "metadata": {
        "trusted": true,
        "id": "0QR7QVmlI9uW",
        "colab_type": "code",
        "colab": {}
      },
      "source": [
        "#select relevant columns\n",
        "test_aug_text = test_aug[['premise', 'hypothesis']].values.tolist()\n",
        "test_twice_aug_text = test_twice_aug[['premise', 'hypothesis']].values.tolist()\n",
        "\n",
        "if USE_TTA:\n",
        "    #encode \n",
        "    print('Encoding test dataset(s)...')\n",
        "    test_aug_enc = TOKENIZER.batch_encode_plus(\n",
        "        test_aug_text,\n",
        "        pad_to_max_length = True,\n",
        "        max_length = MAX_LEN\n",
        "    )\n",
        "\n",
        "    #encode\n",
        "    test_twice_aug_enc = TOKENIZER.batch_encode_plus(\n",
        "        test_twice_aug_text,\n",
        "        pad_to_max_length = True,\n",
        "        max_length = MAX_LEN\n",
        "    )\n",
        "\n",
        "    #convert to TPU format\n",
        "    test_aug_ds = (\n",
        "        tf.data.Dataset\n",
        "        .from_tensor_slices(test_aug_enc['input_ids'])\n",
        "    .batch(BATCH_SIZE)\n",
        "    )\n",
        "\n",
        "    #convert to TPU format\n",
        "    test_twice_aug_ds = (\n",
        "        tf.data.Dataset\n",
        "        .from_tensor_slices(test_twice_aug_enc['input_ids'])\n",
        "    .batch(BATCH_SIZE)\n",
        "    )\n",
        "    print('')\n",
        "    print('Done')"
      ],
      "execution_count": 40,
      "outputs": []
    },
    {
      "cell_type": "code",
      "metadata": {
        "trusted": true,
        "id": "vfcjwuiaI9uX",
        "colab_type": "code",
        "colab": {}
      },
      "source": [
        "#finally, get all predictions\n",
        "preds = RoBERTa.predict(test_ds)\n",
        "\n",
        "if USE_TTA:\n",
        "    preds_aug = RoBERTa.predict(test_aug_ds)\n",
        "    preds_twice_aug = RoBERTa.predict(test_twice_aug_ds)\n",
        "\n",
        "    #and blend predictions equally\n",
        "    blended_preds = (preds + preds_aug + preds_twice_aug)/3"
      ],
      "execution_count": 41,
      "outputs": []
    },
    {
      "cell_type": "code",
      "metadata": {
        "trusted": true,
        "id": "xcKewY66K-O1",
        "colab_type": "code",
        "colab": {
          "base_uri": "https://localhost:8080/",
          "height": 347
        },
        "outputId": "35f9f4dd-f240-4872-b0df-3c7ff449a0c3"
      },
      "source": [
        "#create submission dataframe and save\n",
        "submission = pd.DataFrame()\n",
        "submission['id'] = test['id']\n",
        "\n",
        "if USE_TTA:\n",
        "    #choose blended predictions as final predictions\n",
        "    submission['prediction'] = blended_preds.argmax(axis = 1)\n",
        "\n",
        "else:\n",
        "    #choose predictions on reg test set as final predictions\n",
        "    submission['prediction'] = preds.argmax(axis = 1)\n",
        "\n",
        "#sanity check\n",
        "submission.head(10)"
      ],
      "execution_count": 42,
      "outputs": [
        {
          "output_type": "execute_result",
          "data": {
            "text/html": [
              "<div>\n",
              "<style scoped>\n",
              "    .dataframe tbody tr th:only-of-type {\n",
              "        vertical-align: middle;\n",
              "    }\n",
              "\n",
              "    .dataframe tbody tr th {\n",
              "        vertical-align: top;\n",
              "    }\n",
              "\n",
              "    .dataframe thead th {\n",
              "        text-align: right;\n",
              "    }\n",
              "</style>\n",
              "<table border=\"1\" class=\"dataframe\">\n",
              "  <thead>\n",
              "    <tr style=\"text-align: right;\">\n",
              "      <th></th>\n",
              "      <th>id</th>\n",
              "      <th>prediction</th>\n",
              "    </tr>\n",
              "  </thead>\n",
              "  <tbody>\n",
              "    <tr>\n",
              "      <th>0</th>\n",
              "      <td>c6d58c3f69</td>\n",
              "      <td>2</td>\n",
              "    </tr>\n",
              "    <tr>\n",
              "      <th>1</th>\n",
              "      <td>cefcc82292</td>\n",
              "      <td>2</td>\n",
              "    </tr>\n",
              "    <tr>\n",
              "      <th>2</th>\n",
              "      <td>e98005252c</td>\n",
              "      <td>0</td>\n",
              "    </tr>\n",
              "    <tr>\n",
              "      <th>3</th>\n",
              "      <td>58518c10ba</td>\n",
              "      <td>1</td>\n",
              "    </tr>\n",
              "    <tr>\n",
              "      <th>4</th>\n",
              "      <td>c32b0d16df</td>\n",
              "      <td>1</td>\n",
              "    </tr>\n",
              "    <tr>\n",
              "      <th>5</th>\n",
              "      <td>aa2510d454</td>\n",
              "      <td>0</td>\n",
              "    </tr>\n",
              "    <tr>\n",
              "      <th>6</th>\n",
              "      <td>865d1c7b16</td>\n",
              "      <td>1</td>\n",
              "    </tr>\n",
              "    <tr>\n",
              "      <th>7</th>\n",
              "      <td>a16f7ed56b</td>\n",
              "      <td>0</td>\n",
              "    </tr>\n",
              "    <tr>\n",
              "      <th>8</th>\n",
              "      <td>6d9fa191e6</td>\n",
              "      <td>1</td>\n",
              "    </tr>\n",
              "    <tr>\n",
              "      <th>9</th>\n",
              "      <td>c156e8fed5</td>\n",
              "      <td>1</td>\n",
              "    </tr>\n",
              "  </tbody>\n",
              "</table>\n",
              "</div>"
            ],
            "text/plain": [
              "           id  prediction\n",
              "0  c6d58c3f69           2\n",
              "1  cefcc82292           2\n",
              "2  e98005252c           0\n",
              "3  58518c10ba           1\n",
              "4  c32b0d16df           1\n",
              "5  aa2510d454           0\n",
              "6  865d1c7b16           1\n",
              "7  a16f7ed56b           0\n",
              "8  6d9fa191e6           1\n",
              "9  c156e8fed5           1"
            ]
          },
          "metadata": {
            "tags": []
          },
          "execution_count": 42
        }
      ]
    },
    {
      "cell_type": "code",
      "metadata": {
        "trusted": true,
        "id": "Pr2u81IAI9ub",
        "colab_type": "code",
        "colab": {
          "base_uri": "https://localhost:8080/",
          "height": 34
        },
        "outputId": "463f265c-296b-46dd-b944-472ef82ce1e2"
      },
      "source": [
        "submission.to_csv('submission.csv', index = False)\n",
        "print('Submission saved')"
      ],
      "execution_count": 43,
      "outputs": [
        {
          "output_type": "stream",
          "text": [
            "Submission saved\n"
          ],
          "name": "stdout"
        }
      ]
    },
    {
      "cell_type": "markdown",
      "metadata": {
        "trusted": true,
        "id": "8BRe-53OK-O4",
        "colab_type": "text"
      },
      "source": [
        "**As this is a new getting started competition, this notebook is a work in progress that I will continually update as the competition grows. If you have any questions/suggestions, please leave them below. Stay tuned for more!**"
      ]
    }
  ]
}