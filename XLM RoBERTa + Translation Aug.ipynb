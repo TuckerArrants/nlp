{
  "nbformat": 4,
  "nbformat_minor": 0,
  "metadata": {
    "kernelspec": {
      "language": "python",
      "display_name": "Python 3",
      "name": "python3"
    },
    "language_info": {
      "pygments_lexer": "ipython3",
      "nbconvert_exporter": "python",
      "version": "3.6.4",
      "file_extension": ".py",
      "codemirror_mode": {
        "name": "ipython",
        "version": 3
      },
      "name": "python",
      "mimetype": "text/x-python"
    },
    "colab": {
      "name": "The Game is Afoot! XLM-RoBERTa + Translation Aug.ipynb",
      "provenance": [],
      "collapsed_sections": [],
      "toc_visible": true,
      "machine_shape": "hm",
      "include_colab_link": true
    },
    "accelerator": "TPU"
  },
  "cells": [
    {
      "cell_type": "markdown",
      "metadata": {
        "id": "view-in-github",
        "colab_type": "text"
      },
      "source": [
        "<a href=\"https://colab.research.google.com/github/TuckerArrants/nlp/blob/master/XLM_RoBERTa_%2B_Translation_Aug.ipynb\" target=\"_parent\"><img src=\"https://colab.research.google.com/assets/colab-badge.svg\" alt=\"Open In Colab\"/></a>"
      ]
    },
    {
      "cell_type": "markdown",
      "metadata": {
        "id": "ZTrZNeFEK-OP",
        "colab_type": "text"
      },
      "source": [
        "# It's Elementary, My Dear Watson\n",
        "\n",
        "**Natural Language Inference (NLI) is a specific type of NLP task where we must determine whether or not a hypothesis is true based on a premise. Specifically, given a pair of sentences, can we classify them into three different classes: 0 - entailment, 1 - contradiction, 2 - neutral?**\n",
        "\n",
        "**The current leading model in this field is RoBERTa, described by its creators as a 'robustly optimized BERT pretraining approach'. It changes some of the key hyperparameters of BERT and removes the next-sentece pretraining objective all together. The original paper can be found [here](https://arxiv.org/abs/1907.11692) and the source code [here](https://github.com/pytorch/fairseq/tree/master/examples/roberta)**\n",
        "\n",
        "**Now, we have 15 different languages in our dataset, so we cannot use the standard pre-trained RoBERTa model as it has only been trained on English sequences. Luckily, there is [XLM-RoBERTa](https://huggingface.co/transformers/model_doc/xlmroberta.html) (original paper can be found [here](https://arxiv.org/abs/1911.02116)) which has been trained on 2.5TB of filtered CommonCrawl data in 100 different languages. The implementation procedude is the same as RoBERTa's, so it is easy enough to deploy. Let's see how:**"
      ]
    },
    {
      "cell_type": "code",
      "metadata": {
        "_uuid": "8f2839f25d086af736a60e9eeb907d3b93b6e0e5",
        "_cell_guid": "b1076dfc-b9ad-4769-8c92-a6c4dae69d19",
        "trusted": true,
        "id": "IjZ816ZJK-OQ",
        "colab_type": "code",
        "colab": {
          "base_uri": "https://localhost:8080/",
          "height": 90
        },
        "outputId": "788a7eb5-1d5d-476d-89a7-9b6375f08e0a"
      },
      "source": [
        "#python basics\n",
        "from matplotlib import pyplot as plt\n",
        "from tqdm import tqdm\n",
        "import math, os, re, time, random\n",
        "import numpy as np, pandas as pd, seaborn as sns\n",
        "\n",
        "#deep learning basics\n",
        "import tensorflow as tf\n",
        "import tensorflow.keras.backend as K\n",
        "\n",
        "#nlp augmentation\n",
        "!pip install --quiet googletrans\n",
        "from googletrans import Translator\n",
        "\n",
        "#model evaluation\n",
        "from sklearn.model_selection import train_test_split, StratifiedKFold\n",
        "\n",
        "#for fast parallel processing\n",
        "from dask import bag, diagnostics\n",
        "\n",
        "#easy way to shuffle rows\n",
        "from sklearn.utils import shuffle\n",
        "\n",
        "#ignore warnings\n",
        "import warnings\n",
        "warnings.filterwarnings('ignore')\n",
        "os.environ['TF_CPP_MIN_LOG_LEVEL'] = '3'\n",
        "\n",
        "#get current TensorFlow version fo\n",
        "print(\"Currently using Tensorflow version \" + tf.__version__)"
      ],
      "execution_count": 1,
      "outputs": [
        {
          "output_type": "stream",
          "text": [
            "/usr/local/lib/python3.6/dist-packages/statsmodels/tools/_testing.py:19: FutureWarning: pandas.util.testing is deprecated. Use the functions in the public API at pandas.testing instead.\n",
            "  import pandas.util.testing as tm\n"
          ],
          "name": "stderr"
        },
        {
          "output_type": "stream",
          "text": [
            "Currently using Tensorflow version 2.3.0\n"
          ],
          "name": "stdout"
        }
      ]
    },
    {
      "cell_type": "code",
      "metadata": {
        "trusted": true,
        "id": "grzgGBJ2K-OT",
        "colab_type": "code",
        "colab": {}
      },
      "source": [
        "#choose devicve\n",
        "DEVICE = 'TPU'    #or GPU\n",
        "\n",
        "#choose number of epochs to train for\n",
        "EPOCHS = 8\n",
        "\n",
        "#choose seed\n",
        "SEED = 34\n",
        "\n",
        "#choose to see training progress or not\n",
        "VERBOSE = 2\n",
        "\n",
        "#choose maximum length of sequence inputs\n",
        "MAX_LEN = 80\n",
        "\n",
        "#choose learning rate for Adam optimizer\n",
        "LR_RATE = 1e-5\n",
        "\n",
        "#choose to add augmented text data or not\n",
        "GEN_AUG = False "
      ],
      "execution_count": 2,
      "outputs": []
    },
    {
      "cell_type": "code",
      "metadata": {
        "trusted": true,
        "id": "5un5UGwlyfpc",
        "colab_type": "code",
        "colab": {}
      },
      "source": [
        "def seed_everything(seed):\n",
        "    os.environ['PYTHONHASHSEED']=str(seed)\n",
        "    tf.random.set_seed(seed)\n",
        "    np.random.seed(seed)\n",
        "    random.seed(seed)\n",
        "    \n",
        "seed_everything(SEED)"
      ],
      "execution_count": 3,
      "outputs": []
    },
    {
      "cell_type": "markdown",
      "metadata": {
        "id": "bUdfpF_2K-OV",
        "colab_type": "text"
      },
      "source": [
        "# EDA\n",
        "\n",
        "**A very brief data exploration; I will expand this section in future iterations of the notebook**"
      ]
    },
    {
      "cell_type": "code",
      "metadata": {
        "trusted": true,
        "id": "oE_xjcJNK-OW",
        "colab_type": "code",
        "colab": {
          "base_uri": "https://localhost:8080/",
          "height": 215
        },
        "outputId": "824dffef-521b-46ef-ca3a-ec01226130db"
      },
      "source": [
        "#get CSV files\n",
        "train = pd.read_csv(\"train.csv\")\n",
        "test = pd.read_csv(\"test.csv\")\n",
        "\n",
        "print(f'Train shape: {train.shape}')\n",
        "train.head()"
      ],
      "execution_count": 4,
      "outputs": [
        {
          "output_type": "stream",
          "text": [
            "Train shape: (12120, 6)\n"
          ],
          "name": "stdout"
        },
        {
          "output_type": "execute_result",
          "data": {
            "text/html": [
              "<div>\n",
              "<style scoped>\n",
              "    .dataframe tbody tr th:only-of-type {\n",
              "        vertical-align: middle;\n",
              "    }\n",
              "\n",
              "    .dataframe tbody tr th {\n",
              "        vertical-align: top;\n",
              "    }\n",
              "\n",
              "    .dataframe thead th {\n",
              "        text-align: right;\n",
              "    }\n",
              "</style>\n",
              "<table border=\"1\" class=\"dataframe\">\n",
              "  <thead>\n",
              "    <tr style=\"text-align: right;\">\n",
              "      <th></th>\n",
              "      <th>id</th>\n",
              "      <th>premise</th>\n",
              "      <th>hypothesis</th>\n",
              "      <th>lang_abv</th>\n",
              "      <th>language</th>\n",
              "      <th>label</th>\n",
              "    </tr>\n",
              "  </thead>\n",
              "  <tbody>\n",
              "    <tr>\n",
              "      <th>0</th>\n",
              "      <td>5130fd2cb5</td>\n",
              "      <td>and these comments were considered in formulat...</td>\n",
              "      <td>The rules developed in the interim were put to...</td>\n",
              "      <td>en</td>\n",
              "      <td>English</td>\n",
              "      <td>0</td>\n",
              "    </tr>\n",
              "    <tr>\n",
              "      <th>1</th>\n",
              "      <td>5b72532a0b</td>\n",
              "      <td>These are issues that we wrestle with in pract...</td>\n",
              "      <td>Practice groups are not permitted to work on t...</td>\n",
              "      <td>en</td>\n",
              "      <td>English</td>\n",
              "      <td>2</td>\n",
              "    </tr>\n",
              "    <tr>\n",
              "      <th>2</th>\n",
              "      <td>3931fbe82a</td>\n",
              "      <td>Des petites choses comme celles-là font une di...</td>\n",
              "      <td>J'essayais d'accomplir quelque chose.</td>\n",
              "      <td>fr</td>\n",
              "      <td>French</td>\n",
              "      <td>0</td>\n",
              "    </tr>\n",
              "    <tr>\n",
              "      <th>3</th>\n",
              "      <td>5622f0c60b</td>\n",
              "      <td>you know they can't really defend themselves l...</td>\n",
              "      <td>They can't defend themselves because of their ...</td>\n",
              "      <td>en</td>\n",
              "      <td>English</td>\n",
              "      <td>0</td>\n",
              "    </tr>\n",
              "    <tr>\n",
              "      <th>4</th>\n",
              "      <td>86aaa48b45</td>\n",
              "      <td>ในการเล่นบทบาทสมมุติก็เช่นกัน โอกาสที่จะได้แสด...</td>\n",
              "      <td>เด็กสามารถเห็นได้ว่าชาติพันธุ์แตกต่างกันอย่างไร</td>\n",
              "      <td>th</td>\n",
              "      <td>Thai</td>\n",
              "      <td>1</td>\n",
              "    </tr>\n",
              "  </tbody>\n",
              "</table>\n",
              "</div>"
            ],
            "text/plain": [
              "           id  ... label\n",
              "0  5130fd2cb5  ...     0\n",
              "1  5b72532a0b  ...     2\n",
              "2  3931fbe82a  ...     0\n",
              "3  5622f0c60b  ...     0\n",
              "4  86aaa48b45  ...     1\n",
              "\n",
              "[5 rows x 6 columns]"
            ]
          },
          "metadata": {
            "tags": []
          },
          "execution_count": 4
        }
      ]
    },
    {
      "cell_type": "code",
      "metadata": {
        "trusted": true,
        "id": "TXaVG-qQK-OY",
        "colab_type": "code",
        "colab": {
          "base_uri": "https://localhost:8080/",
          "height": 215
        },
        "outputId": "c9d91880-b716-4138-9e3e-9e71d8c6d698"
      },
      "source": [
        "print(f'Test shape: {test.shape}')\n",
        "test.head()"
      ],
      "execution_count": 5,
      "outputs": [
        {
          "output_type": "stream",
          "text": [
            "Test shape: (5195, 5)\n"
          ],
          "name": "stdout"
        },
        {
          "output_type": "execute_result",
          "data": {
            "text/html": [
              "<div>\n",
              "<style scoped>\n",
              "    .dataframe tbody tr th:only-of-type {\n",
              "        vertical-align: middle;\n",
              "    }\n",
              "\n",
              "    .dataframe tbody tr th {\n",
              "        vertical-align: top;\n",
              "    }\n",
              "\n",
              "    .dataframe thead th {\n",
              "        text-align: right;\n",
              "    }\n",
              "</style>\n",
              "<table border=\"1\" class=\"dataframe\">\n",
              "  <thead>\n",
              "    <tr style=\"text-align: right;\">\n",
              "      <th></th>\n",
              "      <th>id</th>\n",
              "      <th>premise</th>\n",
              "      <th>hypothesis</th>\n",
              "      <th>lang_abv</th>\n",
              "      <th>language</th>\n",
              "    </tr>\n",
              "  </thead>\n",
              "  <tbody>\n",
              "    <tr>\n",
              "      <th>0</th>\n",
              "      <td>c6d58c3f69</td>\n",
              "      <td>بکس، کیسی، راہیل، یسعیاہ، کیلی، کیلی، اور کولم...</td>\n",
              "      <td>کیسی کے لئے کوئی یادگار نہیں ہوگا, کولمین ہائی...</td>\n",
              "      <td>ur</td>\n",
              "      <td>Urdu</td>\n",
              "    </tr>\n",
              "    <tr>\n",
              "      <th>1</th>\n",
              "      <td>cefcc82292</td>\n",
              "      <td>هذا هو ما تم نصحنا به.</td>\n",
              "      <td>عندما يتم إخبارهم بما يجب عليهم فعله ، فشلت ال...</td>\n",
              "      <td>ar</td>\n",
              "      <td>Arabic</td>\n",
              "    </tr>\n",
              "    <tr>\n",
              "      <th>2</th>\n",
              "      <td>e98005252c</td>\n",
              "      <td>et cela est en grande partie dû au fait que le...</td>\n",
              "      <td>Les mères se droguent.</td>\n",
              "      <td>fr</td>\n",
              "      <td>French</td>\n",
              "    </tr>\n",
              "    <tr>\n",
              "      <th>3</th>\n",
              "      <td>58518c10ba</td>\n",
              "      <td>与城市及其他公民及社区组织代表就IMA的艺术发展进行对话&amp;amp</td>\n",
              "      <td>IMA与其他组织合作，因为它们都依靠共享资金。</td>\n",
              "      <td>zh</td>\n",
              "      <td>Chinese</td>\n",
              "    </tr>\n",
              "    <tr>\n",
              "      <th>4</th>\n",
              "      <td>c32b0d16df</td>\n",
              "      <td>Она все еще была там.</td>\n",
              "      <td>Мы думали, что она ушла, однако, она осталась.</td>\n",
              "      <td>ru</td>\n",
              "      <td>Russian</td>\n",
              "    </tr>\n",
              "  </tbody>\n",
              "</table>\n",
              "</div>"
            ],
            "text/plain": [
              "           id  ... language\n",
              "0  c6d58c3f69  ...     Urdu\n",
              "1  cefcc82292  ...   Arabic\n",
              "2  e98005252c  ...   French\n",
              "3  58518c10ba  ...  Chinese\n",
              "4  c32b0d16df  ...  Russian\n",
              "\n",
              "[5 rows x 5 columns]"
            ]
          },
          "metadata": {
            "tags": []
          },
          "execution_count": 5
        }
      ]
    },
    {
      "cell_type": "code",
      "metadata": {
        "trusted": true,
        "id": "_vOtJH7tK-Oa",
        "colab_type": "code",
        "colab": {
          "base_uri": "https://localhost:8080/",
          "height": 70
        },
        "outputId": "95486b72-8f8c-4d8f-bd07-e98e7b54559e"
      },
      "source": [
        "#peek at a premise/hypothesis pair and their label\n",
        "print(f\"Premise: {train['premise'].values[0]}\")\n",
        "print(f\"Hypothesis: {train['hypothesis'].values[0]}\")\n",
        "print(f\"Label: {train['label'].values[0]}\")"
      ],
      "execution_count": 6,
      "outputs": [
        {
          "output_type": "stream",
          "text": [
            "Premise: and these comments were considered in formulating the interim rules.\n",
            "Hypothesis: The rules developed in the interim were put together with these comments in mind.\n",
            "Label: 0\n"
          ],
          "name": "stdout"
        }
      ]
    },
    {
      "cell_type": "code",
      "metadata": {
        "trusted": true,
        "id": "wKhxVI-TK-Oc",
        "colab_type": "code",
        "colab": {
          "base_uri": "https://localhost:8080/",
          "height": 70
        },
        "outputId": "85dfcdc9-c476-4963-a7bc-7de28cad5e47"
      },
      "source": [
        "#peek at a premise/hypothesis pair and their label\n",
        "print(f\"Premise: {train['premise'].values[1]}\")\n",
        "print(f\"Hypothesis: {train['hypothesis'].values[1]}\")\n",
        "print(f\"Label: {train['label'].values[1]}\")"
      ],
      "execution_count": 7,
      "outputs": [
        {
          "output_type": "stream",
          "text": [
            "Premise: These are issues that we wrestle with in practice groups of law firms, she said. \n",
            "Hypothesis: Practice groups are not permitted to work on these issues.\n",
            "Label: 2\n"
          ],
          "name": "stdout"
        }
      ]
    },
    {
      "cell_type": "code",
      "metadata": {
        "trusted": true,
        "id": "arEg6IHvK-Oe",
        "colab_type": "code",
        "colab": {
          "base_uri": "https://localhost:8080/",
          "height": 721
        },
        "outputId": "6c123aa0-28be-4d08-d111-322a95596268"
      },
      "source": [
        "#explore the distribution of classes and languages\n",
        "fig, ax = plt.subplots(3, figsize = (15, 10))\n",
        "\n",
        "#for maximum aesthetics\n",
        "palette = sns.cubehelix_palette(8, start=2, rot=0, dark=0, light=.95, reverse=True)\n",
        "\n",
        "graph1 = sns.countplot(train['language'], ax = ax[1], palette = palette)\n",
        "graph2 = sns.countplot(train['label'], ax = ax[0], palette = palette)\n",
        "graph3 = sns.countplot(test['language'], ax = ax[2], palette = palette)\n",
        "\n",
        "#set title\n",
        "graph1.set_title('Distribution of Classes')\n",
        "graph2.set_title('Distribution of Languages')\n",
        "graph3.set_title('Distribution of Languages - Test')\n",
        "\n",
        "plt.tight_layout()\n",
        "plt.show()"
      ],
      "execution_count": 8,
      "outputs": [
        {
          "output_type": "display_data",
          "data": {
            "image/png": "[encoded data removed]",
            "text/plain": [
              "<Figure size 1080x720 with 3 Axes>"
            ]
          },
          "metadata": {
            "tags": [],
            "needs_background": "light"
          }
        }
      ]
    },
    {
      "cell_type": "markdown",
      "metadata": {
        "id": "oAH8B0Ddyfpo",
        "colab_type": "text"
      },
      "source": [
        "# Augmentation (Offline)\n",
        "\n",
        "**In computer vision problems, there is a virtual infinitude of techniques you can use to augment your images ranging from simple techniques like randomly flipping images to blending images together with CutMix or MixUp. In natural language processing, it is not as easy to come up with similar augmentation strategies because it is hard to determine which transformations will preserve the meaning of the original words:**\n",
        "\n",
        "![](https://amitness.com/images/semantic-invariance-nlp.png)\n",
        "*Image from [@amitness](https://www.kaggle.com/amitness) on his excellent post on NLP augmentation [here](https://amitness.com/2020/05/data-augmentation-for-nlp/)*   \n",
        "\n",
        "\n",
        "**I initially planned on using synonym swapping for augmentation, where we randomly replace words with their synonyms, but then I saw [this kernel](https://www.kaggle.com/jpmiller/augmenting-data-with-translations) which is based on [this discussion thread](https://www.kaggle.com/c/jigsaw-toxic-comment-classification-challenge/discussion/48038) and realized we can do better: we can use translation to augment our data and do several things:**\n",
        "\n",
        "1. We can experiment and see if training our model on one language is better/worse than training on multiple languages\n",
        "2. We can create an English only dataset and a non-English dataset and merge the two to give our model more training samples\n",
        "3. We can randomly translate sentences to another language and then translate them back to the original like so:\n",
        "\n",
        "![](https://amitness.com/images/backtranslation-en-fr.png)\n",
        "\n",
        "*Image from [@amitness](https://www.kaggle.com/amitness) on his excellent post on NLP augmentation [here](https://amitness.com/2020/05/data-augmentation-for-nlp/)*\n",
        "\n",
        "**We can also apply this augmentation in two ways: offline augmentation or online augmentation. In the first, we augment before we feed to the model, adding to our dataset size. This is preferable for smaller datasets where we are not worried about training taking too long. When you can't afford an increase in size, you resort to online augmentation where augment the data every epoch. We will use offline augmentation in this commit (for more [see](https://www.kaggle.com/c/datasciencebowl/discussion/12597)). NLP augmentation is normally an offline processes, whereas computer vision augmentation is normally online.**\n",
        "\n",
        "**For now, we will only translate to languages currently present in our dataset, but translating to languages outside of our dataset might give us better performance. Please note that some of these language codes are slightly different within the `googletrans` Python API. See [here](https://py-googletrans.readthedocs.io/en/latest/) for more**"
      ]
    },
    {
      "cell_type": "code",
      "metadata": {
        "trusted": true,
        "id": "5XCxr_Puyfpo",
        "colab_type": "code",
        "colab": {
          "base_uri": "https://localhost:8080/",
          "height": 105
        },
        "outputId": "a6c99623-8abf-40b3-e793-9db56fb7fd57"
      },
      "source": [
        "def translation_aug(sequence, PROB = 1):\n",
        "    languages = ['en', 'fr', 'th', 'tr', 'ur', 'ru', 'bg', 'de', 'ar', 'zh-cn', 'hi',\n",
        "                 'sw', 'vi', 'es', 'el']\n",
        "    \n",
        "    #instantiate translator\n",
        "    translator = Translator()\n",
        "    \n",
        "    #store original language so we can convert back\n",
        "    org_lang = translator.detect(sequence).lang\n",
        "    \n",
        "    #randomly choose language to translate sequence to  \n",
        "    random_lang = np.random.choice([lang for lang in languages if lang is not org_lang])\n",
        "    \n",
        "    if org_lang in languages:\n",
        "        #translate to new language and back to original\n",
        "        translated = translator.translate(sequence, dest = random_lang).text\n",
        "        #translate back to original language\n",
        "        translated_back = translator.translate(translated, dest = org_lang).text\n",
        "    \n",
        "        #apply with certain probability\n",
        "        if np.random.uniform(0, 1) <= PROB:\n",
        "            output_sequence = translated_back\n",
        "        else:\n",
        "            output_sequence = sequence\n",
        "            \n",
        "    #if detected language not in our list of languages, do nothing\n",
        "    else:\n",
        "        output_sequence = sequence\n",
        "    \n",
        "    return output_sequence\n",
        "\n",
        "#check performance\n",
        "for i in range(5):\n",
        "    output = translation_aug('I genuinely have no idea what the output of this sequence of words will be')\n",
        "    print(output)"
      ],
      "execution_count": 9,
      "outputs": [
        {
          "output_type": "stream",
          "text": [
            "I really have no idea what this sequence of words will be like\n",
            "I really don't know what the output of this word sequence is\n",
            "I really have no idea what the output of this sequence of words would be\n",
            "I really don’t know what the results of this sequence of words will be\n",
            "I really have no idea what the result of this sequence of words will be\n"
          ],
          "name": "stdout"
        }
      ]
    },
    {
      "cell_type": "markdown",
      "metadata": {
        "id": "WCJI8Pniyfpq",
        "colab_type": "text"
      },
      "source": [
        "**We need to decide if we want to apply this translation augmentation to the premise/hypothesis at the same time, so each sequence is mapped to the same language and back, or if we want to map them to different languages and back. It's easier to do the latter so I will experiment with it in this commit**\n",
        "\n",
        "**This will also take a little while, so we can use `Dask Bag` to make it faster (more on Dask  [here](https://docs.dask.org/en/latest/bag.html)). Currently, it takes around 30 minutes to translate all the premise/hypothesis pairs from their original langauge, to a random language, and back again when `PROB = 1/2`**"
      ]
    },
    {
      "cell_type": "code",
      "metadata": {
        "trusted": true,
        "id": "9VZ9wXnByfpq",
        "colab_type": "code",
        "colab": {}
      },
      "source": [
        "def translation_aug_parallel(dataset):\n",
        "    prem_bag = bag.from_sequence(dataset['premise'].tolist()).map(translation_aug)\n",
        "    hyp_bag =  bag.from_sequence(dataset['hypothesis'].tolist()).map(translation_aug)\n",
        "    \n",
        "    with diagnostics.ProgressBar():\n",
        "        prems = prem_bag.compute()\n",
        "        hyps = hyp_bag.compute()\n",
        "\n",
        "    #pair premises and hypothesis\n",
        "    dataset[['premise', 'hypothesis']] = list(zip(prems, hyps))\n",
        "    \n",
        "    return dataset"
      ],
      "execution_count": 10,
      "outputs": []
    },
    {
      "cell_type": "markdown",
      "metadata": {
        "id": "hc6GIMs2yfps",
        "colab_type": "text"
      },
      "source": [
        "**I have already created augmented datasets with the above translation method that can be found [here](https://www.kaggle.com/tuckerarrants/contradictorywatsontranslationaug) and [here](https://www.kaggle.com/tuckerarrants/contradictorywatsontwicetranslatedaug). Let's quickly compare the three separate datasets:**"
      ]
    },
    {
      "cell_type": "code",
      "metadata": {
        "trusted": true,
        "id": "ivZakXGcyfps",
        "colab_type": "code",
        "colab": {
          "base_uri": "https://localhost:8080/",
          "height": 197
        },
        "outputId": "e0d8c055-652c-4ca8-f89c-94ed193475f6"
      },
      "source": [
        "train.head()"
      ],
      "execution_count": 11,
      "outputs": [
        {
          "output_type": "execute_result",
          "data": {
            "text/html": [
              "<div>\n",
              "<style scoped>\n",
              "    .dataframe tbody tr th:only-of-type {\n",
              "        vertical-align: middle;\n",
              "    }\n",
              "\n",
              "    .dataframe tbody tr th {\n",
              "        vertical-align: top;\n",
              "    }\n",
              "\n",
              "    .dataframe thead th {\n",
              "        text-align: right;\n",
              "    }\n",
              "</style>\n",
              "<table border=\"1\" class=\"dataframe\">\n",
              "  <thead>\n",
              "    <tr style=\"text-align: right;\">\n",
              "      <th></th>\n",
              "      <th>id</th>\n",
              "      <th>premise</th>\n",
              "      <th>hypothesis</th>\n",
              "      <th>lang_abv</th>\n",
              "      <th>language</th>\n",
              "      <th>label</th>\n",
              "    </tr>\n",
              "  </thead>\n",
              "  <tbody>\n",
              "    <tr>\n",
              "      <th>0</th>\n",
              "      <td>5130fd2cb5</td>\n",
              "      <td>and these comments were considered in formulat...</td>\n",
              "      <td>The rules developed in the interim were put to...</td>\n",
              "      <td>en</td>\n",
              "      <td>English</td>\n",
              "      <td>0</td>\n",
              "    </tr>\n",
              "    <tr>\n",
              "      <th>1</th>\n",
              "      <td>5b72532a0b</td>\n",
              "      <td>These are issues that we wrestle with in pract...</td>\n",
              "      <td>Practice groups are not permitted to work on t...</td>\n",
              "      <td>en</td>\n",
              "      <td>English</td>\n",
              "      <td>2</td>\n",
              "    </tr>\n",
              "    <tr>\n",
              "      <th>2</th>\n",
              "      <td>3931fbe82a</td>\n",
              "      <td>Des petites choses comme celles-là font une di...</td>\n",
              "      <td>J'essayais d'accomplir quelque chose.</td>\n",
              "      <td>fr</td>\n",
              "      <td>French</td>\n",
              "      <td>0</td>\n",
              "    </tr>\n",
              "    <tr>\n",
              "      <th>3</th>\n",
              "      <td>5622f0c60b</td>\n",
              "      <td>you know they can't really defend themselves l...</td>\n",
              "      <td>They can't defend themselves because of their ...</td>\n",
              "      <td>en</td>\n",
              "      <td>English</td>\n",
              "      <td>0</td>\n",
              "    </tr>\n",
              "    <tr>\n",
              "      <th>4</th>\n",
              "      <td>86aaa48b45</td>\n",
              "      <td>ในการเล่นบทบาทสมมุติก็เช่นกัน โอกาสที่จะได้แสด...</td>\n",
              "      <td>เด็กสามารถเห็นได้ว่าชาติพันธุ์แตกต่างกันอย่างไร</td>\n",
              "      <td>th</td>\n",
              "      <td>Thai</td>\n",
              "      <td>1</td>\n",
              "    </tr>\n",
              "  </tbody>\n",
              "</table>\n",
              "</div>"
            ],
            "text/plain": [
              "           id  ... label\n",
              "0  5130fd2cb5  ...     0\n",
              "1  5b72532a0b  ...     2\n",
              "2  3931fbe82a  ...     0\n",
              "3  5622f0c60b  ...     0\n",
              "4  86aaa48b45  ...     1\n",
              "\n",
              "[5 rows x 6 columns]"
            ]
          },
          "metadata": {
            "tags": []
          },
          "execution_count": 11
        }
      ]
    },
    {
      "cell_type": "code",
      "metadata": {
        "trusted": true,
        "id": "2-cAIhBVyfpu",
        "colab_type": "code",
        "colab": {
          "base_uri": "https://localhost:8080/",
          "height": 197
        },
        "outputId": "e08669ec-8e30-4e25-c861-a11db61fe30f"
      },
      "source": [
        "#offline loading of augmented datasets\n",
        "train_aug = pd.read_csv('translation_aug_train.csv')\n",
        "train_aug.head()"
      ],
      "execution_count": 12,
      "outputs": [
        {
          "output_type": "execute_result",
          "data": {
            "text/html": [
              "<div>\n",
              "<style scoped>\n",
              "    .dataframe tbody tr th:only-of-type {\n",
              "        vertical-align: middle;\n",
              "    }\n",
              "\n",
              "    .dataframe tbody tr th {\n",
              "        vertical-align: top;\n",
              "    }\n",
              "\n",
              "    .dataframe thead th {\n",
              "        text-align: right;\n",
              "    }\n",
              "</style>\n",
              "<table border=\"1\" class=\"dataframe\">\n",
              "  <thead>\n",
              "    <tr style=\"text-align: right;\">\n",
              "      <th></th>\n",
              "      <th>id</th>\n",
              "      <th>premise</th>\n",
              "      <th>hypothesis</th>\n",
              "      <th>lang_abv</th>\n",
              "      <th>language</th>\n",
              "      <th>label</th>\n",
              "    </tr>\n",
              "  </thead>\n",
              "  <tbody>\n",
              "    <tr>\n",
              "      <th>0</th>\n",
              "      <td>5130fd2cb5</td>\n",
              "      <td>and these ideas were considered in the develop...</td>\n",
              "      <td>The rules developed in the interim were taken ...</td>\n",
              "      <td>en</td>\n",
              "      <td>English</td>\n",
              "      <td>0</td>\n",
              "    </tr>\n",
              "    <tr>\n",
              "      <th>1</th>\n",
              "      <td>5b72532a0b</td>\n",
              "      <td>These are the challenges we face in practice w...</td>\n",
              "      <td>Practice groups are not permitted to work on t...</td>\n",
              "      <td>en</td>\n",
              "      <td>English</td>\n",
              "      <td>2</td>\n",
              "    </tr>\n",
              "    <tr>\n",
              "      <th>2</th>\n",
              "      <td>3931fbe82a</td>\n",
              "      <td>Ces petites choses font une grande différence ...</td>\n",
              "      <td>J'essaye d'accomplir quelque chose.</td>\n",
              "      <td>fr</td>\n",
              "      <td>French</td>\n",
              "      <td>0</td>\n",
              "    </tr>\n",
              "    <tr>\n",
              "      <th>3</th>\n",
              "      <td>5622f0c60b</td>\n",
              "      <td>Do you know that they can't really defend them...</td>\n",
              "      <td>They cannot protect themselves because of age.</td>\n",
              "      <td>en</td>\n",
              "      <td>English</td>\n",
              "      <td>0</td>\n",
              "    </tr>\n",
              "    <tr>\n",
              "      <th>4</th>\n",
              "      <td>86aaa48b45</td>\n",
              "      <td>เล่นตามบทบาทด้วย โอกาสในการแสดงและเล่นบทบาทหลา...</td>\n",
              "      <td>เด็ก ๆ สามารถเห็นได้ว่าชาติพันธุ์ต่างๆมีความแต...</td>\n",
              "      <td>th</td>\n",
              "      <td>Thai</td>\n",
              "      <td>1</td>\n",
              "    </tr>\n",
              "  </tbody>\n",
              "</table>\n",
              "</div>"
            ],
            "text/plain": [
              "           id  ... label\n",
              "0  5130fd2cb5  ...     0\n",
              "1  5b72532a0b  ...     2\n",
              "2  3931fbe82a  ...     0\n",
              "3  5622f0c60b  ...     0\n",
              "4  86aaa48b45  ...     1\n",
              "\n",
              "[5 rows x 6 columns]"
            ]
          },
          "metadata": {
            "tags": []
          },
          "execution_count": 12
        }
      ]
    },
    {
      "cell_type": "code",
      "metadata": {
        "trusted": true,
        "id": "hs-04TMOyfpw",
        "colab_type": "code",
        "colab": {
          "base_uri": "https://localhost:8080/",
          "height": 197
        },
        "outputId": "576fa9fe-ff66-41af-c2ec-f4cafa70a84e"
      },
      "source": [
        "#offline loading of augmented datasets\n",
        "train_twice_aug = pd.read_csv('twice_translated_aug_train.csv')\n",
        "train_twice_aug.head()"
      ],
      "execution_count": 13,
      "outputs": [
        {
          "output_type": "execute_result",
          "data": {
            "text/html": [
              "<div>\n",
              "<style scoped>\n",
              "    .dataframe tbody tr th:only-of-type {\n",
              "        vertical-align: middle;\n",
              "    }\n",
              "\n",
              "    .dataframe tbody tr th {\n",
              "        vertical-align: top;\n",
              "    }\n",
              "\n",
              "    .dataframe thead th {\n",
              "        text-align: right;\n",
              "    }\n",
              "</style>\n",
              "<table border=\"1\" class=\"dataframe\">\n",
              "  <thead>\n",
              "    <tr style=\"text-align: right;\">\n",
              "      <th></th>\n",
              "      <th>id</th>\n",
              "      <th>premise</th>\n",
              "      <th>hypothesis</th>\n",
              "      <th>lang_abv</th>\n",
              "      <th>language</th>\n",
              "      <th>label</th>\n",
              "    </tr>\n",
              "  </thead>\n",
              "  <tbody>\n",
              "    <tr>\n",
              "      <th>0</th>\n",
              "      <td>5130fd2cb5</td>\n",
              "      <td>and these ideas were taken into consideration ...</td>\n",
              "      <td>Interim rules developed in conjunction with th...</td>\n",
              "      <td>en</td>\n",
              "      <td>English</td>\n",
              "      <td>0</td>\n",
              "    </tr>\n",
              "    <tr>\n",
              "      <th>1</th>\n",
              "      <td>5b72532a0b</td>\n",
              "      <td>These are the challenges we face in practice w...</td>\n",
              "      <td>Practice groups are not allowed to deal with t...</td>\n",
              "      <td>en</td>\n",
              "      <td>English</td>\n",
              "      <td>2</td>\n",
              "    </tr>\n",
              "    <tr>\n",
              "      <th>2</th>\n",
              "      <td>3931fbe82a</td>\n",
              "      <td>Ces petites choses font une grande différence ...</td>\n",
              "      <td>J'essaye d'accomplir quelque chose.</td>\n",
              "      <td>fr</td>\n",
              "      <td>French</td>\n",
              "      <td>0</td>\n",
              "    </tr>\n",
              "    <tr>\n",
              "      <th>3</th>\n",
              "      <td>5622f0c60b</td>\n",
              "      <td>Do you know that they can't really defend them...</td>\n",
              "      <td>They cannot protect themselves because of age.</td>\n",
              "      <td>en</td>\n",
              "      <td>English</td>\n",
              "      <td>0</td>\n",
              "    </tr>\n",
              "    <tr>\n",
              "      <th>4</th>\n",
              "      <td>86aaa48b45</td>\n",
              "      <td>การเล่นบทบาทสมมติยังสามารถช่วยให้เกิดโอกาสในกา...</td>\n",
              "      <td>เด็ก ๆ สามารถเห็นโครงสร้างทางชาติพันธุ์ที่แตกต...</td>\n",
              "      <td>th</td>\n",
              "      <td>Thai</td>\n",
              "      <td>1</td>\n",
              "    </tr>\n",
              "  </tbody>\n",
              "</table>\n",
              "</div>"
            ],
            "text/plain": [
              "           id  ... label\n",
              "0  5130fd2cb5  ...     0\n",
              "1  5b72532a0b  ...     2\n",
              "2  3931fbe82a  ...     0\n",
              "3  5622f0c60b  ...     0\n",
              "4  86aaa48b45  ...     1\n",
              "\n",
              "[5 rows x 6 columns]"
            ]
          },
          "metadata": {
            "tags": []
          },
          "execution_count": 13
        }
      ]
    },
    {
      "cell_type": "markdown",
      "metadata": {
        "id": "qZr1dCPyyfpx",
        "colab_type": "text"
      },
      "source": [
        "**Wonderful! Now you could take this dataset and apply the same procedure to generate an ever more diverse set of augmentations, or you could increase the complexity of the translation by chaining together multiple languages, i.e.**\n",
        "\n",
        "> English -> French -> Russian -> .... -> English\n",
        "\n",
        "**I encourage you to play around with this yourself to see what gives you the best performance**"
      ]
    },
    {
      "cell_type": "markdown",
      "metadata": {
        "id": "oCYQZr0AK-Og",
        "colab_type": "text"
      },
      "source": [
        "# Configure TPU\n",
        "\n",
        "**Now we have to make some TPU-training specific changes. First, we must connect to and initialize our TPU:**"
      ]
    },
    {
      "cell_type": "code",
      "metadata": {
        "_uuid": "d629ff2d2480ee46fbb7e2d37f6b5fab8052498a",
        "_cell_guid": "79c7e3d0-c299-4dcb-8224-4455121ee9b0",
        "trusted": true,
        "id": "5baypFOGK-Oh",
        "colab_type": "code",
        "colab": {
          "base_uri": "https://localhost:8080/",
          "height": 854
        },
        "outputId": "c16f0895-bb6c-4266-c257-0c3c2cb609d0"
      },
      "source": [
        "if DEVICE == \"TPU\":\n",
        "    print(\"connecting to TPU...\")\n",
        "    try:\n",
        "        tpu = tf.distribute.cluster_resolver.TPUClusterResolver()\n",
        "        print('Running on TPU ', tpu.master())\n",
        "    except ValueError:\n",
        "        print(\"Could not connect to TPU\")\n",
        "        tpu = None\n",
        "\n",
        "    if tpu:\n",
        "        try:\n",
        "            print(\"initializing  TPU ...\")\n",
        "            tf.config.experimental_connect_to_cluster(tpu)\n",
        "            tf.tpu.experimental.initialize_tpu_system(tpu)\n",
        "            strategy = tf.distribute.experimental.TPUStrategy(tpu)\n",
        "            print(\"TPU initialized\")\n",
        "        except _:\n",
        "            print(\"failed to initialize TPU\")\n",
        "    else:\n",
        "        DEVICE = \"GPU\"\n",
        "\n",
        "if DEVICE != \"TPU\":\n",
        "    print(\"Using default strategy for CPU and single GPU\")\n",
        "    strategy = tf.distribute.get_strategy()\n",
        "\n",
        "if DEVICE == \"GPU\":\n",
        "    print(\"Num GPUs Available: \", len(tf.config.experimental.list_physical_devices('GPU')))\n",
        "    \n",
        "\n",
        "AUTO = tf.data.experimental.AUTOTUNE\n",
        "REPLICAS = strategy.num_replicas_in_sync\n",
        "#REPLICAS = 8\n",
        "print(f'REPLICAS: {REPLICAS}')"
      ],
      "execution_count": 14,
      "outputs": [
        {
          "output_type": "stream",
          "text": [
            "connecting to TPU...\n",
            "Running on TPU  grpc://10.113.65.34:8470\n",
            "initializing  TPU ...\n",
            "INFO:tensorflow:Initializing the TPU system: grpc://10.113.65.34:8470\n"
          ],
          "name": "stdout"
        },
        {
          "output_type": "stream",
          "text": [
            "INFO:tensorflow:Initializing the TPU system: grpc://10.113.65.34:8470\n"
          ],
          "name": "stderr"
        },
        {
          "output_type": "stream",
          "text": [
            "INFO:tensorflow:Clearing out eager caches\n"
          ],
          "name": "stdout"
        },
        {
          "output_type": "stream",
          "text": [
            "INFO:tensorflow:Clearing out eager caches\n"
          ],
          "name": "stderr"
        },
        {
          "output_type": "stream",
          "text": [
            "INFO:tensorflow:Finished initializing TPU system.\n"
          ],
          "name": "stdout"
        },
        {
          "output_type": "stream",
          "text": [
            "INFO:tensorflow:Finished initializing TPU system.\n",
            "WARNING:absl:`tf.distribute.experimental.TPUStrategy` is deprecated, please use  the non experimental symbol `tf.distribute.TPUStrategy` instead.\n"
          ],
          "name": "stderr"
        },
        {
          "output_type": "stream",
          "text": [
            "INFO:tensorflow:Found TPU system:\n"
          ],
          "name": "stdout"
        },
        {
          "output_type": "stream",
          "text": [
            "INFO:tensorflow:Found TPU system:\n"
          ],
          "name": "stderr"
        },
        {
          "output_type": "stream",
          "text": [
            "INFO:tensorflow:*** Num TPU Cores: 8\n"
          ],
          "name": "stdout"
        },
        {
          "output_type": "stream",
          "text": [
            "INFO:tensorflow:*** Num TPU Cores: 8\n"
          ],
          "name": "stderr"
        },
        {
          "output_type": "stream",
          "text": [
            "INFO:tensorflow:*** Num TPU Workers: 1\n"
          ],
          "name": "stdout"
        },
        {
          "output_type": "stream",
          "text": [
            "INFO:tensorflow:*** Num TPU Workers: 1\n"
          ],
          "name": "stderr"
        },
        {
          "output_type": "stream",
          "text": [
            "INFO:tensorflow:*** Num TPU Cores Per Worker: 8\n"
          ],
          "name": "stdout"
        },
        {
          "output_type": "stream",
          "text": [
            "INFO:tensorflow:*** Num TPU Cores Per Worker: 8\n"
          ],
          "name": "stderr"
        },
        {
          "output_type": "stream",
          "text": [
            "INFO:tensorflow:*** Available Device: _DeviceAttributes(/job:localhost/replica:0/task:0/device:CPU:0, CPU, 0, 0)\n"
          ],
          "name": "stdout"
        },
        {
          "output_type": "stream",
          "text": [
            "INFO:tensorflow:*** Available Device: _DeviceAttributes(/job:localhost/replica:0/task:0/device:CPU:0, CPU, 0, 0)\n"
          ],
          "name": "stderr"
        },
        {
          "output_type": "stream",
          "text": [
            "INFO:tensorflow:*** Available Device: _DeviceAttributes(/job:localhost/replica:0/task:0/device:XLA_CPU:0, XLA_CPU, 0, 0)\n"
          ],
          "name": "stdout"
        },
        {
          "output_type": "stream",
          "text": [
            "INFO:tensorflow:*** Available Device: _DeviceAttributes(/job:localhost/replica:0/task:0/device:XLA_CPU:0, XLA_CPU, 0, 0)\n"
          ],
          "name": "stderr"
        },
        {
          "output_type": "stream",
          "text": [
            "INFO:tensorflow:*** Available Device: _DeviceAttributes(/job:worker/replica:0/task:0/device:CPU:0, CPU, 0, 0)\n"
          ],
          "name": "stdout"
        },
        {
          "output_type": "stream",
          "text": [
            "INFO:tensorflow:*** Available Device: _DeviceAttributes(/job:worker/replica:0/task:0/device:CPU:0, CPU, 0, 0)\n"
          ],
          "name": "stderr"
        },
        {
          "output_type": "stream",
          "text": [
            "INFO:tensorflow:*** Available Device: _DeviceAttributes(/job:worker/replica:0/task:0/device:TPU:0, TPU, 0, 0)\n"
          ],
          "name": "stdout"
        },
        {
          "output_type": "stream",
          "text": [
            "INFO:tensorflow:*** Available Device: _DeviceAttributes(/job:worker/replica:0/task:0/device:TPU:0, TPU, 0, 0)\n"
          ],
          "name": "stderr"
        },
        {
          "output_type": "stream",
          "text": [
            "INFO:tensorflow:*** Available Device: _DeviceAttributes(/job:worker/replica:0/task:0/device:TPU:1, TPU, 0, 0)\n"
          ],
          "name": "stdout"
        },
        {
          "output_type": "stream",
          "text": [
            "INFO:tensorflow:*** Available Device: _DeviceAttributes(/job:worker/replica:0/task:0/device:TPU:1, TPU, 0, 0)\n"
          ],
          "name": "stderr"
        },
        {
          "output_type": "stream",
          "text": [
            "INFO:tensorflow:*** Available Device: _DeviceAttributes(/job:worker/replica:0/task:0/device:TPU:2, TPU, 0, 0)\n"
          ],
          "name": "stdout"
        },
        {
          "output_type": "stream",
          "text": [
            "INFO:tensorflow:*** Available Device: _DeviceAttributes(/job:worker/replica:0/task:0/device:TPU:2, TPU, 0, 0)\n"
          ],
          "name": "stderr"
        },
        {
          "output_type": "stream",
          "text": [
            "INFO:tensorflow:*** Available Device: _DeviceAttributes(/job:worker/replica:0/task:0/device:TPU:3, TPU, 0, 0)\n"
          ],
          "name": "stdout"
        },
        {
          "output_type": "stream",
          "text": [
            "INFO:tensorflow:*** Available Device: _DeviceAttributes(/job:worker/replica:0/task:0/device:TPU:3, TPU, 0, 0)\n"
          ],
          "name": "stderr"
        },
        {
          "output_type": "stream",
          "text": [
            "INFO:tensorflow:*** Available Device: _DeviceAttributes(/job:worker/replica:0/task:0/device:TPU:4, TPU, 0, 0)\n"
          ],
          "name": "stdout"
        },
        {
          "output_type": "stream",
          "text": [
            "INFO:tensorflow:*** Available Device: _DeviceAttributes(/job:worker/replica:0/task:0/device:TPU:4, TPU, 0, 0)\n"
          ],
          "name": "stderr"
        },
        {
          "output_type": "stream",
          "text": [
            "INFO:tensorflow:*** Available Device: _DeviceAttributes(/job:worker/replica:0/task:0/device:TPU:5, TPU, 0, 0)\n"
          ],
          "name": "stdout"
        },
        {
          "output_type": "stream",
          "text": [
            "INFO:tensorflow:*** Available Device: _DeviceAttributes(/job:worker/replica:0/task:0/device:TPU:5, TPU, 0, 0)\n"
          ],
          "name": "stderr"
        },
        {
          "output_type": "stream",
          "text": [
            "INFO:tensorflow:*** Available Device: _DeviceAttributes(/job:worker/replica:0/task:0/device:TPU:6, TPU, 0, 0)\n"
          ],
          "name": "stdout"
        },
        {
          "output_type": "stream",
          "text": [
            "INFO:tensorflow:*** Available Device: _DeviceAttributes(/job:worker/replica:0/task:0/device:TPU:6, TPU, 0, 0)\n"
          ],
          "name": "stderr"
        },
        {
          "output_type": "stream",
          "text": [
            "INFO:tensorflow:*** Available Device: _DeviceAttributes(/job:worker/replica:0/task:0/device:TPU:7, TPU, 0, 0)\n"
          ],
          "name": "stdout"
        },
        {
          "output_type": "stream",
          "text": [
            "INFO:tensorflow:*** Available Device: _DeviceAttributes(/job:worker/replica:0/task:0/device:TPU:7, TPU, 0, 0)\n"
          ],
          "name": "stderr"
        },
        {
          "output_type": "stream",
          "text": [
            "INFO:tensorflow:*** Available Device: _DeviceAttributes(/job:worker/replica:0/task:0/device:TPU_SYSTEM:0, TPU_SYSTEM, 0, 0)\n"
          ],
          "name": "stdout"
        },
        {
          "output_type": "stream",
          "text": [
            "INFO:tensorflow:*** Available Device: _DeviceAttributes(/job:worker/replica:0/task:0/device:TPU_SYSTEM:0, TPU_SYSTEM, 0, 0)\n"
          ],
          "name": "stderr"
        },
        {
          "output_type": "stream",
          "text": [
            "INFO:tensorflow:*** Available Device: _DeviceAttributes(/job:worker/replica:0/task:0/device:XLA_CPU:0, XLA_CPU, 0, 0)\n"
          ],
          "name": "stdout"
        },
        {
          "output_type": "stream",
          "text": [
            "INFO:tensorflow:*** Available Device: _DeviceAttributes(/job:worker/replica:0/task:0/device:XLA_CPU:0, XLA_CPU, 0, 0)\n"
          ],
          "name": "stderr"
        },
        {
          "output_type": "stream",
          "text": [
            "TPU initialized\n",
            "REPLICAS: 8\n"
          ],
          "name": "stdout"
        }
      ]
    },
    {
      "cell_type": "code",
      "metadata": {
        "trusted": true,
        "id": "yI04p1euK-Oi",
        "colab_type": "code",
        "colab": {}
      },
      "source": [
        "#choose batch size - will depend on cores of our device\n",
        "BATCH_SIZE = 16 * REPLICAS"
      ],
      "execution_count": 15,
      "outputs": []
    },
    {
      "cell_type": "markdown",
      "metadata": {
        "id": "I5nXqI4AK-Oo",
        "colab_type": "text"
      },
      "source": [
        "# Getting Datasets\n",
        "\n",
        "**HuggingFace Transformers makes it unbelievable easy to use transformers. In fact, you don't even need to specify the transformer or tokenizer: its architecture can be guessed from the name or path of the pretrained model you specify in the `from_pretrained` method. To read more about AutoModels/Tokenizers, see [this](https://huggingface.co/transformers/model_doc/auto.html)**"
      ]
    },
    {
      "cell_type": "code",
      "metadata": {
        "trusted": true,
        "id": "gqeX9fczK-Ok",
        "colab_type": "code",
        "colab": {}
      },
      "source": [
        "#get HuggingFace transformers\n",
        "!pip install --quiet transformers\n",
        "\n",
        "#import model and Tokenizer\n",
        "from transformers import TFAutoModel, AutoTokenizer\n",
        "\n",
        "#get paths to TensorFlow XLM-RoBERTa base and large models\n",
        "roberta_base = \"jplu/tf-xlm-roberta-base\"\n",
        "roberta_large = 'jplu/tf-xlm-roberta-large'"
      ],
      "execution_count": 16,
      "outputs": []
    },
    {
      "cell_type": "markdown",
      "metadata": {
        "id": "EHexYvSZyfp5",
        "colab_type": "text"
      },
      "source": [
        "**We can start by creating a simple train/validation split here and then converting them to `tf.data.Dataset` format which is the format we need to put our datasets into before we send them to the TPUs. For more about buidling data pipelines in TensorFlow, see [here](https://www.tensorflow.org/guide/data):**\n",
        "\n",
        "**Now, we do not want any samples in our validation set used to create the augmented dataset, or we will overfit our validation data. So you can either split your data into train and validation first and then augment only on train, or you can import the offline dataset and manually remove the validation indices from it and add that to the original training data**\n",
        "\n",
        "**Note that while we only apply `translation_augmentation` to the training dataset, one can add test time augmentation (TTA) and validation time augmentation (VTA). I will add TTA in the next version of this commit**"
      ]
    },
    {
      "cell_type": "code",
      "metadata": {
        "trusted": true,
        "id": "UgbwgZ9Iyfp6",
        "colab_type": "code",
        "colab": {
          "base_uri": "https://localhost:8080/",
          "height": 34
        },
        "outputId": "94ded153-f80f-46eb-ea89-eb56fbbd2ab7"
      },
      "source": [
        "#get train, val splits\n",
        "train, val, train_labels, val_labels = train_test_split(train, train['label'],\n",
        "                                                        test_size = 0.2,\n",
        "                                                        random_state = SEED)\n",
        "\n",
        "#check size before augmenting\n",
        "print(f'Training size before augmentation: {len(train)}')\n",
        "\n",
        "if GEN_AUG:\n",
        "    #now we generate augmented data\n",
        "    train_aug = train.copy().pipe(translation_aug_parallel)\n",
        "    \n",
        "#remove validation indexs samples from our augmented dataset\n",
        "train_aug = train_aug.drop(val.index)\n",
        "train_twice_aug = train_twice_aug.drop(val.index)\n",
        "\n",
        "#and shuffle\n",
        "train_aug = shuffle(train_aug)\n",
        "train_twice_aug = shuffle(train_twice_aug)\n",
        "\n",
        "#add only twice augmented dataset to existing training dataset\n",
        "#train = train.append(train_twice_aug)\n",
        "#train_labels = train_labels.append(train_twice_aug['label'])\n",
        "\n",
        "#add both external datasets to existing training dataset\n",
        "train = train.append([train_aug, train_twice_aug])\n",
        "train_labels = train_labels.append([train_aug['label'], train_twice_aug['label']])"
      ],
      "execution_count": 17,
      "outputs": [
        {
          "output_type": "stream",
          "text": [
            "Training size before augmentation: 9696\n"
          ],
          "name": "stdout"
        }
      ]
    },
    {
      "cell_type": "code",
      "metadata": {
        "trusted": true,
        "id": "aPlxjgGayfp7",
        "colab_type": "code",
        "colab": {
          "base_uri": "https://localhost:8080/",
          "height": 34
        },
        "outputId": "4fd0f05d-f36c-4aa9-f611-2e87367c8eed"
      },
      "source": [
        "#check size after augmenting\n",
        "print(f'Training size after augmentation: {len(train)}')"
      ],
      "execution_count": 18,
      "outputs": [
        {
          "output_type": "stream",
          "text": [
            "Training size after augmentation: 29088\n"
          ],
          "name": "stdout"
        }
      ]
    },
    {
      "cell_type": "code",
      "metadata": {
        "trusted": true,
        "id": "i470uUitK-Om",
        "colab_type": "code",
        "colab": {
          "base_uri": "https://localhost:8080/",
          "height": 90
        },
        "outputId": "1031d052-04a0-4f5f-ba62-03be6bb375e4"
      },
      "source": [
        "#create BERT tokenzer object\n",
        "TOKENIZER = AutoTokenizer.from_pretrained(roberta_large)\n",
        "\n",
        "#define inputs to give our tokenizer (and training labels)\n",
        "train_text = train[['premise', 'hypothesis']].values.tolist()\n",
        "val_text = val[['premise', 'hypothesis']].values.tolist()\n",
        "test_text = test[['premise', 'hypothesis']].values.tolist()\n",
        "\n",
        "#tokenize our text here\n",
        "#will functionize these later\n",
        "train_enc = TOKENIZER.batch_encode_plus(\n",
        "    train_text,\n",
        "    pad_to_max_length = True,\n",
        "    max_length = MAX_LEN\n",
        ")\n",
        "\n",
        "val_enc = TOKENIZER.batch_encode_plus(\n",
        "    val_text,\n",
        "    pad_to_max_length = True,\n",
        "    max_length = MAX_LEN\n",
        ")\n",
        "\n",
        "test_enc = TOKENIZER.batch_encode_plus(\n",
        "    test_text,\n",
        "    pad_to_max_length = True,\n",
        "    max_length = MAX_LEN\n",
        ")"
      ],
      "execution_count": 19,
      "outputs": [
        {
          "output_type": "stream",
          "text": [
            "WARNING:transformers.tokenization_utils_base:Truncation was not explicitely activated but `max_length` is provided a specific value, please use `truncation=True` to explicitely truncate examples to max length. Defaulting to 'longest_first' truncation strategy. If you encode pairs of sequences (GLUE-style) with the tokenizer you can select this strategy more precisely by providing a specific strategy to `truncation`.\n",
            "WARNING:transformers.tokenization_utils_base:Truncation was not explicitely activated but `max_length` is provided a specific value, please use `truncation=True` to explicitely truncate examples to max length. Defaulting to 'longest_first' truncation strategy. If you encode pairs of sequences (GLUE-style) with the tokenizer you can select this strategy more precisely by providing a specific strategy to `truncation`.\n",
            "WARNING:transformers.tokenization_utils_base:Truncation was not explicitely activated but `max_length` is provided a specific value, please use `truncation=True` to explicitely truncate examples to max length. Defaulting to 'longest_first' truncation strategy. If you encode pairs of sequences (GLUE-style) with the tokenizer you can select this strategy more precisely by providing a specific strategy to `truncation`.\n"
          ],
          "name": "stderr"
        }
      ]
    },
    {
      "cell_type": "code",
      "metadata": {
        "trusted": true,
        "id": "-LCYg07JK-Op",
        "colab_type": "code",
        "colab": {}
      },
      "source": [
        "#convert train dataset to tf.data.Dataset format\n",
        "train_ds = (\n",
        "    tf.data.Dataset\n",
        "    .from_tensor_slices((train_enc['input_ids'], train_labels))\n",
        "    .repeat()\n",
        "    .shuffle(2048)\n",
        "    .batch(BATCH_SIZE)\n",
        "    .prefetch(AUTO)\n",
        ")\n",
        "\n",
        "#convert validation dataset to tf.data.Dataset format\n",
        "val_ds = (\n",
        "    tf.data.Dataset\n",
        "    .from_tensor_slices((val_enc['input_ids'], val_labels))\n",
        "    .batch(BATCH_SIZE)\n",
        "    .prefetch(AUTO)\n",
        ")\n",
        "\n",
        "#convert test dataset to tf.data.Dataset format\n",
        "test_ds = (\n",
        "    tf.data.Dataset\n",
        "    .from_tensor_slices(test_enc['input_ids'])\n",
        "    .batch(BATCH_SIZE)\n",
        ")"
      ],
      "execution_count": 20,
      "outputs": []
    },
    {
      "cell_type": "markdown",
      "metadata": {
        "id": "2uAHlCN6K-Os",
        "colab_type": "text"
      },
      "source": [
        "# Learning Rate Schedule\n",
        "\n",
        "**It is generally a good idea to use a learning rate scheduler when transfer learning. Our pretrained model already knows quite a bit, so we want to start the learning rate at 0: if we start with a high learning rate, there is a chance we 'erase' the weights that the model already had, defeating the purpose of transfer learning. We then slowly increase the learning rate as the model adapts to the new data:** \n",
        "\n",
        "**Note that I am still figuring out the best learning rate schedule as the current one does not seem to provide much increase in score/smoother training**"
      ]
    },
    {
      "cell_type": "code",
      "metadata": {
        "trusted": true,
        "id": "mruu9foJK-Os",
        "colab_type": "code",
        "colab": {
          "base_uri": "https://localhost:8080/",
          "height": 332
        },
        "outputId": "60b51bf3-84cd-4b0c-9c77-6174a64eab27"
      },
      "source": [
        "#define learning rate parameters\n",
        "LR_START = 5e-7\n",
        "LR_MAX = 5e-7 * REPLICAS\n",
        "LR_MIN = 1e-7\n",
        "LR_RAMPUP_EPOCHS = 3\n",
        "LR_SUSTAIN_EPOCHS = 0\n",
        "LR_DECAY = .8\n",
        "\n",
        "#stepwise schedule\n",
        "def lrfn_step(epoch):\n",
        "    if epoch < LR_RAMPUP_EPOCHS:\n",
        "        lr = (LR_MAX - LR_START) / LR_RAMPUP_EPOCHS * epoch + LR_START\n",
        "    elif epoch < LR_RAMPUP_EPOCHS + LR_SUSTAIN_EPOCHS:\n",
        "        lr = LR_MAX\n",
        "    else:\n",
        "        lr = LR_MAX * LR_DECAY**((epoch - LR_RAMPUP_EPOCHS - LR_SUSTAIN_EPOCHS)//2)\n",
        "    return lr\n",
        "\n",
        "\n",
        "#smoothish schedule\n",
        "def lrfn_smooth(epoch):\n",
        "    if epoch < LR_RAMPUP_EPOCHS:\n",
        "        lr = (LR_MAX - LR_START) / LR_RAMPUP_EPOCHS * epoch + LR_START\n",
        "    elif epoch < LR_RAMPUP_EPOCHS + LR_SUSTAIN_EPOCHS:\n",
        "        lr = LR_MAX\n",
        "    else:\n",
        "        lr = (LR_MAX - LR_MIN) * LR_DECAY**(epoch - LR_RAMPUP_EPOCHS - LR_SUSTAIN_EPOCHS) + LR_MIN\n",
        "    return lr\n",
        "    \n",
        "lr_callback_step = tf.keras.callbacks.LearningRateScheduler(lrfn_step, verbose = True)\n",
        "lr_callback_smooth = tf.keras.callbacks.LearningRateScheduler(lrfn_smooth, verbose = True)\n",
        "\n",
        "#visualize learning rate schedule\n",
        "rng = [i for i in range(EPOCHS)]\n",
        "y1 = [lrfn_step(x) for x in rng]\n",
        "y2 = [lrfn_smooth(x) for x in rng]\n",
        "fix, ax = plt.subplots(1,2)\n",
        "ax[0].plot(rng, y1)\n",
        "ax[1].plot(rng, y2)\n",
        "plt.tight_layout()\n",
        "print(\"Learning rate schedule for step schedule: {:.3g} to {:.3g} to {:.3g}\".format(y1[0], max(y1), y1[-1]))\n",
        "print(\"Learning rate schedule for smooth schedule: {:.3g} to {:.3g} to {:.3g}\".format(y2[0], max(y2), y2[-1]))"
      ],
      "execution_count": 21,
      "outputs": [
        {
          "output_type": "stream",
          "text": [
            "Learning rate schedule for step schedule: 5e-07 to 4e-06 to 2.56e-06\n",
            "Learning rate schedule for smooth schedule: 5e-07 to 4e-06 to 1.7e-06\n"
          ],
          "name": "stdout"
        },
        {
          "output_type": "display_data",
          "data": {
            "image/png": "[encoded data removed]",
            "text/plain": [
              "<Figure size 432x288 with 2 Axes>"
            ]
          },
          "metadata": {
            "tags": [],
            "needs_background": "light"
          }
        }
      ]
    },
    {
      "cell_type": "markdown",
      "metadata": {
        "id": "aax9hzclK-Ou",
        "colab_type": "text"
      },
      "source": [
        "# Model Training\n",
        "\n",
        "**We will use `mish` activation here which is a non-monotonic activation function that tens to work better than `relu`. You can read more about it [here](https://arxiv.org/abs/1908.08681#:~:text=Mish%3A%20A%20Self%20Regularized%20Non%2DMonotonic%20Neural%20Activation%20Function,-Diganta%20Misra&text=In%20this%20work%2C%20a%20novel,deep%20networks%20across%20challenging%20datasets). Sadly, it is not a predefined activation function in `tf.keras` so we need to construct it ourselves, which is easy to do**\n",
        "\n",
        "**Here is a quick graphic that shows the differences between the most popular activation functions:**\n",
        "\n",
        "![](https://raw.githubusercontent.com/krutikabapat/krutikabapat.github.io/master/assets/activation.png)\n",
        "\n",
        "*Image taken from [here](https://krutikabapat.github.io/Swish-Vs-Mish-Latest-Activation-Functions/)*"
      ]
    },
    {
      "cell_type": "code",
      "metadata": {
        "trusted": true,
        "id": "lUL4mgKDyfqC",
        "colab_type": "code",
        "colab": {}
      },
      "source": [
        "from tensorflow.math import softplus, tanh\n",
        "from tensorflow.keras.utils import get_custom_objects\n",
        "from tensorflow.keras.layers import Dense, Input, Activation, Dropout\n",
        "\n",
        "# softplus - log(exp(x)+1)\n",
        "def mish(x):\n",
        "    return x*tanh(softplus(x))\n",
        "\n",
        "#create misch activation to use in tf.keras\n",
        "get_custom_objects()[\"mish\"] = Activation(mish)"
      ],
      "execution_count": 22,
      "outputs": []
    },
    {
      "cell_type": "code",
      "metadata": {
        "trusted": true,
        "id": "pbO97U7qK-Ou",
        "colab_type": "code",
        "colab": {}
      },
      "source": [
        "#helper function to create our model\n",
        "def build_model(transformer_layer, learning_rate = LR_RATE):\n",
        "    #must use this to send to TPU cores\n",
        "    with strategy.scope():\n",
        "        #define input(s)\n",
        "        input_ids = tf.keras.Input(shape = (MAX_LEN,), dtype = tf.int32)\n",
        "        \n",
        "        #insert roberta layer\n",
        "        roberta = TFAutoModel.from_pretrained(transformer_layer)\n",
        "        roberta = roberta(input_ids)[0]\n",
        "        \n",
        "        #only need <s> token here, so we extract it now\n",
        "        out = roberta[:, 0, :]\n",
        "        \n",
        "        #add optional Dense layer with dropout\n",
        "        #out = tf.keras.layers.Dropout(.2)(out)\n",
        "        \n",
        "        #two layers with mish activation\n",
        "        out = tf.keras.layers.Dense(MAX_LEN // 2, activation='mish')(out)\n",
        "        #out = tf.keras.layers.Dense(MAX_LEN // 4, activation='mish')(out)\n",
        "        \n",
        "        #two layers with relu activation\n",
        "        #out = tf.keras.layers.Dense(32, activation = 'relu')(out)\n",
        "        #out = tf.keras.layers.Dense(16, activation = 'relu')(out)\n",
        "        \n",
        "        #add our softmax layer\n",
        "        out = tf.keras.layers.Dense(3, activation = 'softmax')(out)\n",
        "        \n",
        "        #assemble model and compile\n",
        "        model = tf.keras.Model(inputs = input_ids, outputs = out)\n",
        "        model.compile(\n",
        "                        optimizer = tf.keras.optimizers.Adam(lr = LR_RATE), \n",
        "                        loss = 'sparse_categorical_crossentropy', \n",
        "                        metrics = ['accuracy'])\n",
        "        \n",
        "    return model  "
      ],
      "execution_count": 23,
      "outputs": []
    },
    {
      "cell_type": "markdown",
      "metadata": {
        "id": "50RqnVRByfqH",
        "colab_type": "text"
      },
      "source": [
        "**Some people don't believe in saving the best model and loading it after training. For one, it takes up extra space, especially if your model has hundreds of millions of parameters. In fact, you can only save 3 copies of RoBERTa-large to Kaggle memory before you run out of space**\n",
        "\n",
        "**Secondly, your training should be stable, so setting your training to a fixed number of epochs should produce similar results as using a `val_loss` monitor. If you are worried that training your model for one or two more epochs will completely throw your weights off, then you haven't found good weights for your model (for smaller models where you can easily regularize your model to train for longer periods of time). That being said, RoBERTa is a large model that can quickly overfit a dataset in a single epoch, so we will use a `val_loss` checkpoint callback:**"
      ]
    },
    {
      "cell_type": "code",
      "metadata": {
        "trusted": true,
        "id": "bwZBSmpEyfqH",
        "colab_type": "code",
        "colab": {
          "base_uri": "https://localhost:8080/",
          "height": 1000
        },
        "outputId": "1e4dc2c1-8f44-445f-a908-f8685eb57b9a"
      },
      "source": [
        "#choose to see training\n",
        "#0 for nothing, 1 for progress bar, 2 for each epoch\n",
        "VERBOSE = 2\n",
        "\n",
        "#to clear the TPU memory\n",
        "tf.tpu.experimental.initialize_tpu_system(tpu)\n",
        "print('---' *20)\n",
        "print(f\"Getting model...\")\n",
        "    \n",
        "#get steps per epoch values\n",
        "STEPS_PER_EPOCH = len(train) // BATCH_SIZE\n",
        "\n",
        "#make callback to save best model from training\n",
        "save_callback = tf.keras.callbacks.ModelCheckpoint(f\"best_model.h5\", monitor = 'val_loss', verbose = 0,\n",
        "                        save_best_only = True, save_weights_only = True, mode = 'min')\n",
        "\n",
        "#build and make save callback\n",
        "RoBERTa = build_model(roberta_base)\n",
        "print(f\"Training with batch size {BATCH_SIZE}\")\n",
        "\n",
        "#and train\n",
        "history = RoBERTa.fit(train_ds, steps_per_epoch = STEPS_PER_EPOCH,\n",
        "                      validation_data = val_ds,\n",
        "                      epochs = EPOCHS, verbose = VERBOSE,\n",
        "                      #callbacks = [save_callback],\n",
        "                      callbacks = [save_callback, lr_callback_smooth]\n",
        "                      )"
      ],
      "execution_count": 24,
      "outputs": [
        {
          "output_type": "stream",
          "text": [
            "WARNING:tensorflow:TPU system grpc://10.113.65.34:8470 has already been initialized. Reinitializing the TPU can cause previously created variables on TPU to be lost.\n"
          ],
          "name": "stdout"
        },
        {
          "output_type": "stream",
          "text": [
            "WARNING:tensorflow:TPU system grpc://10.113.65.34:8470 has already been initialized. Reinitializing the TPU can cause previously created variables on TPU to be lost.\n"
          ],
          "name": "stderr"
        },
        {
          "output_type": "stream",
          "text": [
            "INFO:tensorflow:Initializing the TPU system: grpc://10.113.65.34:8470\n"
          ],
          "name": "stdout"
        },
        {
          "output_type": "stream",
          "text": [
            "INFO:tensorflow:Initializing the TPU system: grpc://10.113.65.34:8470\n"
          ],
          "name": "stderr"
        },
        {
          "output_type": "stream",
          "text": [
            "INFO:tensorflow:Clearing out eager caches\n"
          ],
          "name": "stdout"
        },
        {
          "output_type": "stream",
          "text": [
            "INFO:tensorflow:Clearing out eager caches\n"
          ],
          "name": "stderr"
        },
        {
          "output_type": "stream",
          "text": [
            "INFO:tensorflow:Finished initializing TPU system.\n"
          ],
          "name": "stdout"
        },
        {
          "output_type": "stream",
          "text": [
            "INFO:tensorflow:Finished initializing TPU system.\n"
          ],
          "name": "stderr"
        },
        {
          "output_type": "stream",
          "text": [
            "------------------------------------------------------------\n",
            "Getting model...\n"
          ],
          "name": "stdout"
        },
        {
          "output_type": "stream",
          "text": [
            "WARNING:transformers.modeling_tf_utils:Some weights of the model checkpoint at jplu/tf-xlm-roberta-base were not used when initializing TFRobertaModel: ['lm_head']\n",
            "- This IS expected if you are initializing TFRobertaModel from the checkpoint of a model trained on another task or with another architecture (e.g. initializing a BertForSequenceClassification model from a BertForPretraining model).\n",
            "- This IS NOT expected if you are initializing TFRobertaModel from the checkpoint of a model that you expect to be exactly identical (initializing a BertForSequenceClassification model from a BertForSequenceClassification model).\n",
            "WARNING:transformers.modeling_tf_utils:All the weights of TFRobertaModel were initialized from the model checkpoint at jplu/tf-xlm-roberta-base.\n",
            "If your task is similar to the task the model of the ckeckpoint was trained on, you can already use TFRobertaModel for predictions without further training.\n"
          ],
          "name": "stderr"
        },
        {
          "output_type": "stream",
          "text": [
            "Training with batch size 128\n",
            "\n",
            "Epoch 00001: LearningRateScheduler reducing learning rate to 5e-07.\n",
            "Epoch 1/8\n",
            "WARNING:tensorflow:From /usr/local/lib/python3.6/dist-packages/tensorflow/python/data/ops/multi_device_iterator_ops.py:601: get_next_as_optional (from tensorflow.python.data.ops.iterator_ops) is deprecated and will be removed in a future version.\n",
            "Instructions for updating:\n",
            "Use `tf.data.Iterator.get_next_as_optional()` instead.\n"
          ],
          "name": "stdout"
        },
        {
          "output_type": "stream",
          "text": [
            "WARNING:tensorflow:From /usr/local/lib/python3.6/dist-packages/tensorflow/python/data/ops/multi_device_iterator_ops.py:601: get_next_as_optional (from tensorflow.python.data.ops.iterator_ops) is deprecated and will be removed in a future version.\n",
            "Instructions for updating:\n",
            "Use `tf.data.Iterator.get_next_as_optional()` instead.\n"
          ],
          "name": "stderr"
        },
        {
          "output_type": "stream",
          "text": [
            "WARNING:tensorflow:Gradients do not exist for variables ['tf_roberta_model/roberta/pooler/dense/kernel:0', 'tf_roberta_model/roberta/pooler/dense/bias:0'] when minimizing the loss.\n"
          ],
          "name": "stdout"
        },
        {
          "output_type": "stream",
          "text": [
            "WARNING:tensorflow:Gradients do not exist for variables ['tf_roberta_model/roberta/pooler/dense/kernel:0', 'tf_roberta_model/roberta/pooler/dense/bias:0'] when minimizing the loss.\n"
          ],
          "name": "stderr"
        },
        {
          "output_type": "stream",
          "text": [
            "WARNING:tensorflow:Gradients do not exist for variables ['tf_roberta_model/roberta/pooler/dense/kernel:0', 'tf_roberta_model/roberta/pooler/dense/bias:0'] when minimizing the loss.\n"
          ],
          "name": "stdout"
        },
        {
          "output_type": "stream",
          "text": [
            "WARNING:tensorflow:Gradients do not exist for variables ['tf_roberta_model/roberta/pooler/dense/kernel:0', 'tf_roberta_model/roberta/pooler/dense/bias:0'] when minimizing the loss.\n"
          ],
          "name": "stderr"
        },
        {
          "output_type": "stream",
          "text": [
            "WARNING:tensorflow:Gradients do not exist for variables ['tf_roberta_model/roberta/pooler/dense/kernel:0', 'tf_roberta_model/roberta/pooler/dense/bias:0'] when minimizing the loss.\n"
          ],
          "name": "stdout"
        },
        {
          "output_type": "stream",
          "text": [
            "WARNING:tensorflow:Gradients do not exist for variables ['tf_roberta_model/roberta/pooler/dense/kernel:0', 'tf_roberta_model/roberta/pooler/dense/bias:0'] when minimizing the loss.\n"
          ],
          "name": "stderr"
        },
        {
          "output_type": "stream",
          "text": [
            "WARNING:tensorflow:Gradients do not exist for variables ['tf_roberta_model/roberta/pooler/dense/kernel:0', 'tf_roberta_model/roberta/pooler/dense/bias:0'] when minimizing the loss.\n"
          ],
          "name": "stdout"
        },
        {
          "output_type": "stream",
          "text": [
            "WARNING:tensorflow:Gradients do not exist for variables ['tf_roberta_model/roberta/pooler/dense/kernel:0', 'tf_roberta_model/roberta/pooler/dense/bias:0'] when minimizing the loss.\n"
          ],
          "name": "stderr"
        },
        {
          "output_type": "stream",
          "text": [
            "WARNING:tensorflow:Callbacks method `on_train_batch_end` is slow compared to the batch time (batch time: 0.0095s vs `on_train_batch_end` time: 0.1513s). Check your callbacks.\n"
          ],
          "name": "stdout"
        },
        {
          "output_type": "stream",
          "text": [
            "WARNING:tensorflow:Callbacks method `on_train_batch_end` is slow compared to the batch time (batch time: 0.0095s vs `on_train_batch_end` time: 0.1513s). Check your callbacks.\n"
          ],
          "name": "stderr"
        },
        {
          "output_type": "stream",
          "text": [
            "WARNING:tensorflow:Callbacks method `on_test_batch_end` is slow compared to the batch time (batch time: 0.0040s vs `on_test_batch_end` time: 0.0365s). Check your callbacks.\n"
          ],
          "name": "stdout"
        },
        {
          "output_type": "stream",
          "text": [
            "WARNING:tensorflow:Callbacks method `on_test_batch_end` is slow compared to the batch time (batch time: 0.0040s vs `on_test_batch_end` time: 0.0365s). Check your callbacks.\n"
          ],
          "name": "stderr"
        },
        {
          "output_type": "stream",
          "text": [
            "227/227 - 61s - loss: 1.1395 - accuracy: 0.3390 - val_loss: 1.1122 - val_accuracy: 0.3453\n",
            "\n",
            "Epoch 00002: LearningRateScheduler reducing learning rate to 1.6666666666666667e-06.\n",
            "Epoch 2/8\n",
            "227/227 - 45s - loss: 1.1152 - accuracy: 0.3420 - val_loss: 1.0965 - val_accuracy: 0.3548\n",
            "\n",
            "Epoch 00003: LearningRateScheduler reducing learning rate to 2.833333333333333e-06.\n",
            "Epoch 3/8\n",
            "227/227 - 45s - loss: 1.1042 - accuracy: 0.3496 - val_loss: 1.0927 - val_accuracy: 0.3626\n",
            "\n",
            "Epoch 00004: LearningRateScheduler reducing learning rate to 4e-06.\n",
            "Epoch 4/8\n",
            "227/227 - 39s - loss: 1.1011 - accuracy: 0.3556 - val_loss: 1.0936 - val_accuracy: 0.3573\n",
            "\n",
            "Epoch 00005: LearningRateScheduler reducing learning rate to 3.22e-06.\n",
            "Epoch 5/8\n",
            "227/227 - 46s - loss: 1.0876 - accuracy: 0.3873 - val_loss: 1.0710 - val_accuracy: 0.4064\n",
            "\n",
            "Epoch 00006: LearningRateScheduler reducing learning rate to 2.5960000000000002e-06.\n",
            "Epoch 6/8\n",
            "227/227 - 46s - loss: 1.0493 - accuracy: 0.4519 - val_loss: 1.0533 - val_accuracy: 0.4352\n",
            "\n",
            "Epoch 00007: LearningRateScheduler reducing learning rate to 2.0968000000000004e-06.\n",
            "Epoch 7/8\n",
            "227/227 - 45s - loss: 1.0114 - accuracy: 0.4895 - val_loss: 0.9744 - val_accuracy: 0.5305\n",
            "\n",
            "Epoch 00008: LearningRateScheduler reducing learning rate to 1.6974400000000003e-06.\n",
            "Epoch 8/8\n",
            "227/227 - 46s - loss: 0.9585 - accuracy: 0.5382 - val_loss: 0.9295 - val_accuracy: 0.5532\n"
          ],
          "name": "stdout"
        }
      ]
    },
    {
      "cell_type": "markdown",
      "metadata": {
        "id": "K59MzQlvyfqJ",
        "colab_type": "text"
      },
      "source": [
        "**Once the model's weights have been saved to the disk, we can easily load them into an untrained model. This means we only need to train once and then we can store the weights in another notebook with other model weights to easily compare the performance of different models**"
      ]
    },
    {
      "cell_type": "code",
      "metadata": {
        "trusted": true,
        "id": "cW0uYdAcyfqJ",
        "colab_type": "code",
        "colab": {
          "base_uri": "https://localhost:8080/",
          "height": 52
        },
        "outputId": "1d5ed8e2-4ccb-44a2-c29b-628c5db2415d"
      },
      "source": [
        "#load best model\n",
        "print('Loading best model...')\n",
        "RoBERTa.load_weights(f\"best_model.h5\")\n",
        "print('Best model loaded')"
      ],
      "execution_count": 25,
      "outputs": [
        {
          "output_type": "stream",
          "text": [
            "Loading best model...\n",
            "Best model loaded\n"
          ],
          "name": "stdout"
        }
      ]
    },
    {
      "cell_type": "code",
      "metadata": {
        "trusted": true,
        "id": "BX7tNfSgyfqL",
        "colab_type": "code",
        "colab": {
          "base_uri": "https://localhost:8080/",
          "height": 72
        },
        "outputId": "05e13666-0a5e-4a52-ffce-7f1ee31cc4fa"
      },
      "source": [
        "from sklearn.metrics import accuracy_score\n",
        "\n",
        "#get CSV file again\n",
        "train = pd.read_csv(\"train.csv\")\n",
        "\n",
        "#re encode and all that\n",
        "train_text = train[['premise', 'hypothesis']].values.tolist()\n",
        "train_enc = TOKENIZER.batch_encode_plus(\n",
        "    train_text,\n",
        "    pad_to_max_length = True,\n",
        "    max_length = MAX_LEN\n",
        ")\n",
        "\n",
        "\n",
        "#tokenize our text here\n",
        "#will functionize these later\n",
        "train_enc = TOKENIZER.batch_encode_plus(\n",
        "    train_text,\n",
        "    pad_to_max_length = True,\n",
        "    max_length = MAX_LEN\n",
        ")\n",
        "\n",
        "\n",
        "#convert train dataset to tf.data.Dataset format\n",
        "train_ds = (\n",
        "    tf.data.Dataset\n",
        "    .from_tensor_slices(train_enc['input_ids'])\n",
        "    .batch(BATCH_SIZE)\n",
        ")"
      ],
      "execution_count": 26,
      "outputs": [
        {
          "output_type": "stream",
          "text": [
            "WARNING:transformers.tokenization_utils_base:Truncation was not explicitely activated but `max_length` is provided a specific value, please use `truncation=True` to explicitely truncate examples to max length. Defaulting to 'longest_first' truncation strategy. If you encode pairs of sequences (GLUE-style) with the tokenizer you can select this strategy more precisely by providing a specific strategy to `truncation`.\n",
            "WARNING:transformers.tokenization_utils_base:Truncation was not explicitely activated but `max_length` is provided a specific value, please use `truncation=True` to explicitely truncate examples to max length. Defaulting to 'longest_first' truncation strategy. If you encode pairs of sequences (GLUE-style) with the tokenizer you can select this strategy more precisely by providing a specific strategy to `truncation`.\n"
          ],
          "name": "stderr"
        }
      ]
    },
    {
      "cell_type": "markdown",
      "metadata": {
        "id": "9ED2LtAAyfqM",
        "colab_type": "text"
      },
      "source": [
        "# Test Time Augmentation\n",
        "\n",
        "**Here we will experiment with test time augmentation by predicting on our 3 separate test datasets and then averaging the results**"
      ]
    },
    {
      "cell_type": "code",
      "metadata": {
        "trusted": true,
        "id": "0ZzfK0wVyfqM",
        "colab_type": "code",
        "colab": {
          "base_uri": "https://localhost:8080/",
          "height": 215
        },
        "outputId": "9fbb2356-49bf-4532-bb7f-7d121a95f9f1"
      },
      "source": [
        "#get external augmented test sets\n",
        "test_aug = pd.read_csv('translation_aug_test.csv')\n",
        "test_twice_aug = pd.read_csv('twice_translated_aug_test.csv')\n",
        "\n",
        "#compare different datasets\n",
        "print(test.shape)\n",
        "test.head()"
      ],
      "execution_count": 27,
      "outputs": [
        {
          "output_type": "stream",
          "text": [
            "(5195, 5)\n"
          ],
          "name": "stdout"
        },
        {
          "output_type": "execute_result",
          "data": {
            "text/html": [
              "<div>\n",
              "<style scoped>\n",
              "    .dataframe tbody tr th:only-of-type {\n",
              "        vertical-align: middle;\n",
              "    }\n",
              "\n",
              "    .dataframe tbody tr th {\n",
              "        vertical-align: top;\n",
              "    }\n",
              "\n",
              "    .dataframe thead th {\n",
              "        text-align: right;\n",
              "    }\n",
              "</style>\n",
              "<table border=\"1\" class=\"dataframe\">\n",
              "  <thead>\n",
              "    <tr style=\"text-align: right;\">\n",
              "      <th></th>\n",
              "      <th>id</th>\n",
              "      <th>premise</th>\n",
              "      <th>hypothesis</th>\n",
              "      <th>lang_abv</th>\n",
              "      <th>language</th>\n",
              "    </tr>\n",
              "  </thead>\n",
              "  <tbody>\n",
              "    <tr>\n",
              "      <th>0</th>\n",
              "      <td>c6d58c3f69</td>\n",
              "      <td>بکس، کیسی، راہیل، یسعیاہ، کیلی، کیلی، اور کولم...</td>\n",
              "      <td>کیسی کے لئے کوئی یادگار نہیں ہوگا, کولمین ہائی...</td>\n",
              "      <td>ur</td>\n",
              "      <td>Urdu</td>\n",
              "    </tr>\n",
              "    <tr>\n",
              "      <th>1</th>\n",
              "      <td>cefcc82292</td>\n",
              "      <td>هذا هو ما تم نصحنا به.</td>\n",
              "      <td>عندما يتم إخبارهم بما يجب عليهم فعله ، فشلت ال...</td>\n",
              "      <td>ar</td>\n",
              "      <td>Arabic</td>\n",
              "    </tr>\n",
              "    <tr>\n",
              "      <th>2</th>\n",
              "      <td>e98005252c</td>\n",
              "      <td>et cela est en grande partie dû au fait que le...</td>\n",
              "      <td>Les mères se droguent.</td>\n",
              "      <td>fr</td>\n",
              "      <td>French</td>\n",
              "    </tr>\n",
              "    <tr>\n",
              "      <th>3</th>\n",
              "      <td>58518c10ba</td>\n",
              "      <td>与城市及其他公民及社区组织代表就IMA的艺术发展进行对话&amp;amp</td>\n",
              "      <td>IMA与其他组织合作，因为它们都依靠共享资金。</td>\n",
              "      <td>zh</td>\n",
              "      <td>Chinese</td>\n",
              "    </tr>\n",
              "    <tr>\n",
              "      <th>4</th>\n",
              "      <td>c32b0d16df</td>\n",
              "      <td>Она все еще была там.</td>\n",
              "      <td>Мы думали, что она ушла, однако, она осталась.</td>\n",
              "      <td>ru</td>\n",
              "      <td>Russian</td>\n",
              "    </tr>\n",
              "  </tbody>\n",
              "</table>\n",
              "</div>"
            ],
            "text/plain": [
              "           id  ... language\n",
              "0  c6d58c3f69  ...     Urdu\n",
              "1  cefcc82292  ...   Arabic\n",
              "2  e98005252c  ...   French\n",
              "3  58518c10ba  ...  Chinese\n",
              "4  c32b0d16df  ...  Russian\n",
              "\n",
              "[5 rows x 5 columns]"
            ]
          },
          "metadata": {
            "tags": []
          },
          "execution_count": 27
        }
      ]
    },
    {
      "cell_type": "code",
      "metadata": {
        "trusted": true,
        "id": "ukBVOcuKyfqO",
        "colab_type": "code",
        "colab": {
          "base_uri": "https://localhost:8080/",
          "height": 215
        },
        "outputId": "76ed21c3-b00b-4687-b9c7-6e81fb43a466"
      },
      "source": [
        "#view augmented\n",
        "print(test_aug.shape)\n",
        "test_aug.head()"
      ],
      "execution_count": 28,
      "outputs": [
        {
          "output_type": "stream",
          "text": [
            "(5195, 5)\n"
          ],
          "name": "stdout"
        },
        {
          "output_type": "execute_result",
          "data": {
            "text/html": [
              "<div>\n",
              "<style scoped>\n",
              "    .dataframe tbody tr th:only-of-type {\n",
              "        vertical-align: middle;\n",
              "    }\n",
              "\n",
              "    .dataframe tbody tr th {\n",
              "        vertical-align: top;\n",
              "    }\n",
              "\n",
              "    .dataframe thead th {\n",
              "        text-align: right;\n",
              "    }\n",
              "</style>\n",
              "<table border=\"1\" class=\"dataframe\">\n",
              "  <thead>\n",
              "    <tr style=\"text-align: right;\">\n",
              "      <th></th>\n",
              "      <th>id</th>\n",
              "      <th>premise</th>\n",
              "      <th>hypothesis</th>\n",
              "      <th>lang_abv</th>\n",
              "      <th>language</th>\n",
              "    </tr>\n",
              "  </thead>\n",
              "  <tbody>\n",
              "    <tr>\n",
              "      <th>0</th>\n",
              "      <td>c6d58c3f69</td>\n",
              "      <td>باکسز کا نام باکس ، کیسی ، راچیل ، یسعیاہ ، کی...</td>\n",
              "      <td>کولمین ہائی اسکول کے ایک طالب علم کیسی کو کوئی...</td>\n",
              "      <td>ur</td>\n",
              "      <td>Urdu</td>\n",
              "    </tr>\n",
              "    <tr>\n",
              "      <th>1</th>\n",
              "      <td>cefcc82292</td>\n",
              "      <td>هذا نصح لنا.</td>\n",
              "      <td>عندما يتم إخبارنا بما يجب القيام به ، لا تسمح ...</td>\n",
              "      <td>ar</td>\n",
              "      <td>Arabic</td>\n",
              "    </tr>\n",
              "    <tr>\n",
              "      <th>2</th>\n",
              "      <td>e98005252c</td>\n",
              "      <td>Et la raison la plus probable est due au fait ...</td>\n",
              "      <td>La mère se drogue.</td>\n",
              "      <td>fr</td>\n",
              "      <td>French</td>\n",
              "    </tr>\n",
              "    <tr>\n",
              "      <th>3</th>\n",
              "      <td>58518c10ba</td>\n",
              "      <td>与城市及其他公民及社区组织代表就IMA的艺术发展进行对话&amp;amp</td>\n",
              "      <td>IMA与其他组织合作，因为它们都依靠共享资金。</td>\n",
              "      <td>zh</td>\n",
              "      <td>Chinese</td>\n",
              "    </tr>\n",
              "    <tr>\n",
              "      <th>4</th>\n",
              "      <td>c32b0d16df</td>\n",
              "      <td>Она все еще была там.</td>\n",
              "      <td>Мы думали, что она ушла, но она осталась.</td>\n",
              "      <td>ru</td>\n",
              "      <td>Russian</td>\n",
              "    </tr>\n",
              "  </tbody>\n",
              "</table>\n",
              "</div>"
            ],
            "text/plain": [
              "           id  ... language\n",
              "0  c6d58c3f69  ...     Urdu\n",
              "1  cefcc82292  ...   Arabic\n",
              "2  e98005252c  ...   French\n",
              "3  58518c10ba  ...  Chinese\n",
              "4  c32b0d16df  ...  Russian\n",
              "\n",
              "[5 rows x 5 columns]"
            ]
          },
          "metadata": {
            "tags": []
          },
          "execution_count": 28
        }
      ]
    },
    {
      "cell_type": "code",
      "metadata": {
        "trusted": true,
        "id": "9tJhT5lOyfqQ",
        "colab_type": "code",
        "colab": {
          "base_uri": "https://localhost:8080/",
          "height": 215
        },
        "outputId": "735f0cd9-d95a-49d3-8421-d87f4961aa64"
      },
      "source": [
        "#view twice augmented\n",
        "print(test_twice_aug.shape)\n",
        "test_twice_aug.head()"
      ],
      "execution_count": 29,
      "outputs": [
        {
          "output_type": "stream",
          "text": [
            "(5195, 5)\n"
          ],
          "name": "stdout"
        },
        {
          "output_type": "execute_result",
          "data": {
            "text/html": [
              "<div>\n",
              "<style scoped>\n",
              "    .dataframe tbody tr th:only-of-type {\n",
              "        vertical-align: middle;\n",
              "    }\n",
              "\n",
              "    .dataframe tbody tr th {\n",
              "        vertical-align: top;\n",
              "    }\n",
              "\n",
              "    .dataframe thead th {\n",
              "        text-align: right;\n",
              "    }\n",
              "</style>\n",
              "<table border=\"1\" class=\"dataframe\">\n",
              "  <thead>\n",
              "    <tr style=\"text-align: right;\">\n",
              "      <th></th>\n",
              "      <th>id</th>\n",
              "      <th>premise</th>\n",
              "      <th>hypothesis</th>\n",
              "      <th>lang_abv</th>\n",
              "      <th>language</th>\n",
              "    </tr>\n",
              "  </thead>\n",
              "  <tbody>\n",
              "    <tr>\n",
              "      <th>0</th>\n",
              "      <td>c6d58c3f69</td>\n",
              "      <td>باکسز کا نام باکس ، کیسی ، راچیل ، یسعیاہ ، کی...</td>\n",
              "      <td>کولمین ہائی اسکول کے ایک طالب علم کیسی کو کوئی...</td>\n",
              "      <td>ur</td>\n",
              "      <td>Urdu</td>\n",
              "    </tr>\n",
              "    <tr>\n",
              "      <th>1</th>\n",
              "      <td>cefcc82292</td>\n",
              "      <td>تم نصح هذا لنا.</td>\n",
              "      <td>عندما يتم إخبارنا بما يجب القيام به ، لا تسمح ...</td>\n",
              "      <td>ar</td>\n",
              "      <td>Arabic</td>\n",
              "    </tr>\n",
              "    <tr>\n",
              "      <th>2</th>\n",
              "      <td>e98005252c</td>\n",
              "      <td>Et la raison possible est que la mère prend le...</td>\n",
              "      <td>Mère prend de la drogue.</td>\n",
              "      <td>fr</td>\n",
              "      <td>French</td>\n",
              "    </tr>\n",
              "    <tr>\n",
              "      <th>3</th>\n",
              "      <td>58518c10ba</td>\n",
              "      <td>与城市及其他公民及社区组织代表就IMA的艺术发展进行对话&amp;amp</td>\n",
              "      <td>IMA与其他组织合作，因为它们都依靠共享资金。</td>\n",
              "      <td>zh</td>\n",
              "      <td>Chinese</td>\n",
              "    </tr>\n",
              "    <tr>\n",
              "      <th>4</th>\n",
              "      <td>c32b0d16df</td>\n",
              "      <td>Она все еще была там.</td>\n",
              "      <td>Мы думали, вы уезжаете, но он остался.</td>\n",
              "      <td>ru</td>\n",
              "      <td>Russian</td>\n",
              "    </tr>\n",
              "  </tbody>\n",
              "</table>\n",
              "</div>"
            ],
            "text/plain": [
              "           id  ... language\n",
              "0  c6d58c3f69  ...     Urdu\n",
              "1  cefcc82292  ...   Arabic\n",
              "2  e98005252c  ...   French\n",
              "3  58518c10ba  ...  Chinese\n",
              "4  c32b0d16df  ...  Russian\n",
              "\n",
              "[5 rows x 5 columns]"
            ]
          },
          "metadata": {
            "tags": []
          },
          "execution_count": 29
        }
      ]
    },
    {
      "cell_type": "code",
      "metadata": {
        "trusted": true,
        "id": "ku9Ld8A5yfqS",
        "colab_type": "code",
        "colab": {
          "base_uri": "https://localhost:8080/",
          "height": 72
        },
        "outputId": "36f7c6f9-d588-4d77-8b3c-30c156af1372"
      },
      "source": [
        "#select relevant columns\n",
        "test_aug_text = test[['premise', 'hypothesis']].values.tolist()\n",
        "test_twice_aug_text = test[['premise', 'hypothesis']].values.tolist()\n",
        "\n",
        "#encode \n",
        "test_aug_enc = TOKENIZER.batch_encode_plus(\n",
        "    test_aug_text,\n",
        "    pad_to_max_length = True,\n",
        "    max_length = MAX_LEN\n",
        ")\n",
        "\n",
        "test_twice_aug_enc = TOKENIZER.batch_encode_plus(\n",
        "    test_twice_aug_text,\n",
        "    pad_to_max_length = True,\n",
        "    max_length = MAX_LEN\n",
        ")\n",
        "\n",
        "\n",
        "#convert to tf.data.Dataset format\n",
        "test_aug_ds = (\n",
        "    tf.data.Dataset\n",
        "    .from_tensor_slices(test_aug_enc['input_ids'])\n",
        "    .batch(BATCH_SIZE)\n",
        ")\n",
        "\n",
        "\n",
        "test_twice_aug_ds = (\n",
        "    tf.data.Dataset\n",
        "    .from_tensor_slices(test_twice_aug_enc['input_ids'])\n",
        "    .batch(BATCH_SIZE)\n",
        ")"
      ],
      "execution_count": 30,
      "outputs": [
        {
          "output_type": "stream",
          "text": [
            "WARNING:transformers.tokenization_utils_base:Truncation was not explicitely activated but `max_length` is provided a specific value, please use `truncation=True` to explicitely truncate examples to max length. Defaulting to 'longest_first' truncation strategy. If you encode pairs of sequences (GLUE-style) with the tokenizer you can select this strategy more precisely by providing a specific strategy to `truncation`.\n",
            "WARNING:transformers.tokenization_utils_base:Truncation was not explicitely activated but `max_length` is provided a specific value, please use `truncation=True` to explicitely truncate examples to max length. Defaulting to 'longest_first' truncation strategy. If you encode pairs of sequences (GLUE-style) with the tokenizer you can select this strategy more precisely by providing a specific strategy to `truncation`.\n"
          ],
          "name": "stderr"
        }
      ]
    },
    {
      "cell_type": "code",
      "metadata": {
        "trusted": true,
        "id": "nQKIy-AmyfqT",
        "colab_type": "code",
        "colab": {}
      },
      "source": [
        "#finally, get all predictions\n",
        "preds =  RoBERTa.predict(test_ds)\n",
        "preds_aug = RoBERTa.predict(test_aug_ds)\n",
        "preds_twice_aug = RoBERTa.predict(test_twice_aug_ds)\n",
        "\n",
        "#and blend predictions equally\n",
        "blended_preds = (preds + preds_aug + preds_twice_aug)/3"
      ],
      "execution_count": 31,
      "outputs": []
    },
    {
      "cell_type": "code",
      "metadata": {
        "trusted": true,
        "id": "xcKewY66K-O1",
        "colab_type": "code",
        "colab": {
          "base_uri": "https://localhost:8080/",
          "height": 347
        },
        "outputId": "6de7d6ad-b15f-4db2-f1ec-586a2a187c8a"
      },
      "source": [
        "#create submission dataframe and save\n",
        "submission = pd.DataFrame()\n",
        "submission['id'] = test['id']\n",
        "submission['preds'] = preds.argmax(axis = 1)\n",
        "submission['preds aug'] = preds_aug.argmax(axis = 1)\n",
        "submission['preds twice aug'] = preds_twice_aug.argmax(axis = 1)\n",
        "\n",
        "#choose blended predictions as final predictions\n",
        "submission['prediction'] = blended_preds.argmax(axis = 1)\n",
        "submission.head(10)"
      ],
      "execution_count": 32,
      "outputs": [
        {
          "output_type": "execute_result",
          "data": {
            "text/html": [
              "<div>\n",
              "<style scoped>\n",
              "    .dataframe tbody tr th:only-of-type {\n",
              "        vertical-align: middle;\n",
              "    }\n",
              "\n",
              "    .dataframe tbody tr th {\n",
              "        vertical-align: top;\n",
              "    }\n",
              "\n",
              "    .dataframe thead th {\n",
              "        text-align: right;\n",
              "    }\n",
              "</style>\n",
              "<table border=\"1\" class=\"dataframe\">\n",
              "  <thead>\n",
              "    <tr style=\"text-align: right;\">\n",
              "      <th></th>\n",
              "      <th>id</th>\n",
              "      <th>preds</th>\n",
              "      <th>preds aug</th>\n",
              "      <th>preds twice aug</th>\n",
              "      <th>prediction</th>\n",
              "    </tr>\n",
              "  </thead>\n",
              "  <tbody>\n",
              "    <tr>\n",
              "      <th>0</th>\n",
              "      <td>c6d58c3f69</td>\n",
              "      <td>2</td>\n",
              "      <td>2</td>\n",
              "      <td>2</td>\n",
              "      <td>2</td>\n",
              "    </tr>\n",
              "    <tr>\n",
              "      <th>1</th>\n",
              "      <td>cefcc82292</td>\n",
              "      <td>2</td>\n",
              "      <td>2</td>\n",
              "      <td>2</td>\n",
              "      <td>2</td>\n",
              "    </tr>\n",
              "    <tr>\n",
              "      <th>2</th>\n",
              "      <td>e98005252c</td>\n",
              "      <td>0</td>\n",
              "      <td>0</td>\n",
              "      <td>0</td>\n",
              "      <td>0</td>\n",
              "    </tr>\n",
              "    <tr>\n",
              "      <th>3</th>\n",
              "      <td>58518c10ba</td>\n",
              "      <td>1</td>\n",
              "      <td>1</td>\n",
              "      <td>1</td>\n",
              "      <td>1</td>\n",
              "    </tr>\n",
              "    <tr>\n",
              "      <th>4</th>\n",
              "      <td>c32b0d16df</td>\n",
              "      <td>0</td>\n",
              "      <td>0</td>\n",
              "      <td>0</td>\n",
              "      <td>0</td>\n",
              "    </tr>\n",
              "    <tr>\n",
              "      <th>5</th>\n",
              "      <td>aa2510d454</td>\n",
              "      <td>0</td>\n",
              "      <td>0</td>\n",
              "      <td>0</td>\n",
              "      <td>0</td>\n",
              "    </tr>\n",
              "    <tr>\n",
              "      <th>6</th>\n",
              "      <td>865d1c7b16</td>\n",
              "      <td>1</td>\n",
              "      <td>1</td>\n",
              "      <td>1</td>\n",
              "      <td>1</td>\n",
              "    </tr>\n",
              "    <tr>\n",
              "      <th>7</th>\n",
              "      <td>a16f7ed56b</td>\n",
              "      <td>0</td>\n",
              "      <td>0</td>\n",
              "      <td>0</td>\n",
              "      <td>0</td>\n",
              "    </tr>\n",
              "    <tr>\n",
              "      <th>8</th>\n",
              "      <td>6d9fa191e6</td>\n",
              "      <td>0</td>\n",
              "      <td>0</td>\n",
              "      <td>0</td>\n",
              "      <td>0</td>\n",
              "    </tr>\n",
              "    <tr>\n",
              "      <th>9</th>\n",
              "      <td>c156e8fed5</td>\n",
              "      <td>2</td>\n",
              "      <td>2</td>\n",
              "      <td>2</td>\n",
              "      <td>2</td>\n",
              "    </tr>\n",
              "  </tbody>\n",
              "</table>\n",
              "</div>"
            ],
            "text/plain": [
              "           id  preds  preds aug  preds twice aug  prediction\n",
              "0  c6d58c3f69      2          2                2           2\n",
              "1  cefcc82292      2          2                2           2\n",
              "2  e98005252c      0          0                0           0\n",
              "3  58518c10ba      1          1                1           1\n",
              "4  c32b0d16df      0          0                0           0\n",
              "5  aa2510d454      0          0                0           0\n",
              "6  865d1c7b16      1          1                1           1\n",
              "7  a16f7ed56b      0          0                0           0\n",
              "8  6d9fa191e6      0          0                0           0\n",
              "9  c156e8fed5      2          2                2           2"
            ]
          },
          "metadata": {
            "tags": []
          },
          "execution_count": 32
        }
      ]
    },
    {
      "cell_type": "code",
      "metadata": {
        "trusted": true,
        "id": "UMZQx53sK-O3",
        "colab_type": "code",
        "colab": {
          "base_uri": "https://localhost:8080/",
          "height": 34
        },
        "outputId": "7e605f14-3d76-40d6-8c69-10b54fa3fae8"
      },
      "source": [
        "#save submission to disk\n",
        "submission_tta = submission[['id', 'prediction']]\n",
        "\n",
        "#be careful, files submitted must be named 'submission.csv' to submit to comp\n",
        "#and label column must be named 'prediction'\n",
        "submission_tta.to_csv('submission.csv', index =  False)\n",
        "print('Submission saved')"
      ],
      "execution_count": 33,
      "outputs": [
        {
          "output_type": "stream",
          "text": [
            "Submission saved\n"
          ],
          "name": "stdout"
        }
      ]
    }
  ]
}
