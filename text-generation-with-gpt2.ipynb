{
  "nbformat": 4,
  "nbformat_minor": 0,
  "metadata": {
    "kernelspec": {
      "language": "python",
      "display_name": "Python 3",
      "name": "python3"
    },
    "language_info": {
      "pygments_lexer": "ipython3",
      "nbconvert_exporter": "python",
      "version": "3.6.4",
      "file_extension": ".py",
      "codemirror_mode": {
        "name": "ipython",
        "version": 3
      },
      "name": "python",
      "mimetype": "text/x-python"
    },
    "colab": {
      "name": "Text Generation with GPT-2.ipynb",
      "provenance": [],
      "include_colab_link": true
    },
    "accelerator": "GPU"
  },
  "cells": [
    {
      "cell_type": "markdown",
      "metadata": {
        "id": "view-in-github",
        "colab_type": "text"
      },
      "source": [
        "<a href=\"https://colab.research.google.com/github/TuckerArrants/nlp/blob/master/text-generation-with-gpt2.ipynb\" target=\"_parent\"><img src=\"https://colab.research.google.com/assets/colab-badge.svg\" alt=\"Open In Colab\"/></a>"
      ]
    },
    {
      "cell_type": "code",
      "metadata": {
        "trusted": true,
        "id": "VEOwJV_RjVdN",
        "colab_type": "code",
        "colab": {}
      },
      "source": [
        "!pip install --quiet transformers"
      ],
      "execution_count": 1,
      "outputs": []
    },
    {
      "cell_type": "markdown",
      "metadata": {
        "id": "r195oFjQjVdQ",
        "colab_type": "text"
      },
      "source": [
        "# Experimenting with HuggingFace - Text Generation\n",
        "\n",
        "*Author: Tucker Arrants*\n",
        "\n",
        "**I have recently decided to explore the ins and outs of the 😊 Transformers library and this is the next chapter in that journey. In this notebook, I will explore text generation using a GPT-2, which was trained the predict next words on 40GB of Internet text data. The fully trained model is actually not available as the creators were concerned about '[malicious applications of the technology](https://openai.com/blog/better-language-models/)', but there is a much smaller version that is available for enthusiants to play with, which we will use here**\n",
        "\n",
        "**In this notebook, we will explore different decoding methods like Beam search, Top-K sampling, and Top-P sampling, demonstrating their performance along the way. This project is a work in progress and I will continually update it as I learn more about text generation. Feel free to comment with any questions/suggestions:**"
      ]
    },
    {
      "cell_type": "code",
      "metadata": {
        "trusted": true,
        "id": "1Y89gIAfjVdQ",
        "colab_type": "code",
        "colab": {}
      },
      "source": [
        "#for reproducability\n",
        "SEED = 34\n",
        "\n",
        "#maximum number of words in output text\n",
        "MAX_LEN = 50"
      ],
      "execution_count": 2,
      "outputs": []
    },
    {
      "cell_type": "markdown",
      "metadata": {
        "id": "_S1DPcDDjVdT",
        "colab_type": "text"
      },
      "source": [
        "# I. Intro\n",
        "\n",
        "**A language model is a machine learning model that can look at part of a sentence and predict the next word/sequence of words. Much like the autofill features on your iPhone/Android, GPT-2 is capable of next word prediction on a much larger and more sophisticated scale. For reference, the smallest available GPT-2 has 117 million parameters, whereas the largest one (invisible to the public) has over 1.5 billion parameters. The largest one available for public use is half the size of their main GPT-2 model**\n",
        "\n",
        "**😊 Transformers makes it very easy to import this model with both PyTorch and TensorFlow - in this notebook we will be using TensorFlow but it is just as easy in PyTorch. Both the model and its Tokenizer can be imported from the `transformers` library that anyone can get by typing `!pip install transformers`. Let's see just how simple it is to generate text with a neural network. We begin with our input sequence:**"
      ]
    },
    {
      "cell_type": "code",
      "metadata": {
        "trusted": true,
        "id": "UH5tK-6IjVdT",
        "colab_type": "code",
        "colab": {}
      },
      "source": [
        "input_sequence = \"The Patriots are the best football team in America.\""
      ],
      "execution_count": 3,
      "outputs": []
    },
    {
      "cell_type": "markdown",
      "metadata": {
        "id": "aXf3koLzjVdV",
        "colab_type": "text"
      },
      "source": [
        "**We will choose the largest available GPT-2 model but it is easy to install the other sizes if you want to mess around with them:**"
      ]
    },
    {
      "cell_type": "code",
      "metadata": {
        "trusted": true,
        "id": "YIT2Buy5jVdW",
        "colab_type": "code",
        "colab": {
          "base_uri": "https://localhost:8080/",
          "height": 265
        },
        "outputId": "57fdb071-a372-4a40-d001-6bbcc6d77dd1"
      },
      "source": [
        "#get transformers\n",
        "from transformers import TFGPT2LMHeadModel, GPT2Tokenizer\n",
        "\n",
        "#get large GPT2 tokenizer and GPT2 model\n",
        "tokenizer = GPT2Tokenizer.from_pretrained(\"gpt2-large\")\n",
        "GPT2 = TFGPT2LMHeadModel.from_pretrained(\"gpt2-large\", pad_token_id=tokenizer.eos_token_id)\n",
        "\n",
        "#tokenizer = GPT2Tokenizer.from_pretrained(\"gpt2-medium\")\n",
        "#GPT2 = TFGPT2LMHeadModel.from_pretrained(\"gpt2-medium\", pad_token_id=tokenizer.eos_token_id)\n",
        "\n",
        "#tokenizer = GPT2Tokenizer.from_pretrained(\"gpt2\")\n",
        "#GPT2 = TFGPT2LMHeadModel.from_pretrained(\"gpt2\", pad_token_id=tokenizer.eos_token_id)\n",
        "\n",
        "#view model parameters\n",
        "GPT2.summary()"
      ],
      "execution_count": 4,
      "outputs": [
        {
          "output_type": "stream",
          "text": [
            "All model checkpoint weights were used when initializing TFGPT2LMHeadModel.\n",
            "\n",
            "All the weights of TFGPT2LMHeadModel were initialized from the model checkpoint at gpt2-large.\n",
            "If your task is similar to the task the model of the ckeckpoint was trained on, you can already use TFGPT2LMHeadModel for predictions without further training.\n"
          ],
          "name": "stderr"
        },
        {
          "output_type": "stream",
          "text": [
            "Model: \"tfgp_t2lm_head_model\"\n",
            "_________________________________________________________________\n",
            "Layer (type)                 Output Shape              Param #   \n",
            "=================================================================\n",
            "transformer (TFGPT2MainLayer multiple                  774030080 \n",
            "=================================================================\n",
            "Total params: 774,030,080\n",
            "Trainable params: 774,030,080\n",
            "Non-trainable params: 0\n",
            "_________________________________________________________________\n"
          ],
          "name": "stdout"
        }
      ]
    },
    {
      "cell_type": "markdown",
      "metadata": {
        "id": "n5FRRlBfjVdY",
        "colab_type": "text"
      },
      "source": [
        "**Wow, we just imported a deep learning model with more than 774 million parameters in just a couple lines of code with HuggingFace. Now let's see what we can do with it:**"
      ]
    },
    {
      "cell_type": "markdown",
      "metadata": {
        "id": "GQapql1pjVdY",
        "colab_type": "text"
      },
      "source": [
        "# II. Different Decoding Methods\n",
        "\n",
        "## First Pass (Greedy Search)\n",
        "\n",
        "**With Greedy search, the word with the highest probability is predicted as the next word i.e. the next word is updated via:**\n",
        "\n",
        "$$w_t = argmax_{w}P(w | w_{1:t-1})$$\n",
        "\n",
        "**at each timestep $t$. Let's see how this naive approach performs:**"
      ]
    },
    {
      "cell_type": "code",
      "metadata": {
        "trusted": true,
        "id": "7tU9S8CRjVdZ",
        "colab_type": "code",
        "colab": {}
      },
      "source": [
        "#get deep learning basics\n",
        "import tensorflow as tf\n",
        "tf.random.set_seed(SEED)"
      ],
      "execution_count": 5,
      "outputs": []
    },
    {
      "cell_type": "code",
      "metadata": {
        "trusted": true,
        "id": "qvISzSg_jVdb",
        "colab_type": "code",
        "colab": {
          "base_uri": "https://localhost:8080/",
          "height": 90
        },
        "outputId": "d98dd2c5-f4b9-4b29-da59-fafba5a57502"
      },
      "source": [
        "# encode context the generation is conditioned on\n",
        "input_ids = tokenizer.encode(input_sequence, return_tensors='tf')\n",
        "\n",
        "# generate text until the output length (which includes the context length) reaches 50\n",
        "greedy_output = GPT2.generate(input_ids, max_length = MAX_LEN)\n",
        "\n",
        "print(\"Output:\\n\" + 100 * '-')\n",
        "print(tokenizer.decode(greedy_output[0], skip_special_tokens = True))"
      ],
      "execution_count": 6,
      "outputs": [
        {
          "output_type": "stream",
          "text": [
            "Output:\n",
            "----------------------------------------------------------------------------------------------------\n",
            "The Patriots are the best football team in America. They are the best team in the NFL. They are the best team in the world. They are the best team in the world. They are the best team in the world. They are the best\n"
          ],
          "name": "stdout"
        }
      ]
    },
    {
      "cell_type": "markdown",
      "metadata": {
        "id": "Si0zHv4ojVdd",
        "colab_type": "text"
      },
      "source": [
        "**And there we go: generating text is that easy. Our results are not great - as we can see, our model starts repeating itself rather quickly. The main issue with Greedy Search is that words with high probabilities can be masked by words in front of them with low probabilities, so the model is unable to explore more diverse combinations of words. We can prevent this by implementing Beam Search:**"
      ]
    },
    {
      "cell_type": "markdown",
      "metadata": {
        "id": "wLQN01EmjVde",
        "colab_type": "text"
      },
      "source": [
        "## Beam Search with N-Gram Penalities\n",
        "\n",
        "**Beam search is essentially Greedy Search but the model tracks and keeps `num_beams` of hypotheses at each time step, so the model is able to compare alternative paths as it generates text. We can also include a n-gram penalty by setting `no_repeat_ngram_size = 2` which ensures that no 2-grams appear twice. We will also set `num_return_sequences = 5` so we can see what the other 5 beams looked like**\n",
        "\n",
        "**To use Beam Search, we need only modify some parameters in the `generate` function:**"
      ]
    },
    {
      "cell_type": "code",
      "metadata": {
        "trusted": true,
        "id": "EfKIlSFfjVde",
        "colab_type": "code",
        "colab": {
          "base_uri": "https://localhost:8080/",
          "height": 336
        },
        "outputId": "9d66d37e-e09e-486c-aa06-e2462794ead8"
      },
      "source": [
        "# set return_num_sequences > 1\n",
        "beam_outputs = GPT2.generate(\n",
        "    input_ids, \n",
        "    max_length = MAX_LEN, \n",
        "    num_beams = 5, \n",
        "    no_repeat_ngram_size = 2, \n",
        "    num_return_sequences = 5, \n",
        "    early_stopping = True\n",
        ")\n",
        "\n",
        "print('')\n",
        "print(\"Output:\\n\" + 100 * '-')\n",
        "\n",
        "# now we have 3 output sequences\n",
        "for i, beam_output in enumerate(beam_outputs):\n",
        "      print(\"{}: {}\".format(i, tokenizer.decode(beam_output, skip_special_tokens=True)))"
      ],
      "execution_count": 7,
      "outputs": [
        {
          "output_type": "stream",
          "text": [
            "\n",
            "Output:\n",
            "----------------------------------------------------------------------------------------------------\n",
            "0: The Patriots are the best football team in America.\n",
            "\n",
            "That's not hyperbole. It's a fact. The Patriots have won three Super Bowls in the last five years. They've won the AFC East four times, the NFC East once\n",
            "1: The Patriots are the best football team in America.\n",
            "\n",
            "That's not hyperbole. It's a fact. The Patriots have won three Super Bowls in the last five years. They've won the AFC East four times, the NFC East twice\n",
            "2: The Patriots are the best football team in America.\n",
            "\n",
            "That's not hyperbole. It's a fact. The Patriots have won three Super Bowls in the last five years. They've won the AFC East four times in that span, and\n",
            "3: The Patriots are the best football team in America.\n",
            "\n",
            "That's not hyperbole. It's a fact. The Patriots have won three Super Bowls in the last five years. They've won the AFC East four times, the NFC East three\n",
            "4: The Patriots are the best football team in America.\n",
            "\n",
            "That's not hyperbole. It's a fact. The Patriots have won three Super Bowls in the last five years. They've won the AFC East four times in that span. And\n"
          ],
          "name": "stdout"
        }
      ]
    },
    {
      "cell_type": "markdown",
      "metadata": {
        "id": "IjDJxpD0jVdg",
        "colab_type": "text"
      },
      "source": [
        "**Now that's much better! The 5 different beam hypotheses are pretty much all the same, but if we increaed `num_beams`, then we would see some more variation in the separate beams. But of course, Beam Search is not perfect either. It works well when the legnth of the generated text is more or less constant, like problems in translation or summarization, but not so much for open-ended problems like dialog or story generation (because it is much harder to find a balance between `num_beams` and `no_repeat_ngram_size`)**\n",
        "\n",
        "**Furthermore, [research](https://arxiv.org/abs/1904.09751) shows that human languages do not follow this 'high probability word next' distribution. This makes sense - if my words were exactly what you expected them to be, I would be quite a boring person and most people don't want to be boring! The below graph plots the difference of Beam Search and actual human speech: ![alt text](https://blog.fastforwardlabs.com/images/2019/05/Screen_Shot_2019_05_08_at_3_06_36_PM-1557342561886.png)**\n",
        "\n",
        "Taken from original paper [here](https://arxiv.org/abs/1904.09751)"
      ]
    },
    {
      "cell_type": "markdown",
      "metadata": {
        "id": "-OOQ_eOejVdg",
        "colab_type": "text"
      },
      "source": [
        "## Basic Sampling\n",
        "\n",
        "**Now we will explore indeterministic decodings - sampling. Instead of following a strict path to find the end text with the highest probability, we instead randomly pick the next word by its conditional probability distribution:**\n",
        "\n",
        "$$w_t \\sim P(w|w_{1:t-1})$$\n",
        "\n",
        "**However, when we include this randomness, the generated text tends to be incoherent (see more [here](https://arxiv.org/pdf/1904.09751.pdf)) so we can include the `temperature` parameter which increases the chances of high probability words and decreases the chances of low probability words in the sampling:**\n",
        "\n",
        "**We just need to set `do_sample = True` to implement sampling and for demonstration purposes (you'll shortly see why) we set `top_k = 0`:**"
      ]
    },
    {
      "cell_type": "code",
      "metadata": {
        "trusted": true,
        "id": "Iuiq6BSbjVdg",
        "colab_type": "code",
        "colab": {
          "base_uri": "https://localhost:8080/",
          "height": 105
        },
        "outputId": "8c8bbc72-449f-40f0-f183-67b53ee14a68"
      },
      "source": [
        "# use temperature to decrease the sensitivity to low probability candidates\n",
        "sample_output = GPT2.generate(\n",
        "                             input_ids, \n",
        "                             do_sample = True, \n",
        "                             max_length = MAX_LEN, \n",
        "                             top_k = 0, \n",
        "                             temperature = 0.8\n",
        ")\n",
        "\n",
        "print(\"Output:\\n\" + 100 * '-')\n",
        "print(tokenizer.decode(sample_output[0], skip_special_tokens = True))"
      ],
      "execution_count": 8,
      "outputs": [
        {
          "output_type": "stream",
          "text": [
            "Output:\n",
            "----------------------------------------------------------------------------------------------------\n",
            "The Patriots are the best football team in America. They're 1-0. They've got a guy named Tom Brady, and Tom Brady knocked out the best quarterback in the NFL. Nothing else matters.\n",
            "\n",
            "The Patriots are not going to lose\n"
          ],
          "name": "stdout"
        }
      ]
    },
    {
      "cell_type": "markdown",
      "metadata": {
        "id": "9tseihZnjVdi",
        "colab_type": "text"
      },
      "source": [
        "## Top-K Sampling\n",
        "\n",
        "**In Top-K sampling, the top k most likely next words are selected and the entire probability mass is shifted to these k words. So instead of increasing the chances of high probability words occuring and decreasing the chances of low probabillity words, we just remove low probability words all together**\n",
        "\n",
        "**We just need to set `top_k` to however many of the top words we want to consider for our conditional probability distribution:**"
      ]
    },
    {
      "cell_type": "code",
      "metadata": {
        "trusted": true,
        "id": "K-68AIi3jVdj",
        "colab_type": "code",
        "colab": {
          "base_uri": "https://localhost:8080/",
          "height": 90
        },
        "outputId": "0d7fdcc3-460a-4613-903f-3f8d2ddfc1cb"
      },
      "source": [
        "#sample from only top_k most likely words\n",
        "sample_output = GPT2.generate(\n",
        "                             input_ids, \n",
        "                             do_sample = True, \n",
        "                             max_length = MAX_LEN, \n",
        "                             top_k = 50\n",
        ")\n",
        "\n",
        "print(\"Output:\\n\" + 100 * '-')\n",
        "print(tokenizer.decode(sample_output[0], skip_special_tokens = True), '...')"
      ],
      "execution_count": 9,
      "outputs": [
        {
          "output_type": "stream",
          "text": [
            "Output:\n",
            "----------------------------------------------------------------------------------------------------\n",
            "The Patriots are the best football team in America. They've won Super Bowls. They have an amazing quarterback, probably the toughest and oldest in the league, and the best and most innovative practice facility in the league. They have an unbelievable running back ...\n"
          ],
          "name": "stdout"
        }
      ]
    },
    {
      "cell_type": "markdown",
      "metadata": {
        "id": "Mz7mog9xjVdk",
        "colab_type": "text"
      },
      "source": [
        "**Top-K Sampling seems to generate more coherent text than our random sampling before. But we can do even better:**"
      ]
    },
    {
      "cell_type": "markdown",
      "metadata": {
        "id": "LbVDjsa3jVdl",
        "colab_type": "text"
      },
      "source": [
        "## Top-P Sampling\n",
        "\n",
        "**Top-P sampling (also known as nucleus sampling) is similar to Top-K, but instead of choosing the top k most likely wordsm we choose the smallest set of words whose total probability is larger than p, and then the entire probability mass is shifted to the words in this set**\n",
        "\n",
        "**The main difference here is that with Top-K sampling, the size of the set of words is static (obviously) whereas in Top-P sampling, the size of the set can change. To use this sampling method, we just set `top_k = 0` and choose a value `top_p`:**"
      ]
    },
    {
      "cell_type": "code",
      "metadata": {
        "trusted": true,
        "id": "lutPCp-TjVdl",
        "colab_type": "code",
        "colab": {
          "base_uri": "https://localhost:8080/",
          "height": 105
        },
        "outputId": "dc95db8f-6d7f-44c9-bdbf-8760e066e367"
      },
      "source": [
        "#sample only from 80% most likely words\n",
        "sample_output = GPT2.generate(\n",
        "                             input_ids, \n",
        "                             do_sample = True, \n",
        "                             max_length = MAX_LEN, \n",
        "                             top_p = 0.8, \n",
        "                             top_k = 0\n",
        ")\n",
        "\n",
        "print(\"Output:\\n\" + 100 * '-')\n",
        "print(tokenizer.decode(sample_output[0], skip_special_tokens = True), '...')"
      ],
      "execution_count": 10,
      "outputs": [
        {
          "output_type": "stream",
          "text": [
            "Output:\n",
            "----------------------------------------------------------------------------------------------------\n",
            "The Patriots are the best football team in America. They're #1! Here's why: The 2013 Patriots were a weird team, and they really should be banned from future playoff games.\n",
            "\n",
            "We're going to compare the 2013 Patriots to a ...\n"
          ],
          "name": "stdout"
        }
      ]
    },
    {
      "cell_type": "markdown",
      "metadata": {
        "id": "Cb3lsGjtjVdn",
        "colab_type": "text"
      },
      "source": [
        "## Top-K and Top-P Sampling\n",
        "\n",
        "**As you could have probably guessed, we can use both Top-K and Top-P sampling here. This reduces the chances of us getting weird words (low probability words) while allowing for a dynamic selection size. We need only top a value for both `top_k` and `top_p`. We can even include the inital temperature parameter if we want to, Let's now see how our model performs now after adding everything together. We will check the top 5 return to see how diverse our answers are:**"
      ]
    },
    {
      "cell_type": "code",
      "metadata": {
        "trusted": true,
        "id": "97pHqJvUjVdo",
        "colab_type": "code",
        "colab": {
          "base_uri": "https://localhost:8080/",
          "height": 907
        },
        "outputId": "08e3b3c9-b1ef-4ce9-8668-8073c4c540d8"
      },
      "source": [
        "#combine both sampling techniques\n",
        "sample_outputs = GPT2.generate(\n",
        "                              input_ids,\n",
        "                              do_sample = True, \n",
        "                              max_length = 2*MAX_LEN,                              #to test how long we can generate and it be coherent\n",
        "                              #temperature = .7,\n",
        "                              top_k = 50, \n",
        "                              top_p = 0.85, \n",
        "                              num_return_sequences = 5\n",
        ")\n",
        "\n",
        "print(\"Output:\\n\" + 100 * '-')\n",
        "for i, sample_output in enumerate(sample_outputs):\n",
        "    print(\"{}: {}...\".format(i, tokenizer.decode(sample_output, skip_special_tokens = True)))\n",
        "    print('')"
      ],
      "execution_count": 11,
      "outputs": [
        {
          "output_type": "stream",
          "text": [
            "Output:\n",
            "----------------------------------------------------------------------------------------------------\n",
            "0: The Patriots are the best football team in America. It has been said and done, New England is the only team in the NFL that is truly dominant.\"\n",
            "\n",
            "\n",
            "And then he added the following: \"To be honest with you, that's true, but they're not dominant. So, I don't get to compare them to teams like the Falcons, 49ers, 49ers again, Panthers or Cardinals. And we will win the Super Bowl, but it will be because the Patriots are just...\n",
            "\n",
            "1: The Patriots are the best football team in America.\n",
            "\n",
            "The Steelers were the worst.\n",
            "\n",
            "I can think of a few things that would have been a lot better.\n",
            "\n",
            "The best Super Bowl comeback of the Super Bowl era (not that I'm saying that for a lot of reasons).\n",
            "\n",
            "The best Super Bowl win by an NFL team.\n",
            "\n",
            "The best game of the Super Bowl era (no, seriously, Super Bowl X was the best game ever, even though it was...\n",
            "\n",
            "2: The Patriots are the best football team in America. It's the Patriots way, and it's the Patriots way only.\n",
            "\n",
            "It's an attitude I learned from my mother and my grandfather, who both grew up in South Carolina, who raised me as a tough guy and a leader. It's what they taught me. It's the Patriots way, and I can't think of a better way to put it.\n",
            "\n",
            "I have to say, though, that I think there is something special...\n",
            "\n",
            "3: The Patriots are the best football team in America. That's the reality. The league needs to change, and I think that's what we've seen with the changes they've made.\"\n",
            "\n",
            "There is nothing to like about the Patriots, who finished 3-13 in 2015. They were one of two teams with losing records last year. That makes the Patriots' current situation all the more frustrating.\n",
            "\n",
            "In their third year under new coach Bill Belichick, the Patriots have played better than anyone thought...\n",
            "\n",
            "4: The Patriots are the best football team in America.\n",
            "\n",
            "The Patriots are the best football team in America.\n",
            "\n",
            "This week's top five:\n",
            "\n",
            "1. New England Patriots\n",
            "\n",
            "2. Pittsburgh Steelers\n",
            "\n",
            "3. Kansas City Chiefs\n",
            "\n",
            "4. Denver Broncos\n",
            "\n",
            "5. New Orleans Saints\n",
            "\n",
            "I have a lot of questions about this team, but I'm not convinced they're the greatest team in America. They're certainly a good football team, and I like that...\n",
            "\n"
          ],
          "name": "stdout"
        }
      ]
    },
    {
      "cell_type": "markdown",
      "metadata": {
        "id": "2l-MJQq0jVdp",
        "colab_type": "text"
      },
      "source": [
        "# III. Benchmark Prompts\n",
        "\n",
        "**Here, we will see how well the GPT-2 model does when given some more interesting inputs. The following prompts are taken from [OpenAI's GPT2](https://openai.com/blog/better-language-models/) website where they feed them to their full sized GPT2 model (and the results are astounding, I highly recommend you check out their [page](https://openai.com/)**"
      ]
    },
    {
      "cell_type": "code",
      "metadata": {
        "trusted": true,
        "id": "hYQUvfXCjVds",
        "colab_type": "code",
        "colab": {}
      },
      "source": [
        "MAX_LEN = 100"
      ],
      "execution_count": 12,
      "outputs": []
    },
    {
      "cell_type": "markdown",
      "metadata": {
        "id": "GyjHEKXnjVdu",
        "colab_type": "text"
      },
      "source": [
        "## \"In a shocking finding, scientist discovered a herd of unicorns living in a remote, previously unexplored valley, in the Andes Mountains. Even more surprising to the researchers was the fact that the unicorns spoke perfect English.\""
      ]
    },
    {
      "cell_type": "code",
      "metadata": {
        "trusted": true,
        "id": "B-u47d_XjVdu",
        "colab_type": "code",
        "colab": {}
      },
      "source": [
        "prompt1 = 'In a shocking finding, scientist discovered a herd of unicorns living in a remote, previously unexplored valley, in the Andes Mountains. Even more surprising to the researchers was the fact that the unicorns spoke perfect English.'\n",
        "\n",
        "input_ids = tokenizer.encode(prompt1, return_tensors='tf')"
      ],
      "execution_count": 13,
      "outputs": []
    },
    {
      "cell_type": "code",
      "metadata": {
        "trusted": true,
        "id": "eYgET5wIjVdw",
        "colab_type": "code",
        "colab": {
          "base_uri": "https://localhost:8080/",
          "height": 143
        },
        "outputId": "cb490f63-31a5-40fd-99e3-fb99fc51fd15"
      },
      "source": [
        "sample_outputs = GPT2.generate(\n",
        "                              input_ids,\n",
        "                              do_sample = True, \n",
        "                              max_length = MAX_LEN,                              #to test how long we can generate and it be coherent\n",
        "                              #temperature = .8,\n",
        "                              top_k = 50, \n",
        "                              top_p = 0.85 \n",
        "                              #num_return_sequences = 5\n",
        ")\n",
        "\n",
        "print(\"Output:\\n\" + 100 * '-')\n",
        "for i, sample_output in enumerate(sample_outputs):\n",
        "    print(\"{}: {}...\".format(i, tokenizer.decode(sample_output, skip_special_tokens = True)))\n",
        "    print('')"
      ],
      "execution_count": 14,
      "outputs": [
        {
          "output_type": "stream",
          "text": [
            "Output:\n",
            "----------------------------------------------------------------------------------------------------\n",
            "0: In a shocking finding, scientist discovered a herd of unicorns living in a remote, previously unexplored valley, in the Andes Mountains. Even more surprising to the researchers was the fact that the unicorns spoke perfect English. The research team says that their findings are the first to document an animal language in the Andes, which is a remote and inaccessible mountain range that is only accessible to the occasional explorer or mountain climber.\n",
            "\n",
            "The team, led by Professor Juan Carlos Urrutia...\n",
            "\n"
          ],
          "name": "stdout"
        }
      ]
    },
    {
      "cell_type": "markdown",
      "metadata": {
        "id": "031zayoJjVdy",
        "colab_type": "text"
      },
      "source": [
        "## \"Miley Cyrus was caught shoplifting from Abercrombie and Fitch on Hollywood Boulevard today.\"\n",
        "\n",
        "**Can we use GPT-2 to generate fake news stories?**"
      ]
    },
    {
      "cell_type": "code",
      "metadata": {
        "trusted": true,
        "id": "7bW9pCh7jVdy",
        "colab_type": "code",
        "colab": {}
      },
      "source": [
        "prompt2 = 'Miley Cyrus was caught shoplifting from Abercrombie and Fitch on Hollywood Boulevard today.'\n",
        "\n",
        "input_ids = tokenizer.encode(prompt2, return_tensors='tf')"
      ],
      "execution_count": 15,
      "outputs": []
    },
    {
      "cell_type": "code",
      "metadata": {
        "trusted": true,
        "id": "2I2vDA6ajVd0",
        "colab_type": "code",
        "colab": {
          "base_uri": "https://localhost:8080/",
          "height": 178
        },
        "outputId": "e1762a98-28b4-47af-b391-e8188457cab0"
      },
      "source": [
        "sample_outputs = GPT2.generate(\n",
        "                              input_ids,\n",
        "                              do_sample = True, \n",
        "                              max_length = MAX_LEN,                              #to test how long we can generate and it be coherent\n",
        "                              #temperature = .8,\n",
        "                              top_k = 50, \n",
        "                              top_p = 0.85\n",
        "                              #num_return_sequences = 5\n",
        ")\n",
        "\n",
        "print(\"Output:\\n\" + 100 * '-')\n",
        "for i, sample_output in enumerate(sample_outputs):\n",
        "    print(\"{}: {}...\".format(i, tokenizer.decode(sample_output, skip_special_tokens = True)))\n",
        "    print('')"
      ],
      "execution_count": 16,
      "outputs": [
        {
          "output_type": "stream",
          "text": [
            "Output:\n",
            "----------------------------------------------------------------------------------------------------\n",
            "0: Miley Cyrus was caught shoplifting from Abercrombie and Fitch on Hollywood Boulevard today. She's already been arrested in Los Angeles for the same crime. We can't wait for her to come back here and take over the world!\n",
            "\n",
            "She'll need a lot of practice!\n",
            "\n",
            "[via The Cut]...\n",
            "\n"
          ],
          "name": "stdout"
        }
      ]
    },
    {
      "cell_type": "markdown",
      "metadata": {
        "id": "x9Jp3L5BjVd2",
        "colab_type": "text"
      },
      "source": [
        "## \"Legolas and Gimli advanced on the orcs, raising their weapons with a harrowing war cry.\"\n",
        "\n",
        "**Can we use GPT-2 to imagine alternate histories of Lord of the Rings?**"
      ]
    },
    {
      "cell_type": "code",
      "metadata": {
        "trusted": true,
        "id": "o0CNCuIWjVd2",
        "colab_type": "code",
        "colab": {}
      },
      "source": [
        "prompt3 = 'Legolas and Gimli advanced on the orcs, raising their weapons with a harrowing war cry.'\n",
        "\n",
        "input_ids = tokenizer.encode(prompt3, return_tensors='tf')"
      ],
      "execution_count": 17,
      "outputs": []
    },
    {
      "cell_type": "code",
      "metadata": {
        "trusted": true,
        "id": "lYRDUrNMjVd3",
        "colab_type": "code",
        "colab": {
          "base_uri": "https://localhost:8080/",
          "height": 143
        },
        "outputId": "1e1f9189-3342-45eb-e322-a4eca4d1f3b0"
      },
      "source": [
        "sample_outputs = GPT2.generate(\n",
        "                              input_ids,\n",
        "                              do_sample = True, \n",
        "                              max_length = MAX_LEN,                              #to test how long we can generate and it be coherent\n",
        "                              #temperature = .8,\n",
        "                              top_k = 50, \n",
        "                              top_p = 0.85 \n",
        "                              #num_return_sequences = 5\n",
        ")\n",
        "\n",
        "print(\"Output:\\n\" + 100 * '-')\n",
        "for i, sample_output in enumerate(sample_outputs):\n",
        "    print(\"{}: {}...\".format(i, tokenizer.decode(sample_output, skip_special_tokens = True)))\n",
        "    print('')"
      ],
      "execution_count": 18,
      "outputs": [
        {
          "output_type": "stream",
          "text": [
            "Output:\n",
            "----------------------------------------------------------------------------------------------------\n",
            "0: Legolas and Gimli advanced on the orcs, raising their weapons with a harrowing war cry. The Orcs seemed to have no chance against the Elven army, as Gimli and Galadriel had long since prepared their bows and arrows and had come ready with shields.\n",
            "\n",
            "As they approached the Orcs, a huge Orc swung his shield and threw a great stone at Galadriel. She deflected the rock with her staff, striking the Orc in the chest and knocking him off his horse...\n",
            "\n"
          ],
          "name": "stdout"
        }
      ]
    },
    {
      "cell_type": "markdown",
      "metadata": {
        "id": "XSppBYUvjVd5",
        "colab_type": "text"
      },
      "source": [
        "## \"For today’s homework assignment, please describe the reasons for the US Civil War.\"\n",
        "\n",
        "**Can we use GPT-2 to do our homework?**"
      ]
    },
    {
      "cell_type": "code",
      "metadata": {
        "trusted": true,
        "id": "9gUEWPkZjVd5",
        "colab_type": "code",
        "colab": {}
      },
      "source": [
        "prompt4 = \"For today’s homework assignment, please describe the reasons for the US Civil War.\"\n",
        "\n",
        "input_ids = tokenizer.encode(prompt4, return_tensors='tf')"
      ],
      "execution_count": 19,
      "outputs": []
    },
    {
      "cell_type": "code",
      "metadata": {
        "trusted": true,
        "id": "G6nrgD9jjVd6",
        "colab_type": "code",
        "colab": {
          "base_uri": "https://localhost:8080/",
          "height": 250
        },
        "outputId": "f8858971-6475-44e3-af42-bac0c7b89d19"
      },
      "source": [
        "sample_outputs = GPT2.generate(\n",
        "                              input_ids,\n",
        "                              do_sample = True, \n",
        "                              max_length = MAX_LEN,                              #to test how long we can generate and it be coherent\n",
        "                              #temperature = .8,\n",
        "                              top_k = 50, \n",
        "                              top_p = 0.85 \n",
        "                              #num_return_sequences = 5\n",
        ")\n",
        "\n",
        "print(\"Output:\\n\" + 100 * '-')\n",
        "for i, sample_output in enumerate(sample_outputs):\n",
        "    print(\"{}: {}...\".format(i, tokenizer.decode(sample_output, skip_special_tokens = True)))\n",
        "    print('')"
      ],
      "execution_count": 20,
      "outputs": [
        {
          "output_type": "stream",
          "text": [
            "Output:\n",
            "----------------------------------------------------------------------------------------------------\n",
            "0: For today’s homework assignment, please describe the reasons for the US Civil War.\n",
            "\n",
            "\"The American Civil War started when Abraham Lincoln signed the Emancipation Proclamation in 1863. He then ordered the Union Army to withdraw from all Southern states and the war began. I can't think of any other reason for the US Civil War.\"\n",
            "\n",
            "Now that is an interesting question!\n",
            "\n",
            "Please try to remember that this is a homework assignment!\n",
            "\n",
            "Good luck and remember,...\n",
            "\n"
          ],
          "name": "stdout"
        }
      ]
    },
    {
      "cell_type": "markdown",
      "metadata": {
        "id": "R7EylNBnjVd8",
        "colab_type": "text"
      },
      "source": [
        "**Now we can see why OpenAI is hesitate to release their full scale model (recall, over 1.5 billion parameters) to the general public...it has the potential to do a lot of harm when used with malevolent intentions. Luckily, they have still provided us smaller versions that allow us to demonstrate just how powerful Transformer models are when applied to natural language and how they provide an analytical space from which to study linguistics.**\n",
        "\n",
        "**Feel free to fork this notebook and experiment with your own inputs and model parameters to see what type of computer generated stories you can create!**"
      ]
    },
    {
      "cell_type": "markdown",
      "metadata": {
        "id": "rGrAStS-jVd8",
        "colab_type": "text"
      },
      "source": [
        "# References\n",
        "\n",
        "**Below are the only references you need to implement your own GPT-2 model for text generation**\n",
        "\n",
        "\n",
        "> https://arxiv.org/abs/1904.09751  \n",
        "> https://openai.com/blog/better-language-models/  \n",
        "> https://huggingface.co/transformers/model_doc/gpt2.html  \n",
        "> https://huggingface.co/blog/how-to-generate  "
      ]
    }
  ]
}